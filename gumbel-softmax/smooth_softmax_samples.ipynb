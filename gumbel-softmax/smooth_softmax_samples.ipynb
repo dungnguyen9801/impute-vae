{
 "cells": [
  {
   "cell_type": "markdown",
   "metadata": {},
   "source": [
    "Let $s$ be a random variable with discrete probability distribution dependent on $\\theta$. Let $z$ be a Gaussian random variable with means and variances dependent on $\\theta$ and $s$. Say we have an objective function $L_{\\theta}(z)$. We want to compute the gradient of $L$ w.r.t $\\theta$. We would like to use Monte-Carlo, but note that the straight forward sampling of $(s,z)$ depend on $\\theta$. To compute the gradient using sampling, we will use three different methods: elemntary, Gumbel-softmax, log trick, and the compare them"
   ]
  },
  {
   "cell_type": "code",
   "execution_count": 66,
   "metadata": {},
   "outputs": [
    {
     "data": {
      "text/plain": [
       "(<tf.Tensor: id=3383, shape=(1, 1), dtype=float32, numpy=array([[0.9990226]], dtype=float32)>,\n",
       " <tf.Tensor: id=3406, shape=(), dtype=float32, numpy=0.99904543>)"
      ]
     },
     "execution_count": 66,
     "metadata": {},
     "output_type": "execute_result"
    }
   ],
   "source": [
    "import numpy as np\n",
    "from matplotlib import pyplot as plt\n",
    "from scipy import stats\n",
    "import tensorflow as tf\n",
    "\n",
    "dim = 10\n",
    "buckets = 5\n",
    "log_P = tf.Variable(np.random.normal(0,1, (1,buckets)).astype(np.float32))\n",
    "P = tf.keras.activations.softmax(log_P)\n",
    "A = tf.Variable(np.random.normal(0, 1, (dim + buckets,1)).astype(np.float32), 'A')\n",
    "B = tf.Variable(np.random.normal(0, 1, 1).astype(np.float32), 'B')\n",
    "C = tf.Variable(np.random.normal(0, 1, (dim + buckets,1)).astype(np.float32), 'C')\n",
    "D = tf.Variable(np.random.normal(0, 1, 1).astype(np.float32), 'D')\n",
    "X = tf.Variable(np.random.normal(0, 1, (1, dim)).astype(np.float32), 'X')\n",
    "\n",
    "def get_mu_log_sigma(ss_oh):\n",
    "    X_s = tf.concat([tf.broadcast_to(X, (len(ss_oh), dim)),ss_oh], axis=1)\n",
    "    mu = tf.sigmoid(tf.matmul(X_s,A) + B)\n",
    "    log_sigma = tf.matmul(X_s,C) + D\n",
    "    return mu, log_sigma\n",
    "    \n",
    "L1=100\n",
    "L2=1000\n",
    "seed=1\n",
    "\n",
    "def elem_mean():\n",
    "    ss = np.arange(buckets)\n",
    "    ss_oh = tf.keras.backend.one_hot(ss, buckets)\n",
    "    mu, log_sigma = get_mu_log_sigma(ss_oh)\n",
    "    sigma = tf.exp(log_sigma)\n",
    "    return tf.matmul(P,mu)\n",
    "\n",
    "def gumbel_mean(tau=0.01):\n",
    "    gs = np.random.uniform(0, 1, (L1, buckets))\n",
    "    gs = -np.log(-np.log(gs))\n",
    "    ss_oh = tf.keras.activations.softmax((log_P + gs)/tau)\n",
    "    mu, log_sigma = get_mu_log_sigma(ss_oh)\n",
    "    sigma = tf.exp(log_sigma)\n",
    "    return tf.reduce_mean(mu)\n",
    "\n",
    "\n",
    "def elem_loss():\n",
    "    ss = np.arange(buckets)\n",
    "    ss_oh = tf.keras.backend.one_hot(ss, buckets)\n",
    "    mu, log_sigma = get_mu_log_sigma(ss_oh)\n",
    "    sigma = tf.exp(log_sigma)\n",
    "    np.random.seed(seed)\n",
    "    zs = np.random.normal(0,1,(len(P), L2)) * sigma + mu\n",
    "    return tf.reduce_mean(tf.matmul(P, zs**2))\n",
    "\n",
    "def gumbel_loss(tau=0.01):\n",
    "    gs = np.random.uniform(0, 1, (L1, buckets))\n",
    "    gs = -np.log(-np.log(gs))\n",
    "    ss_oh = tf.keras.activations.softmax((log_P + gs)/tau)\n",
    "    mu, log_sigma = get_mu_log_sigma(ss_oh)\n",
    "    sigma = tf.exp(log_sigma)\n",
    "    np.random.seed(seed)\n",
    "    zs = np.random.normal(0,1,(1, L2)) * sigma + mu\n",
    "    return tf.reduce_mean(zs**2)\n",
    "\n",
    "elem_mean(), gumbel_mean()"
   ]
  },
  {
   "cell_type": "code",
   "execution_count": null,
   "metadata": {},
   "outputs": [],
   "source": []
  },
  {
   "cell_type": "code",
   "execution_count": null,
   "metadata": {},
   "outputs": [],
   "source": []
  }
 ],
 "metadata": {
  "kernelspec": {
   "display_name": "Python 3",
   "language": "python",
   "name": "python3"
  },
  "language_info": {
   "codemirror_mode": {
    "name": "ipython",
    "version": 3
   },
   "file_extension": ".py",
   "mimetype": "text/x-python",
   "name": "python",
   "nbconvert_exporter": "python",
   "pygments_lexer": "ipython3",
   "version": "3.7.3"
  }
 },
 "nbformat": 4,
 "nbformat_minor": 2
}
