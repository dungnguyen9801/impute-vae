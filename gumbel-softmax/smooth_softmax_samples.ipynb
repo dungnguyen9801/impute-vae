{
 "cells": [
  {
   "cell_type": "markdown",
   "metadata": {},
   "source": [
    "Let $s$ be a random variable with discrete probability distribution dependent on $\\theta$. Let $z$ be a Gaussian random variable with means and variances dependent on $\\theta$ and $s$. Say we have an objective function $L_{\\theta}(z)$. We want to compute the gradient of $L$ w.r.t $\\theta$. We would like to use Monte-Carlo, but note that the straight forward sampling of $(s,z)$ depend on $\\theta$. To compute the gradient using sampling, we will use three different methods: elemntary, Gumbel-softmax, log trick, and the compare them"
   ]
  },
  {
   "cell_type": "code",
   "execution_count": 33,
   "metadata": {},
   "outputs": [],
   "source": [
    "import numpy as np\n",
    "from matplotlib import pyplot as plt\n",
    "from scipy import stats\n",
    "import tensorflow as tf\n",
    "\n",
    "dim = 10\n",
    "buckets = 5\n",
    "log_P = tf.Variable(np.random.normal(0,1, (1,buckets)))\n",
    "A = tf.Variable(np.random.normal(0, 1, (dim + buckets,1)), 'A')\n",
    "B = tf.Variable(np.random.normal(0, 1, 1), 'B')\n",
    "C = tf.Variable(np.random.normal(0, 1, (dim + buckets,1)), 'C')\n",
    "D = tf.Variable(np.random.normal(0, 1, 1), 'D')\n",
    "X = tf.Variable(np.random.normal(0, 1, (1, dim)), 'X')\n",
    "\n",
    "def get_mu_log_sigma(ss):\n",
    "    ss_oh = tf.keras.backend.one_hot(ss, buckets)\n",
    "    X_s = tf.concat([tf.broadcast_to(X, (len(ss), len(X))),ss_oh], axix=0)\n",
    "    mu = tf.sigmoid(tf.matmul(X,A) + B)\n",
    "    log_sigma = tf.matmul(X,C) + D\n",
    "    return mu, log_sigma\n",
    "    \n",
    "L=100\n",
    "seed=1\n",
    "\n",
    "def elem_loss():\n",
    "    P = tf.keras.activations.softmax(log_P)\n",
    "    ss = np.arange(buckets)\n",
    "    mu, log_sigma = get_mu_log_sigma(ss)\n",
    "    sigma = tf.exp(log_sigma)\n",
    "    zs = np.random.normal(0,1,(len(P), 1)) * sigma + mu\n",
    "    return tf.matmul(P, zs**4)\n",
    "\n",
    "def gumbel_loss():\n",
    "    \n",
    "\n",
    "\n"
   ]
  },
  {
   "cell_type": "code",
   "execution_count": 1,
   "metadata": {},
   "outputs": [],
   "source": [
    "def loss(z):\n",
    "    pass\n",
    "def P_s(theta, s):\n",
    "    pass\n",
    "def P_z(s, z):\n",
    "    pass\n",
    "def s_sample_space():\n",
    "    pass"
   ]
  },
  {
   "cell_type": "code",
   "execution_count": null,
   "metadata": {},
   "outputs": [],
   "source": [
    "def elem_grad(loss, theta):\n",
    "    ss = s_sample_space()\n",
    "    "
   ]
  },
  {
   "cell_type": "code",
   "execution_count": 27,
   "metadata": {},
   "outputs": [
    {
     "data": {
      "text/plain": [
       "<tf.Tensor: id=120, shape=(2, 11), dtype=float32, numpy=\n",
       "array([[0., 1., 0., 0., 0., 0., 0., 0., 0., 0., 0.],\n",
       "       [0., 0., 0., 0., 0., 0., 0., 0., 0., 1., 0.]], dtype=float32)>"
      ]
     },
     "execution_count": 27,
     "metadata": {},
     "output_type": "execute_result"
    }
   ],
   "source": [
    "tf.keras.backend.one_hot([1,9], 11)"
   ]
  },
  {
   "cell_type": "code",
   "execution_count": 20,
   "metadata": {},
   "outputs": [
    {
     "data": {
      "text/plain": [
       "<tf.Tensor: id=63, shape=(2, 1), dtype=int32, numpy=\n",
       "array([[2],\n",
       "       [3]], dtype=int32)>"
      ]
     },
     "execution_count": 20,
     "metadata": {},
     "output_type": "execute_result"
    }
   ],
   "source": [
    "tf.concat([[[2]],[[3]]], axis=0)"
   ]
  },
  {
   "cell_type": "code",
   "execution_count": 26,
   "metadata": {},
   "outputs": [
    {
     "data": {
      "text/plain": [
       "<tf.Tensor: id=115, shape=(1, 5), dtype=float64, numpy=array([[0.19495575, 0.03686507, 0.25628205, 0.25064562, 0.26125152]])>"
      ]
     },
     "execution_count": 26,
     "metadata": {},
     "output_type": "execute_result"
    }
   ],
   "source": [
    "tf.keras.activations.softmax(tf.Variable(np.random.normal(0,1,(1,buckets))))"
   ]
  },
  {
   "cell_type": "code",
   "execution_count": 28,
   "metadata": {},
   "outputs": [
    {
     "data": {
      "text/plain": [
       "array([0, 1, 2, 3, 4])"
      ]
     },
     "execution_count": 28,
     "metadata": {},
     "output_type": "execute_result"
    }
   ],
   "source": [
    "np.arange(5)"
   ]
  },
  {
   "cell_type": "code",
   "execution_count": null,
   "metadata": {},
   "outputs": [],
   "source": []
  }
 ],
 "metadata": {
  "kernelspec": {
   "display_name": "Python 3",
   "language": "python",
   "name": "python3"
  },
  "language_info": {
   "codemirror_mode": {
    "name": "ipython",
    "version": 3
   },
   "file_extension": ".py",
   "mimetype": "text/x-python",
   "name": "python",
   "nbconvert_exporter": "python",
   "pygments_lexer": "ipython3",
   "version": "3.7.3"
  }
 },
 "nbformat": 4,
 "nbformat_minor": 2
}
