{
 "cells": [
  {
   "cell_type": "code",
   "execution_count": 1,
   "metadata": {},
   "outputs": [],
   "source": [
    "import sys\n",
    "import time\n",
    "sys.path.append('../shared')\n",
    "import tensorflow as tf\n",
    "import pandas as pd\n",
    "import numpy as np\n",
    "from tensorflow import keras\n",
    "import matplotlib.pyplot as plt\n",
    "import copy\n",
    "import elbo_calculator as ec\n",
    "import train\n",
    "import argparse\n",
    "import os\n",
    "import model_hi_vae as mhv\n",
    "from scipy.io import loadmat\n",
    "%load_ext autoreload"
   ]
  },
  {
   "cell_type": "code",
   "execution_count": 2,
   "metadata": {},
   "outputs": [],
   "source": [
    "column_types=[1,1,0,3,2,1]\n",
    "input_dim = 9\n",
    "hidden_dim =3\n",
    "latent_dim=4\n",
    "s_dim=2\n",
    "x_dim = 9"
   ]
  },
  {
   "cell_type": "code",
   "execution_count": 3,
   "metadata": {},
   "outputs": [],
   "source": [
    "rows = 100"
   ]
  },
  {
   "cell_type": "code",
   "execution_count": 4,
   "metadata": {},
   "outputs": [],
   "source": [
    "x0 = np.random.normal(1,2,size=(rows,1))\n",
    "x1 = np.random.normal(0,1,size=(rows,1))\n",
    "x2 = np.log(np.random.poisson(1.5,size=(rows,1))+ 0.01)\n",
    "x3 = tf.one_hot(np.random.randint(0,3,size=rows),3).numpy()\n",
    "x4 = tf.one_hot(np.random.randint(0,2,size=rows),2).numpy()\n",
    "x5 = np.random.normal(0.5,1,size=(rows,1))"
   ]
  },
  {
   "cell_type": "code",
   "execution_count": 5,
   "metadata": {},
   "outputs": [],
   "source": [
    "x = tf.concat([x0,x1,x2,x3,x4,x5], axis=-1).numpy().astype(np.float32)"
   ]
  },
  {
   "cell_type": "code",
   "execution_count": 6,
   "metadata": {},
   "outputs": [
    {
     "data": {
      "text/plain": [
       "array([0.19690697, 0.59753865, 1.3887912 , 0.        , 1.        ,\n",
       "       0.        , 1.        , 0.        , 1.1597451 ], dtype=float32)"
      ]
     },
     "execution_count": 6,
     "metadata": {},
     "output_type": "execute_result"
    }
   ],
   "source": [
    "x[0]"
   ]
  },
  {
   "cell_type": "code",
   "execution_count": 7,
   "metadata": {},
   "outputs": [],
   "source": [
    "model = mhv.model_hi_vae(input_dim, hidden_dim, latent_dim, s_dim, column_types)"
   ]
  },
  {
   "cell_type": "code",
   "execution_count": 8,
   "metadata": {},
   "outputs": [
    {
     "name": "stdout",
     "output_type": "stream",
     "text": [
      "WARNING:tensorflow:Entity <bound method TensorFlowOpLayer._defun_call of <tensorflow.python.eager.function.TfMethodTarget object at 0x7fa0f3b3f8d0>> could not be transformed and will be executed as-is. Please report this to the AutoGraph team. When filing the bug, set the verbosity to 10 (on Linux, `export AUTOGRAPH_VERBOSITY=10`) and attach the full output. Cause: Bad argument number for Name: 3, expecting 4\n",
      "WARNING: Entity <bound method TensorFlowOpLayer._defun_call of <tensorflow.python.eager.function.TfMethodTarget object at 0x7fa0f3b3f8d0>> could not be transformed and will be executed as-is. Please report this to the AutoGraph team. When filing the bug, set the verbosity to 10 (on Linux, `export AUTOGRAPH_VERBOSITY=10`) and attach the full output. Cause: Bad argument number for Name: 3, expecting 4\n",
      "WARNING:tensorflow:Entity <bound method TensorFlowOpLayer._defun_call of <tensorflow.python.eager.function.TfMethodTarget object at 0x7fa0d1f876a0>> could not be transformed and will be executed as-is. Please report this to the AutoGraph team. When filing the bug, set the verbosity to 10 (on Linux, `export AUTOGRAPH_VERBOSITY=10`) and attach the full output. Cause: Bad argument number for Name: 3, expecting 4\n",
      "WARNING: Entity <bound method TensorFlowOpLayer._defun_call of <tensorflow.python.eager.function.TfMethodTarget object at 0x7fa0d1f876a0>> could not be transformed and will be executed as-is. Please report this to the AutoGraph team. When filing the bug, set the verbosity to 10 (on Linux, `export AUTOGRAPH_VERBOSITY=10`) and attach the full output. Cause: Bad argument number for Name: 3, expecting 4\n",
      "WARNING:tensorflow:Entity <bound method TensorFlowOpLayer._defun_call of <tensorflow.python.eager.function.TfMethodTarget object at 0x7fa0d1f824a8>> could not be transformed and will be executed as-is. Please report this to the AutoGraph team. When filing the bug, set the verbosity to 10 (on Linux, `export AUTOGRAPH_VERBOSITY=10`) and attach the full output. Cause: Bad argument number for Name: 3, expecting 4\n",
      "WARNING: Entity <bound method TensorFlowOpLayer._defun_call of <tensorflow.python.eager.function.TfMethodTarget object at 0x7fa0d1f824a8>> could not be transformed and will be executed as-is. Please report this to the AutoGraph team. When filing the bug, set the verbosity to 10 (on Linux, `export AUTOGRAPH_VERBOSITY=10`) and attach the full output. Cause: Bad argument number for Name: 3, expecting 4\n",
      "WARNING:tensorflow:Entity <bound method TensorFlowOpLayer._defun_call of <tensorflow.python.eager.function.TfMethodTarget object at 0x7fa0d1fa9978>> could not be transformed and will be executed as-is. Please report this to the AutoGraph team. When filing the bug, set the verbosity to 10 (on Linux, `export AUTOGRAPH_VERBOSITY=10`) and attach the full output. Cause: Bad argument number for Name: 3, expecting 4\n",
      "WARNING: Entity <bound method TensorFlowOpLayer._defun_call of <tensorflow.python.eager.function.TfMethodTarget object at 0x7fa0d1fa9978>> could not be transformed and will be executed as-is. Please report this to the AutoGraph team. When filing the bug, set the verbosity to 10 (on Linux, `export AUTOGRAPH_VERBOSITY=10`) and attach the full output. Cause: Bad argument number for Name: 3, expecting 4\n",
      "WARNING:tensorflow:Entity <bound method TensorFlowOpLayer._defun_call of <tensorflow.python.eager.function.TfMethodTarget object at 0x7fa0d1f822b0>> could not be transformed and will be executed as-is. Please report this to the AutoGraph team. When filing the bug, set the verbosity to 10 (on Linux, `export AUTOGRAPH_VERBOSITY=10`) and attach the full output. Cause: Bad argument number for Name: 3, expecting 4\n",
      "WARNING: Entity <bound method TensorFlowOpLayer._defun_call of <tensorflow.python.eager.function.TfMethodTarget object at 0x7fa0d1f822b0>> could not be transformed and will be executed as-is. Please report this to the AutoGraph team. When filing the bug, set the verbosity to 10 (on Linux, `export AUTOGRAPH_VERBOSITY=10`) and attach the full output. Cause: Bad argument number for Name: 3, expecting 4\n",
      "WARNING:tensorflow:Entity <bound method TensorFlowOpLayer._defun_call of <tensorflow.python.eager.function.TfMethodTarget object at 0x7fa0d1f7a710>> could not be transformed and will be executed as-is. Please report this to the AutoGraph team. When filing the bug, set the verbosity to 10 (on Linux, `export AUTOGRAPH_VERBOSITY=10`) and attach the full output. Cause: Bad argument number for Name: 3, expecting 4\n",
      "WARNING: Entity <bound method TensorFlowOpLayer._defun_call of <tensorflow.python.eager.function.TfMethodTarget object at 0x7fa0d1f7a710>> could not be transformed and will be executed as-is. Please report this to the AutoGraph team. When filing the bug, set the verbosity to 10 (on Linux, `export AUTOGRAPH_VERBOSITY=10`) and attach the full output. Cause: Bad argument number for Name: 3, expecting 4\n",
      "WARNING:tensorflow:Entity <bound method TensorFlowOpLayer._defun_call of <tensorflow.python.eager.function.TfMethodTarget object at 0x7fa0d1f6be48>> could not be transformed and will be executed as-is. Please report this to the AutoGraph team. When filing the bug, set the verbosity to 10 (on Linux, `export AUTOGRAPH_VERBOSITY=10`) and attach the full output. Cause: Bad argument number for Name: 3, expecting 4\n",
      "WARNING: Entity <bound method TensorFlowOpLayer._defun_call of <tensorflow.python.eager.function.TfMethodTarget object at 0x7fa0d1f6be48>> could not be transformed and will be executed as-is. Please report this to the AutoGraph team. When filing the bug, set the verbosity to 10 (on Linux, `export AUTOGRAPH_VERBOSITY=10`) and attach the full output. Cause: Bad argument number for Name: 3, expecting 4\n",
      "WARNING:tensorflow:Entity <bound method TensorFlowOpLayer._defun_call of <tensorflow.python.eager.function.TfMethodTarget object at 0x7fa0d1ed0a20>> could not be transformed and will be executed as-is. Please report this to the AutoGraph team. When filing the bug, set the verbosity to 10 (on Linux, `export AUTOGRAPH_VERBOSITY=10`) and attach the full output. Cause: Bad argument number for Name: 3, expecting 4\n",
      "WARNING: Entity <bound method TensorFlowOpLayer._defun_call of <tensorflow.python.eager.function.TfMethodTarget object at 0x7fa0d1ed0a20>> could not be transformed and will be executed as-is. Please report this to the AutoGraph team. When filing the bug, set the verbosity to 10 (on Linux, `export AUTOGRAPH_VERBOSITY=10`) and attach the full output. Cause: Bad argument number for Name: 3, expecting 4\n",
      "WARNING:tensorflow:Entity <bound method TensorFlowOpLayer._defun_call of <tensorflow.python.eager.function.TfMethodTarget object at 0x7fa0d1ee4978>> could not be transformed and will be executed as-is. Please report this to the AutoGraph team. When filing the bug, set the verbosity to 10 (on Linux, `export AUTOGRAPH_VERBOSITY=10`) and attach the full output. Cause: Bad argument number for Name: 3, expecting 4\n",
      "WARNING: Entity <bound method TensorFlowOpLayer._defun_call of <tensorflow.python.eager.function.TfMethodTarget object at 0x7fa0d1ee4978>> could not be transformed and will be executed as-is. Please report this to the AutoGraph team. When filing the bug, set the verbosity to 10 (on Linux, `export AUTOGRAPH_VERBOSITY=10`) and attach the full output. Cause: Bad argument number for Name: 3, expecting 4\n",
      "WARNING:tensorflow:Entity <bound method TensorFlowOpLayer._defun_call of <tensorflow.python.eager.function.TfMethodTarget object at 0x7fa0d1f03a90>> could not be transformed and will be executed as-is. Please report this to the AutoGraph team. When filing the bug, set the verbosity to 10 (on Linux, `export AUTOGRAPH_VERBOSITY=10`) and attach the full output. Cause: Bad argument number for Name: 3, expecting 4\n",
      "WARNING: Entity <bound method TensorFlowOpLayer._defun_call of <tensorflow.python.eager.function.TfMethodTarget object at 0x7fa0d1f03a90>> could not be transformed and will be executed as-is. Please report this to the AutoGraph team. When filing the bug, set the verbosity to 10 (on Linux, `export AUTOGRAPH_VERBOSITY=10`) and attach the full output. Cause: Bad argument number for Name: 3, expecting 4\n",
      "WARNING:tensorflow:Entity <bound method TensorFlowOpLayer._defun_call of <tensorflow.python.eager.function.TfMethodTarget object at 0x7fa0d1e820f0>> could not be transformed and will be executed as-is. Please report this to the AutoGraph team. When filing the bug, set the verbosity to 10 (on Linux, `export AUTOGRAPH_VERBOSITY=10`) and attach the full output. Cause: Bad argument number for Name: 3, expecting 4\n"
     ]
    },
    {
     "name": "stdout",
     "output_type": "stream",
     "text": [
      "WARNING: Entity <bound method TensorFlowOpLayer._defun_call of <tensorflow.python.eager.function.TfMethodTarget object at 0x7fa0d1e820f0>> could not be transformed and will be executed as-is. Please report this to the AutoGraph team. When filing the bug, set the verbosity to 10 (on Linux, `export AUTOGRAPH_VERBOSITY=10`) and attach the full output. Cause: Bad argument number for Name: 3, expecting 4\n",
      "WARNING:tensorflow:Entity <bound method TensorFlowOpLayer._defun_call of <tensorflow.python.eager.function.TfMethodTarget object at 0x7fa0d1e82710>> could not be transformed and will be executed as-is. Please report this to the AutoGraph team. When filing the bug, set the verbosity to 10 (on Linux, `export AUTOGRAPH_VERBOSITY=10`) and attach the full output. Cause: Bad argument number for Name: 3, expecting 4\n",
      "WARNING: Entity <bound method TensorFlowOpLayer._defun_call of <tensorflow.python.eager.function.TfMethodTarget object at 0x7fa0d1e82710>> could not be transformed and will be executed as-is. Please report this to the AutoGraph team. When filing the bug, set the verbosity to 10 (on Linux, `export AUTOGRAPH_VERBOSITY=10`) and attach the full output. Cause: Bad argument number for Name: 3, expecting 4\n",
      "WARNING:tensorflow:Entity <bound method TensorFlowOpLayer._defun_call of <tensorflow.python.eager.function.TfMethodTarget object at 0x7fa0d1e90c88>> could not be transformed and will be executed as-is. Please report this to the AutoGraph team. When filing the bug, set the verbosity to 10 (on Linux, `export AUTOGRAPH_VERBOSITY=10`) and attach the full output. Cause: Bad argument number for Name: 3, expecting 4\n",
      "WARNING: Entity <bound method TensorFlowOpLayer._defun_call of <tensorflow.python.eager.function.TfMethodTarget object at 0x7fa0d1e90c88>> could not be transformed and will be executed as-is. Please report this to the AutoGraph team. When filing the bug, set the verbosity to 10 (on Linux, `export AUTOGRAPH_VERBOSITY=10`) and attach the full output. Cause: Bad argument number for Name: 3, expecting 4\n",
      "WARNING:tensorflow:Entity <bound method TensorFlowOpLayer._defun_call of <tensorflow.python.eager.function.TfMethodTarget object at 0x7fa0d1ea1f60>> could not be transformed and will be executed as-is. Please report this to the AutoGraph team. When filing the bug, set the verbosity to 10 (on Linux, `export AUTOGRAPH_VERBOSITY=10`) and attach the full output. Cause: Bad argument number for Name: 3, expecting 4\n",
      "WARNING: Entity <bound method TensorFlowOpLayer._defun_call of <tensorflow.python.eager.function.TfMethodTarget object at 0x7fa0d1ea1f60>> could not be transformed and will be executed as-is. Please report this to the AutoGraph team. When filing the bug, set the verbosity to 10 (on Linux, `export AUTOGRAPH_VERBOSITY=10`) and attach the full output. Cause: Bad argument number for Name: 3, expecting 4\n",
      "WARNING:tensorflow:Entity <bound method TensorFlowOpLayer._defun_call of <tensorflow.python.eager.function.TfMethodTarget object at 0x7fa0d1eb09e8>> could not be transformed and will be executed as-is. Please report this to the AutoGraph team. When filing the bug, set the verbosity to 10 (on Linux, `export AUTOGRAPH_VERBOSITY=10`) and attach the full output. Cause: Bad argument number for Name: 3, expecting 4\n",
      "WARNING: Entity <bound method TensorFlowOpLayer._defun_call of <tensorflow.python.eager.function.TfMethodTarget object at 0x7fa0d1eb09e8>> could not be transformed and will be executed as-is. Please report this to the AutoGraph team. When filing the bug, set the verbosity to 10 (on Linux, `export AUTOGRAPH_VERBOSITY=10`) and attach the full output. Cause: Bad argument number for Name: 3, expecting 4\n",
      "WARNING:tensorflow:Entity <bound method TensorFlowOpLayer._defun_call of <tensorflow.python.eager.function.TfMethodTarget object at 0x7fa130437278>> could not be transformed and will be executed as-is. Please report this to the AutoGraph team. When filing the bug, set the verbosity to 10 (on Linux, `export AUTOGRAPH_VERBOSITY=10`) and attach the full output. Cause: Bad argument number for Name: 3, expecting 4\n",
      "WARNING: Entity <bound method TensorFlowOpLayer._defun_call of <tensorflow.python.eager.function.TfMethodTarget object at 0x7fa130437278>> could not be transformed and will be executed as-is. Please report this to the AutoGraph team. When filing the bug, set the verbosity to 10 (on Linux, `export AUTOGRAPH_VERBOSITY=10`) and attach the full output. Cause: Bad argument number for Name: 3, expecting 4\n",
      "WARNING:tensorflow:Entity <bound method TensorFlowOpLayer._defun_call of <tensorflow.python.eager.function.TfMethodTarget object at 0x7fa0d1956be0>> could not be transformed and will be executed as-is. Please report this to the AutoGraph team. When filing the bug, set the verbosity to 10 (on Linux, `export AUTOGRAPH_VERBOSITY=10`) and attach the full output. Cause: Bad argument number for Name: 3, expecting 4\n",
      "WARNING: Entity <bound method TensorFlowOpLayer._defun_call of <tensorflow.python.eager.function.TfMethodTarget object at 0x7fa0d1956be0>> could not be transformed and will be executed as-is. Please report this to the AutoGraph team. When filing the bug, set the verbosity to 10 (on Linux, `export AUTOGRAPH_VERBOSITY=10`) and attach the full output. Cause: Bad argument number for Name: 3, expecting 4\n",
      "WARNING:tensorflow:Entity <bound method TensorFlowOpLayer._defun_call of <tensorflow.python.eager.function.TfMethodTarget object at 0x7fa0d1971a58>> could not be transformed and will be executed as-is. Please report this to the AutoGraph team. When filing the bug, set the verbosity to 10 (on Linux, `export AUTOGRAPH_VERBOSITY=10`) and attach the full output. Cause: Bad argument number for Name: 3, expecting 4\n",
      "WARNING: Entity <bound method TensorFlowOpLayer._defun_call of <tensorflow.python.eager.function.TfMethodTarget object at 0x7fa0d1971a58>> could not be transformed and will be executed as-is. Please report this to the AutoGraph team. When filing the bug, set the verbosity to 10 (on Linux, `export AUTOGRAPH_VERBOSITY=10`) and attach the full output. Cause: Bad argument number for Name: 3, expecting 4\n",
      "WARNING:tensorflow:Entity <bound method TensorFlowOpLayer._defun_call of <tensorflow.python.eager.function.TfMethodTarget object at 0x7fa0d1906240>> could not be transformed and will be executed as-is. Please report this to the AutoGraph team. When filing the bug, set the verbosity to 10 (on Linux, `export AUTOGRAPH_VERBOSITY=10`) and attach the full output. Cause: Bad argument number for Name: 3, expecting 4\n",
      "WARNING: Entity <bound method TensorFlowOpLayer._defun_call of <tensorflow.python.eager.function.TfMethodTarget object at 0x7fa0d1906240>> could not be transformed and will be executed as-is. Please report this to the AutoGraph team. When filing the bug, set the verbosity to 10 (on Linux, `export AUTOGRAPH_VERBOSITY=10`) and attach the full output. Cause: Bad argument number for Name: 3, expecting 4\n",
      "WARNING:tensorflow:Entity <bound method TensorFlowOpLayer._defun_call of <tensorflow.python.eager.function.TfMethodTarget object at 0x7fa0d1f03be0>> could not be transformed and will be executed as-is. Please report this to the AutoGraph team. When filing the bug, set the verbosity to 10 (on Linux, `export AUTOGRAPH_VERBOSITY=10`) and attach the full output. Cause: Bad argument number for Name: 3, expecting 4\n",
      "WARNING: Entity <bound method TensorFlowOpLayer._defun_call of <tensorflow.python.eager.function.TfMethodTarget object at 0x7fa0d1f03be0>> could not be transformed and will be executed as-is. Please report this to the AutoGraph team. When filing the bug, set the verbosity to 10 (on Linux, `export AUTOGRAPH_VERBOSITY=10`) and attach the full output. Cause: Bad argument number for Name: 3, expecting 4\n",
      "WARNING:tensorflow:Entity <bound method TensorFlowOpLayer._defun_call of <tensorflow.python.eager.function.TfMethodTarget object at 0x7fa0d1914d68>> could not be transformed and will be executed as-is. Please report this to the AutoGraph team. When filing the bug, set the verbosity to 10 (on Linux, `export AUTOGRAPH_VERBOSITY=10`) and attach the full output. Cause: Bad argument number for Name: 3, expecting 4\n",
      "WARNING: Entity <bound method TensorFlowOpLayer._defun_call of <tensorflow.python.eager.function.TfMethodTarget object at 0x7fa0d1914d68>> could not be transformed and will be executed as-is. Please report this to the AutoGraph team. When filing the bug, set the verbosity to 10 (on Linux, `export AUTOGRAPH_VERBOSITY=10`) and attach the full output. Cause: Bad argument number for Name: 3, expecting 4\n"
     ]
    },
    {
     "name": "stdout",
     "output_type": "stream",
     "text": [
      "WARNING:tensorflow:Entity <bound method TensorFlowOpLayer._defun_call of <tensorflow.python.eager.function.TfMethodTarget object at 0x7fa0d1925d30>> could not be transformed and will be executed as-is. Please report this to the AutoGraph team. When filing the bug, set the verbosity to 10 (on Linux, `export AUTOGRAPH_VERBOSITY=10`) and attach the full output. Cause: Bad argument number for Name: 3, expecting 4\n",
      "WARNING: Entity <bound method TensorFlowOpLayer._defun_call of <tensorflow.python.eager.function.TfMethodTarget object at 0x7fa0d1925d30>> could not be transformed and will be executed as-is. Please report this to the AutoGraph team. When filing the bug, set the verbosity to 10 (on Linux, `export AUTOGRAPH_VERBOSITY=10`) and attach the full output. Cause: Bad argument number for Name: 3, expecting 4\n",
      "WARNING:tensorflow:Entity <bound method TensorFlowOpLayer._defun_call of <tensorflow.python.eager.function.TfMethodTarget object at 0x7fa0d19349b0>> could not be transformed and will be executed as-is. Please report this to the AutoGraph team. When filing the bug, set the verbosity to 10 (on Linux, `export AUTOGRAPH_VERBOSITY=10`) and attach the full output. Cause: Bad argument number for Name: 3, expecting 4\n",
      "WARNING: Entity <bound method TensorFlowOpLayer._defun_call of <tensorflow.python.eager.function.TfMethodTarget object at 0x7fa0d19349b0>> could not be transformed and will be executed as-is. Please report this to the AutoGraph team. When filing the bug, set the verbosity to 10 (on Linux, `export AUTOGRAPH_VERBOSITY=10`) and attach the full output. Cause: Bad argument number for Name: 3, expecting 4\n"
     ]
    }
   ],
   "source": [
    "z = model.encoder(x)"
   ]
  },
  {
   "cell_type": "code",
   "execution_count": 9,
   "metadata": {},
   "outputs": [],
   "source": [
    "gen_z_func =model.get_z_generator()"
   ]
  },
  {
   "cell_type": "code",
   "execution_count": 10,
   "metadata": {},
   "outputs": [],
   "source": [
    "zs =gen_z_func(x)\n",
    "zs, s_probs, beta, gamma= zs"
   ]
  },
  {
   "cell_type": "code",
   "execution_count": 11,
   "metadata": {},
   "outputs": [
    {
     "data": {
      "text/plain": [
       "<tf.Tensor: id=1218, shape=(20000, 4), dtype=float32, numpy=\n",
       "array([[-1.057198  ,  0.4361452 , -3.6503868 ,  0.6518972 ],\n",
       "       [-0.1734522 , -0.52885145,  4.0464845 , -0.29732847],\n",
       "       [ 1.5751421 , -0.6329493 ,  0.3838786 , -0.32627642],\n",
       "       ...,\n",
       "       [ 0.73139733, -0.48381054,  1.391893  , -0.38421357],\n",
       "       [ 1.9941709 ,  0.22142625, -3.5577025 ,  0.5021337 ],\n",
       "       [ 0.56300926,  0.12458229,  0.729203  , -0.21117598]],\n",
       "      dtype=float32)>"
      ]
     },
     "execution_count": 11,
     "metadata": {},
     "output_type": "execute_result"
    }
   ],
   "source": [
    "tf.reshape(zs,(-1, zs.shape[-1]))"
   ]
  },
  {
   "cell_type": "code",
   "execution_count": 12,
   "metadata": {},
   "outputs": [
    {
     "name": "stdout",
     "output_type": "stream",
     "text": [
      "WARNING:tensorflow:Entity <bound method TensorFlowOpLayer._defun_call of <tensorflow.python.eager.function.TfMethodTarget object at 0x7fa0d18de630>> could not be transformed and will be executed as-is. Please report this to the AutoGraph team. When filing the bug, set the verbosity to 10 (on Linux, `export AUTOGRAPH_VERBOSITY=10`) and attach the full output. Cause: Bad argument number for Name: 3, expecting 4\n",
      "WARNING: Entity <bound method TensorFlowOpLayer._defun_call of <tensorflow.python.eager.function.TfMethodTarget object at 0x7fa0d18de630>> could not be transformed and will be executed as-is. Please report this to the AutoGraph team. When filing the bug, set the verbosity to 10 (on Linux, `export AUTOGRAPH_VERBOSITY=10`) and attach the full output. Cause: Bad argument number for Name: 3, expecting 4\n",
      "WARNING:tensorflow:Entity <bound method TensorFlowOpLayer._defun_call of <tensorflow.python.eager.function.TfMethodTarget object at 0x7fa0d1ff1be0>> could not be transformed and will be executed as-is. Please report this to the AutoGraph team. When filing the bug, set the verbosity to 10 (on Linux, `export AUTOGRAPH_VERBOSITY=10`) and attach the full output. Cause: Bad argument number for Name: 3, expecting 4\n",
      "WARNING: Entity <bound method TensorFlowOpLayer._defun_call of <tensorflow.python.eager.function.TfMethodTarget object at 0x7fa0d1ff1be0>> could not be transformed and will be executed as-is. Please report this to the AutoGraph team. When filing the bug, set the verbosity to 10 (on Linux, `export AUTOGRAPH_VERBOSITY=10`) and attach the full output. Cause: Bad argument number for Name: 3, expecting 4\n",
      "WARNING:tensorflow:Entity <bound method TensorFlowOpLayer._defun_call of <tensorflow.python.eager.function.TfMethodTarget object at 0x7fa0d18dea20>> could not be transformed and will be executed as-is. Please report this to the AutoGraph team. When filing the bug, set the verbosity to 10 (on Linux, `export AUTOGRAPH_VERBOSITY=10`) and attach the full output. Cause: Bad argument number for Name: 3, expecting 4\n",
      "WARNING: Entity <bound method TensorFlowOpLayer._defun_call of <tensorflow.python.eager.function.TfMethodTarget object at 0x7fa0d18dea20>> could not be transformed and will be executed as-is. Please report this to the AutoGraph team. When filing the bug, set the verbosity to 10 (on Linux, `export AUTOGRAPH_VERBOSITY=10`) and attach the full output. Cause: Bad argument number for Name: 3, expecting 4\n",
      "WARNING:tensorflow:Entity <bound method TensorFlowOpLayer._defun_call of <tensorflow.python.eager.function.TfMethodTarget object at 0x7fa0d18f3cc0>> could not be transformed and will be executed as-is. Please report this to the AutoGraph team. When filing the bug, set the verbosity to 10 (on Linux, `export AUTOGRAPH_VERBOSITY=10`) and attach the full output. Cause: Bad argument number for Name: 3, expecting 4\n",
      "WARNING: Entity <bound method TensorFlowOpLayer._defun_call of <tensorflow.python.eager.function.TfMethodTarget object at 0x7fa0d18f3cc0>> could not be transformed and will be executed as-is. Please report this to the AutoGraph team. When filing the bug, set the verbosity to 10 (on Linux, `export AUTOGRAPH_VERBOSITY=10`) and attach the full output. Cause: Bad argument number for Name: 3, expecting 4\n",
      "WARNING:tensorflow:Entity <bound method TensorFlowOpLayer._defun_call of <tensorflow.python.eager.function.TfMethodTarget object at 0x7fa0d1f6b470>> could not be transformed and will be executed as-is. Please report this to the AutoGraph team. When filing the bug, set the verbosity to 10 (on Linux, `export AUTOGRAPH_VERBOSITY=10`) and attach the full output. Cause: Bad argument number for Name: 3, expecting 4\n",
      "WARNING: Entity <bound method TensorFlowOpLayer._defun_call of <tensorflow.python.eager.function.TfMethodTarget object at 0x7fa0d1f6b470>> could not be transformed and will be executed as-is. Please report this to the AutoGraph team. When filing the bug, set the verbosity to 10 (on Linux, `export AUTOGRAPH_VERBOSITY=10`) and attach the full output. Cause: Bad argument number for Name: 3, expecting 4\n",
      "WARNING:tensorflow:Entity <bound method TensorFlowOpLayer._defun_call of <tensorflow.python.eager.function.TfMethodTarget object at 0x7fa0d189ccf8>> could not be transformed and will be executed as-is. Please report this to the AutoGraph team. When filing the bug, set the verbosity to 10 (on Linux, `export AUTOGRAPH_VERBOSITY=10`) and attach the full output. Cause: Bad argument number for Name: 3, expecting 4\n",
      "WARNING: Entity <bound method TensorFlowOpLayer._defun_call of <tensorflow.python.eager.function.TfMethodTarget object at 0x7fa0d189ccf8>> could not be transformed and will be executed as-is. Please report this to the AutoGraph team. When filing the bug, set the verbosity to 10 (on Linux, `export AUTOGRAPH_VERBOSITY=10`) and attach the full output. Cause: Bad argument number for Name: 3, expecting 4\n",
      "WARNING:tensorflow:Entity <bound method TensorFlowOpLayer._defun_call of <tensorflow.python.eager.function.TfMethodTarget object at 0x7fa0d18aca58>> could not be transformed and will be executed as-is. Please report this to the AutoGraph team. When filing the bug, set the verbosity to 10 (on Linux, `export AUTOGRAPH_VERBOSITY=10`) and attach the full output. Cause: Bad argument number for Name: 3, expecting 4\n",
      "WARNING: Entity <bound method TensorFlowOpLayer._defun_call of <tensorflow.python.eager.function.TfMethodTarget object at 0x7fa0d18aca58>> could not be transformed and will be executed as-is. Please report this to the AutoGraph team. When filing the bug, set the verbosity to 10 (on Linux, `export AUTOGRAPH_VERBOSITY=10`) and attach the full output. Cause: Bad argument number for Name: 3, expecting 4\n",
      "WARNING:tensorflow:Entity <bound method TensorFlowOpLayer._defun_call of <tensorflow.python.eager.function.TfMethodTarget object at 0x7fa0d1f59898>> could not be transformed and will be executed as-is. Please report this to the AutoGraph team. When filing the bug, set the verbosity to 10 (on Linux, `export AUTOGRAPH_VERBOSITY=10`) and attach the full output. Cause: Bad argument number for Name: 3, expecting 4\n",
      "WARNING: Entity <bound method TensorFlowOpLayer._defun_call of <tensorflow.python.eager.function.TfMethodTarget object at 0x7fa0d1f59898>> could not be transformed and will be executed as-is. Please report this to the AutoGraph team. When filing the bug, set the verbosity to 10 (on Linux, `export AUTOGRAPH_VERBOSITY=10`) and attach the full output. Cause: Bad argument number for Name: 3, expecting 4\n",
      "WARNING:tensorflow:Entity <bound method TensorFlowOpLayer._defun_call of <tensorflow.python.eager.function.TfMethodTarget object at 0x7fa0d184f860>> could not be transformed and will be executed as-is. Please report this to the AutoGraph team. When filing the bug, set the verbosity to 10 (on Linux, `export AUTOGRAPH_VERBOSITY=10`) and attach the full output. Cause: Bad argument number for Name: 3, expecting 4\n",
      "WARNING: Entity <bound method TensorFlowOpLayer._defun_call of <tensorflow.python.eager.function.TfMethodTarget object at 0x7fa0d184f860>> could not be transformed and will be executed as-is. Please report this to the AutoGraph team. When filing the bug, set the verbosity to 10 (on Linux, `export AUTOGRAPH_VERBOSITY=10`) and attach the full output. Cause: Bad argument number for Name: 3, expecting 4\n",
      "WARNING:tensorflow:Entity <bound method TensorFlowOpLayer._defun_call of <tensorflow.python.eager.function.TfMethodTarget object at 0x7fa0d184fdd8>> could not be transformed and will be executed as-is. Please report this to the AutoGraph team. When filing the bug, set the verbosity to 10 (on Linux, `export AUTOGRAPH_VERBOSITY=10`) and attach the full output. Cause: Bad argument number for Name: 3, expecting 4\n",
      "WARNING: Entity <bound method TensorFlowOpLayer._defun_call of <tensorflow.python.eager.function.TfMethodTarget object at 0x7fa0d184fdd8>> could not be transformed and will be executed as-is. Please report this to the AutoGraph team. When filing the bug, set the verbosity to 10 (on Linux, `export AUTOGRAPH_VERBOSITY=10`) and attach the full output. Cause: Bad argument number for Name: 3, expecting 4\n",
      "WARNING:tensorflow:Entity <bound method TensorFlowOpLayer._defun_call of <tensorflow.python.eager.function.TfMethodTarget object at 0x7fa0d185feb8>> could not be transformed and will be executed as-is. Please report this to the AutoGraph team. When filing the bug, set the verbosity to 10 (on Linux, `export AUTOGRAPH_VERBOSITY=10`) and attach the full output. Cause: Bad argument number for Name: 3, expecting 4\n"
     ]
    },
    {
     "name": "stdout",
     "output_type": "stream",
     "text": [
      "WARNING: Entity <bound method TensorFlowOpLayer._defun_call of <tensorflow.python.eager.function.TfMethodTarget object at 0x7fa0d185feb8>> could not be transformed and will be executed as-is. Please report this to the AutoGraph team. When filing the bug, set the verbosity to 10 (on Linux, `export AUTOGRAPH_VERBOSITY=10`) and attach the full output. Cause: Bad argument number for Name: 3, expecting 4\n",
      "WARNING:tensorflow:Entity <bound method TensorFlowOpLayer._defun_call of <tensorflow.python.eager.function.TfMethodTarget object at 0x7fa0d1872dd8>> could not be transformed and will be executed as-is. Please report this to the AutoGraph team. When filing the bug, set the verbosity to 10 (on Linux, `export AUTOGRAPH_VERBOSITY=10`) and attach the full output. Cause: Bad argument number for Name: 3, expecting 4\n",
      "WARNING: Entity <bound method TensorFlowOpLayer._defun_call of <tensorflow.python.eager.function.TfMethodTarget object at 0x7fa0d1872dd8>> could not be transformed and will be executed as-is. Please report this to the AutoGraph team. When filing the bug, set the verbosity to 10 (on Linux, `export AUTOGRAPH_VERBOSITY=10`) and attach the full output. Cause: Bad argument number for Name: 3, expecting 4\n",
      "WARNING:tensorflow:Entity <bound method TensorFlowOpLayer._defun_call of <tensorflow.python.eager.function.TfMethodTarget object at 0x7fa0d181ed30>> could not be transformed and will be executed as-is. Please report this to the AutoGraph team. When filing the bug, set the verbosity to 10 (on Linux, `export AUTOGRAPH_VERBOSITY=10`) and attach the full output. Cause: Bad argument number for Name: 3, expecting 4\n",
      "WARNING: Entity <bound method TensorFlowOpLayer._defun_call of <tensorflow.python.eager.function.TfMethodTarget object at 0x7fa0d181ed30>> could not be transformed and will be executed as-is. Please report this to the AutoGraph team. When filing the bug, set the verbosity to 10 (on Linux, `export AUTOGRAPH_VERBOSITY=10`) and attach the full output. Cause: Bad argument number for Name: 3, expecting 4\n",
      "WARNING:tensorflow:Entity <bound method TensorFlowOpLayer._defun_call of <tensorflow.python.eager.function.TfMethodTarget object at 0x7fa0d181eac8>> could not be transformed and will be executed as-is. Please report this to the AutoGraph team. When filing the bug, set the verbosity to 10 (on Linux, `export AUTOGRAPH_VERBOSITY=10`) and attach the full output. Cause: Bad argument number for Name: 3, expecting 4\n",
      "WARNING: Entity <bound method TensorFlowOpLayer._defun_call of <tensorflow.python.eager.function.TfMethodTarget object at 0x7fa0d181eac8>> could not be transformed and will be executed as-is. Please report this to the AutoGraph team. When filing the bug, set the verbosity to 10 (on Linux, `export AUTOGRAPH_VERBOSITY=10`) and attach the full output. Cause: Bad argument number for Name: 3, expecting 4\n",
      "WARNING:tensorflow:Entity <bound method TensorFlowOpLayer._defun_call of <tensorflow.python.eager.function.TfMethodTarget object at 0x7fa0d1832e48>> could not be transformed and will be executed as-is. Please report this to the AutoGraph team. When filing the bug, set the verbosity to 10 (on Linux, `export AUTOGRAPH_VERBOSITY=10`) and attach the full output. Cause: Bad argument number for Name: 3, expecting 4\n",
      "WARNING: Entity <bound method TensorFlowOpLayer._defun_call of <tensorflow.python.eager.function.TfMethodTarget object at 0x7fa0d1832e48>> could not be transformed and will be executed as-is. Please report this to the AutoGraph team. When filing the bug, set the verbosity to 10 (on Linux, `export AUTOGRAPH_VERBOSITY=10`) and attach the full output. Cause: Bad argument number for Name: 3, expecting 4\n",
      "WARNING:tensorflow:Entity <bound method TensorFlowOpLayer._defun_call of <tensorflow.python.eager.function.TfMethodTarget object at 0x7fa0d17d7cc0>> could not be transformed and will be executed as-is. Please report this to the AutoGraph team. When filing the bug, set the verbosity to 10 (on Linux, `export AUTOGRAPH_VERBOSITY=10`) and attach the full output. Cause: Bad argument number for Name: 3, expecting 4\n",
      "WARNING: Entity <bound method TensorFlowOpLayer._defun_call of <tensorflow.python.eager.function.TfMethodTarget object at 0x7fa0d17d7cc0>> could not be transformed and will be executed as-is. Please report this to the AutoGraph team. When filing the bug, set the verbosity to 10 (on Linux, `export AUTOGRAPH_VERBOSITY=10`) and attach the full output. Cause: Bad argument number for Name: 3, expecting 4\n",
      "WARNING:tensorflow:Entity <bound method TensorFlowOpLayer._defun_call of <tensorflow.python.eager.function.TfMethodTarget object at 0x7fa0d17d77b8>> could not be transformed and will be executed as-is. Please report this to the AutoGraph team. When filing the bug, set the verbosity to 10 (on Linux, `export AUTOGRAPH_VERBOSITY=10`) and attach the full output. Cause: Bad argument number for Name: 3, expecting 4\n",
      "WARNING: Entity <bound method TensorFlowOpLayer._defun_call of <tensorflow.python.eager.function.TfMethodTarget object at 0x7fa0d17d77b8>> could not be transformed and will be executed as-is. Please report this to the AutoGraph team. When filing the bug, set the verbosity to 10 (on Linux, `export AUTOGRAPH_VERBOSITY=10`) and attach the full output. Cause: Bad argument number for Name: 3, expecting 4\n",
      "WARNING:tensorflow:Entity <bound method TensorFlowOpLayer._defun_call of <tensorflow.python.eager.function.TfMethodTarget object at 0x7fa0d17ed9e8>> could not be transformed and will be executed as-is. Please report this to the AutoGraph team. When filing the bug, set the verbosity to 10 (on Linux, `export AUTOGRAPH_VERBOSITY=10`) and attach the full output. Cause: Bad argument number for Name: 3, expecting 4\n",
      "WARNING: Entity <bound method TensorFlowOpLayer._defun_call of <tensorflow.python.eager.function.TfMethodTarget object at 0x7fa0d17ed9e8>> could not be transformed and will be executed as-is. Please report this to the AutoGraph team. When filing the bug, set the verbosity to 10 (on Linux, `export AUTOGRAPH_VERBOSITY=10`) and attach the full output. Cause: Bad argument number for Name: 3, expecting 4\n",
      "WARNING:tensorflow:Entity <bound method TensorFlowOpLayer._defun_call of <tensorflow.python.eager.function.TfMethodTarget object at 0x7fa0d1785b38>> could not be transformed and will be executed as-is. Please report this to the AutoGraph team. When filing the bug, set the verbosity to 10 (on Linux, `export AUTOGRAPH_VERBOSITY=10`) and attach the full output. Cause: Bad argument number for Name: 3, expecting 4\n",
      "WARNING: Entity <bound method TensorFlowOpLayer._defun_call of <tensorflow.python.eager.function.TfMethodTarget object at 0x7fa0d1785b38>> could not be transformed and will be executed as-is. Please report this to the AutoGraph team. When filing the bug, set the verbosity to 10 (on Linux, `export AUTOGRAPH_VERBOSITY=10`) and attach the full output. Cause: Bad argument number for Name: 3, expecting 4\n",
      "WARNING:tensorflow:Entity <bound method TensorFlowOpLayer._defun_call of <tensorflow.python.eager.function.TfMethodTarget object at 0x7fa0d17d7160>> could not be transformed and will be executed as-is. Please report this to the AutoGraph team. When filing the bug, set the verbosity to 10 (on Linux, `export AUTOGRAPH_VERBOSITY=10`) and attach the full output. Cause: Bad argument number for Name: 3, expecting 4\n",
      "WARNING: Entity <bound method TensorFlowOpLayer._defun_call of <tensorflow.python.eager.function.TfMethodTarget object at 0x7fa0d17d7160>> could not be transformed and will be executed as-is. Please report this to the AutoGraph team. When filing the bug, set the verbosity to 10 (on Linux, `export AUTOGRAPH_VERBOSITY=10`) and attach the full output. Cause: Bad argument number for Name: 3, expecting 4\n",
      "WARNING:tensorflow:Entity <bound method TensorFlowOpLayer._defun_call of <tensorflow.python.eager.function.TfMethodTarget object at 0x7fa0d17897f0>> could not be transformed and will be executed as-is. Please report this to the AutoGraph team. When filing the bug, set the verbosity to 10 (on Linux, `export AUTOGRAPH_VERBOSITY=10`) and attach the full output. Cause: Bad argument number for Name: 3, expecting 4\n",
      "WARNING: Entity <bound method TensorFlowOpLayer._defun_call of <tensorflow.python.eager.function.TfMethodTarget object at 0x7fa0d17897f0>> could not be transformed and will be executed as-is. Please report this to the AutoGraph team. When filing the bug, set the verbosity to 10 (on Linux, `export AUTOGRAPH_VERBOSITY=10`) and attach the full output. Cause: Bad argument number for Name: 3, expecting 4\n"
     ]
    },
    {
     "name": "stdout",
     "output_type": "stream",
     "text": [
      "WARNING:tensorflow:Entity <bound method TensorFlowOpLayer._defun_call of <tensorflow.python.eager.function.TfMethodTarget object at 0x7fa0d18fac88>> could not be transformed and will be executed as-is. Please report this to the AutoGraph team. When filing the bug, set the verbosity to 10 (on Linux, `export AUTOGRAPH_VERBOSITY=10`) and attach the full output. Cause: Bad argument number for Name: 3, expecting 4\n",
      "WARNING: Entity <bound method TensorFlowOpLayer._defun_call of <tensorflow.python.eager.function.TfMethodTarget object at 0x7fa0d18fac88>> could not be transformed and will be executed as-is. Please report this to the AutoGraph team. When filing the bug, set the verbosity to 10 (on Linux, `export AUTOGRAPH_VERBOSITY=10`) and attach the full output. Cause: Bad argument number for Name: 3, expecting 4\n",
      "WARNING:tensorflow:Entity <bound method TensorFlowOpLayer._defun_call of <tensorflow.python.eager.function.TfMethodTarget object at 0x7fa0d174fa58>> could not be transformed and will be executed as-is. Please report this to the AutoGraph team. When filing the bug, set the verbosity to 10 (on Linux, `export AUTOGRAPH_VERBOSITY=10`) and attach the full output. Cause: Bad argument number for Name: 3, expecting 4\n",
      "WARNING: Entity <bound method TensorFlowOpLayer._defun_call of <tensorflow.python.eager.function.TfMethodTarget object at 0x7fa0d174fa58>> could not be transformed and will be executed as-is. Please report this to the AutoGraph team. When filing the bug, set the verbosity to 10 (on Linux, `export AUTOGRAPH_VERBOSITY=10`) and attach the full output. Cause: Bad argument number for Name: 3, expecting 4\n",
      "WARNING:tensorflow:Entity <bound method TensorFlowOpLayer._defun_call of <tensorflow.python.eager.function.TfMethodTarget object at 0x7fa0d1761e48>> could not be transformed and will be executed as-is. Please report this to the AutoGraph team. When filing the bug, set the verbosity to 10 (on Linux, `export AUTOGRAPH_VERBOSITY=10`) and attach the full output. Cause: Bad argument number for Name: 3, expecting 4\n",
      "WARNING: Entity <bound method TensorFlowOpLayer._defun_call of <tensorflow.python.eager.function.TfMethodTarget object at 0x7fa0d1761e48>> could not be transformed and will be executed as-is. Please report this to the AutoGraph team. When filing the bug, set the verbosity to 10 (on Linux, `export AUTOGRAPH_VERBOSITY=10`) and attach the full output. Cause: Bad argument number for Name: 3, expecting 4\n",
      "WARNING:tensorflow:Entity <bound method TensorFlowOpLayer._defun_call of <tensorflow.python.eager.function.TfMethodTarget object at 0x7fa0d1761c18>> could not be transformed and will be executed as-is. Please report this to the AutoGraph team. When filing the bug, set the verbosity to 10 (on Linux, `export AUTOGRAPH_VERBOSITY=10`) and attach the full output. Cause: Bad argument number for Name: 3, expecting 4\n",
      "WARNING: Entity <bound method TensorFlowOpLayer._defun_call of <tensorflow.python.eager.function.TfMethodTarget object at 0x7fa0d1761c18>> could not be transformed and will be executed as-is. Please report this to the AutoGraph team. When filing the bug, set the verbosity to 10 (on Linux, `export AUTOGRAPH_VERBOSITY=10`) and attach the full output. Cause: Bad argument number for Name: 3, expecting 4\n",
      "WARNING:tensorflow:Entity <bound method TensorFlowOpLayer._defun_call of <tensorflow.python.eager.function.TfMethodTarget object at 0x7fa0d176ad68>> could not be transformed and will be executed as-is. Please report this to the AutoGraph team. When filing the bug, set the verbosity to 10 (on Linux, `export AUTOGRAPH_VERBOSITY=10`) and attach the full output. Cause: Bad argument number for Name: 3, expecting 4\n",
      "WARNING: Entity <bound method TensorFlowOpLayer._defun_call of <tensorflow.python.eager.function.TfMethodTarget object at 0x7fa0d176ad68>> could not be transformed and will be executed as-is. Please report this to the AutoGraph team. When filing the bug, set the verbosity to 10 (on Linux, `export AUTOGRAPH_VERBOSITY=10`) and attach the full output. Cause: Bad argument number for Name: 3, expecting 4\n",
      "WARNING:tensorflow:Entity <bound method TensorFlowOpLayer._defun_call of <tensorflow.python.eager.function.TfMethodTarget object at 0x7fa0d1702cc0>> could not be transformed and will be executed as-is. Please report this to the AutoGraph team. When filing the bug, set the verbosity to 10 (on Linux, `export AUTOGRAPH_VERBOSITY=10`) and attach the full output. Cause: Bad argument number for Name: 3, expecting 4\n",
      "WARNING: Entity <bound method TensorFlowOpLayer._defun_call of <tensorflow.python.eager.function.TfMethodTarget object at 0x7fa0d1702cc0>> could not be transformed and will be executed as-is. Please report this to the AutoGraph team. When filing the bug, set the verbosity to 10 (on Linux, `export AUTOGRAPH_VERBOSITY=10`) and attach the full output. Cause: Bad argument number for Name: 3, expecting 4\n"
     ]
    }
   ],
   "source": [
    "zs_reshaped = tf.reshape(zs,(-1, zs.shape[-1]))\n",
    "output = model.decoder([\n",
    "                zs_reshaped,\n",
    "                beta,\n",
    "                gamma])"
   ]
  },
  {
   "cell_type": "code",
   "execution_count": 13,
   "metadata": {},
   "outputs": [
    {
     "data": {
      "text/plain": [
       "TensorShape([20000, 4])"
      ]
     },
     "execution_count": 13,
     "metadata": {},
     "output_type": "execute_result"
    }
   ],
   "source": [
    "zs_reshaped.shape"
   ]
  },
  {
   "cell_type": "code",
   "execution_count": 14,
   "metadata": {},
   "outputs": [],
   "source": [
    "log_p_xz_func = model.get_func_log_p_xz()\n",
    "log_q_z_x_func = model.get_func_log_q_z_x()"
   ]
  },
  {
   "cell_type": "code",
   "execution_count": 15,
   "metadata": {},
   "outputs": [
    {
     "data": {
      "text/plain": [
       "TensorShape([2, 100, 100, 4])"
      ]
     },
     "execution_count": 15,
     "metadata": {},
     "output_type": "execute_result"
    }
   ],
   "source": [
    "zs.shape"
   ]
  },
  {
   "cell_type": "code",
   "execution_count": 16,
   "metadata": {},
   "outputs": [],
   "source": [
    "secx = model.encoder(x)"
   ]
  },
  {
   "cell_type": "code",
   "execution_count": 17,
   "metadata": {},
   "outputs": [
    {
     "data": {
      "text/plain": [
       "<tf.Tensor: id=1528, shape=(2, 100, 4), dtype=float32, numpy=\n",
       "array([[[ 3.48428302e-02, -1.54188395e-01, -1.25527000e+00,\n",
       "         -2.37969130e-01],\n",
       "        [ 3.78450036e-01, -8.43316317e-01, -7.86680162e-01,\n",
       "         -4.92736638e-01],\n",
       "        [-7.29523301e-02, -6.38635933e-01, -1.25251913e+00,\n",
       "         -2.38406658e-03],\n",
       "        [ 6.80585802e-01,  1.62375301e-01, -1.10214555e+00,\n",
       "         -6.17971599e-01],\n",
       "        [ 4.42834407e-01,  2.05827713e-01, -9.54226136e-01,\n",
       "         -7.98070312e-01],\n",
       "        [ 2.72351861e-01,  1.43032849e-01, -1.20199060e+00,\n",
       "         -4.60363925e-01],\n",
       "        [ 1.19413960e+00, -6.88032269e-01, -1.01763189e-01,\n",
       "         -1.44226718e+00],\n",
       "        [ 1.25598741e+00, -5.58810472e-01, -1.05826855e-01,\n",
       "         -1.50351012e+00],\n",
       "        [ 2.18101740e-01,  1.53669119e-01, -1.12114143e+00,\n",
       "         -5.57976365e-01],\n",
       "        [ 9.61228788e-01,  1.86581939e-01, -4.54066038e-01,\n",
       "         -1.42263651e+00],\n",
       "        [ 1.10750580e+00, -2.27938339e-01, -3.15980494e-01,\n",
       "         -1.40006125e+00],\n",
       "        [ 4.51816082e-01,  1.65920109e-01, -1.19085920e+00,\n",
       "         -4.97437179e-01],\n",
       "        [ 1.10522413e+00, -4.91520226e-01, -2.44316250e-01,\n",
       "         -1.35961723e+00],\n",
       "        [ 4.17172700e-01,  2.85106301e-02, -1.23517716e+00,\n",
       "         -3.76533896e-01],\n",
       "        [ 1.48708999e-01, -4.63208854e-02, -1.23759198e+00,\n",
       "         -3.18688184e-01],\n",
       "        [ 1.44133389e-01, -6.04783773e-01, -1.18266511e+00,\n",
       "         -1.17428124e-01],\n",
       "        [ 7.83574998e-01, -3.07363570e-01, -6.73113763e-01,\n",
       "         -9.12963390e-01],\n",
       "        [ 1.25793433e+00,  3.80602330e-01, -7.84142554e-01,\n",
       "         -1.14280427e+00],\n",
       "        [ 9.06777829e-02,  1.73509657e-01, -1.19469607e+00,\n",
       "         -4.70569074e-01],\n",
       "        [ 1.37046814e+00,  3.75657171e-01, -4.60454106e-01,\n",
       "         -1.53459001e+00],\n",
       "        [ 1.21813786e+00, -1.38254046e-01, -6.09025538e-01,\n",
       "         -1.10126674e+00],\n",
       "        [-6.88391253e-02, -2.19900429e-01, -1.26914024e+00,\n",
       "         -1.82634786e-01],\n",
       "        [-5.53830341e-02,  1.54983938e-01, -1.45478368e+00,\n",
       "         -1.41037822e-01],\n",
       "        [ 2.44477347e-01, -2.23962307e-01, -6.02063179e-01,\n",
       "         -9.98816013e-01],\n",
       "        [ 1.01360404e+00, -4.15520370e-01, -2.84950793e-01,\n",
       "         -1.34083736e+00],\n",
       "        [ 2.61630118e-02, -1.81720316e-01, -1.25809383e+00,\n",
       "         -2.20842779e-01],\n",
       "        [-6.17628582e-02, -4.61426258e-01, -1.14618707e+00,\n",
       "         -2.14558870e-01],\n",
       "        [ 1.33878887e+00,  4.21916723e-01, -4.93585855e-01,\n",
       "         -1.51487041e+00],\n",
       "        [ 5.06328404e-01, -7.13461995e-01, -8.95406008e-01,\n",
       "         -4.34186459e-01],\n",
       "        [ 2.28892893e-01, -8.42113853e-01, -9.19120431e-01,\n",
       "         -3.24614584e-01],\n",
       "        [ 2.10226178e-01, -1.02060866e+00, -8.98854136e-01,\n",
       "         -2.62286872e-01],\n",
       "        [-9.60376859e-03, -2.50784248e-01, -1.29080760e+00,\n",
       "         -1.46307260e-01],\n",
       "        [ 9.86965001e-01, -8.56946051e-01, -5.90233326e-01,\n",
       "         -7.64203131e-01],\n",
       "        [-1.28861189e-01, -5.46179414e-01, -1.27978802e+00,\n",
       "         -9.95942950e-03],\n",
       "        [ 1.19858372e+00, -6.92761540e-01, -3.77286464e-01,\n",
       "         -1.11170697e+00],\n",
       "        [ 1.08391225e+00, -3.15421224e-01, -7.81249404e-01,\n",
       "         -8.01693439e-01],\n",
       "        [ 1.94143936e-01,  2.78410614e-01, -1.36170268e+00,\n",
       "         -3.28849077e-01],\n",
       "        [ 1.24517417e+00, -5.70741117e-01, -1.66370034e-01,\n",
       "         -1.42483091e+00],\n",
       "        [-1.90098584e-01, -1.19996023e+00, -1.13483429e+00,\n",
       "          1.33465707e-01],\n",
       "        [ 1.12744761e+00, -1.96676046e-01, -7.05250323e-01,\n",
       "         -9.52116728e-01],\n",
       "        [ 1.31471407e+00, -3.10588181e-01, -1.51251882e-01,\n",
       "         -1.57197213e+00],\n",
       "        [ 9.64747369e-03,  1.89735293e-02, -1.19035172e+00,\n",
       "         -3.96206737e-01],\n",
       "        [ 8.63321424e-01, -9.33841944e-01, -1.56000376e-01,\n",
       "         -1.23656332e+00],\n",
       "        [ 9.65605438e-01, -8.13474238e-01, -2.13016927e-01,\n",
       "         -1.23332548e+00],\n",
       "        [ 2.02646956e-01, -2.86936074e-01, -1.03053141e+00,\n",
       "         -4.54725981e-01],\n",
       "        [ 2.73921102e-01, -1.08380163e+00, -4.41601485e-01,\n",
       "         -7.82083035e-01],\n",
       "        [ 1.15294552e+00, -5.30583322e-01, -2.55150557e-01,\n",
       "         -1.33148217e+00],\n",
       "        [ 3.27838480e-01, -2.43989795e-01, -6.38333499e-01,\n",
       "         -9.51981843e-01],\n",
       "        [ 2.14718580e-01, -9.75918651e-01, -4.82273012e-01,\n",
       "         -7.80796528e-01],\n",
       "        [-9.23687071e-02, -5.56426585e-01, -1.16344237e+00,\n",
       "         -1.46457046e-01],\n",
       "        [ 2.63106853e-01, -1.02617240e+00, -4.55658823e-01,\n",
       "         -7.92035580e-01],\n",
       "        [ 7.72258043e-01, -6.00595236e-01, -3.41276914e-01,\n",
       "         -1.16803885e+00],\n",
       "        [ 1.19554615e+00, -8.79920304e-01, -1.67418361e-01,\n",
       "         -1.27250934e+00],\n",
       "        [ 1.35543585e+00, -9.70542505e-02, -2.26547986e-01,\n",
       "         -1.58696437e+00],\n",
       "        [ 4.64279562e-01, -6.05690360e-01, -5.04953682e-01,\n",
       "         -9.48288560e-01],\n",
       "        [-9.44366753e-02, -1.26685524e+00, -9.95528519e-01,\n",
       "         -7.63562322e-03],\n",
       "        [ 1.24350297e+00, -2.39732295e-01, -2.01588750e-01,\n",
       "         -1.54063010e+00],\n",
       "        [ 5.55679202e-01, -9.58338737e-01, -7.28394508e-01,\n",
       "         -5.20094395e-01],\n",
       "        [ 5.48902392e-01, -1.75046682e-01, -9.94389117e-01,\n",
       "         -5.76061428e-01],\n",
       "        [ 7.86314905e-01, -7.89788067e-01, -6.39131606e-01,\n",
       "         -7.23525107e-01],\n",
       "        [ 1.21655393e+00, -1.57486632e-01, -4.54498827e-01,\n",
       "         -1.27628469e+00],\n",
       "        [ 2.05927968e-01, -2.59190738e-01, -1.24848783e+00,\n",
       "         -2.08237290e-01],\n",
       "        [ 1.06055844e+00,  1.52979791e-02, -6.22658730e-01,\n",
       "         -1.14695942e+00],\n",
       "        [-5.65523803e-02, -3.65496129e-01, -1.27613592e+00,\n",
       "         -1.05708480e-01],\n",
       "        [ 1.25165844e+00,  1.50364235e-01, -3.09957683e-01,\n",
       "         -1.59807754e+00],\n",
       "        [ 1.73330531e-02, -2.71515250e-01, -1.28015459e+00,\n",
       "         -1.51055396e-01],\n",
       "        [ 2.41729021e-01, -8.14951837e-01, -1.00390267e+00,\n",
       "         -2.37373173e-01],\n",
       "        [-1.31772578e-01, -1.00803351e+00, -1.13684690e+00,\n",
       "          4.01123166e-02],\n",
       "        [ 5.57053387e-01, -8.56899261e-01, -3.76532435e-01,\n",
       "         -9.88263786e-01],\n",
       "        [-1.09612271e-01, -5.50184011e-01, -1.27180588e+00,\n",
       "         -1.89505517e-02],\n",
       "        [-7.66663179e-02, -8.68571460e-01, -1.05764484e+00,\n",
       "         -1.24845564e-01],\n",
       "        [ 9.10777390e-01, -2.29201928e-01, -3.31182897e-01,\n",
       "         -1.36721027e+00],\n",
       "        [ 7.08636463e-01, -3.07335556e-01, -4.38937783e-01,\n",
       "         -1.18690658e+00],\n",
       "        [ 1.12970185e+00, -7.44286895e-01, -4.52826023e-01,\n",
       "         -9.92083728e-01],\n",
       "        [ 7.58997798e-01, -6.49057627e-01, -8.86016309e-01,\n",
       "         -4.94243056e-01],\n",
       "        [ 6.31404519e-01, -7.83787131e-01, -3.01244080e-01,\n",
       "         -1.11827874e+00],\n",
       "        [ 1.30272388e+00, -5.81927657e-01, -1.38894916e-01,\n",
       "         -1.45639336e+00],\n",
       "        [ 1.15365103e-01, -9.67731953e-01, -1.06961715e+00,\n",
       "         -7.70351291e-02],\n",
       "        [ 1.12801647e+00, -7.81854630e-01, -4.46932226e-01,\n",
       "         -9.81068790e-01],\n",
       "        [ 6.35987520e-01, -5.95890701e-01, -4.41737056e-01,\n",
       "         -1.04068446e+00],\n",
       "        [ 9.62352455e-01, -4.22198772e-01, -7.34336734e-01,\n",
       "         -7.97981083e-01],\n",
       "        [ 1.42480588e+00,  2.97039330e-01, -2.99735636e-01,\n",
       "         -1.69267249e+00],\n",
       "        [ 1.03091121e+00, -7.26561308e-01, -4.84487295e-01,\n",
       "         -9.55689132e-01],\n",
       "        [ 1.14815474e+00, -5.66507578e-01, -4.70830679e-01,\n",
       "         -1.05675232e+00],\n",
       "        [-2.22372636e-02,  8.14396143e-03, -1.30632925e+00,\n",
       "         -2.50423133e-01],\n",
       "        [-3.79482061e-02, -1.57583952e-01, -1.29509616e+00,\n",
       "         -1.83624595e-01],\n",
       "        [ 1.34902120e+00,  3.05759579e-01, -4.73287553e-01,\n",
       "         -1.48439598e+00],\n",
       "        [ 1.18583047e+00, -3.79147708e-01, -5.71986198e-01,\n",
       "         -1.02819526e+00],\n",
       "        [-5.97425997e-02, -9.11616087e-02, -1.34548378e+00,\n",
       "         -1.53652608e-01],\n",
       "        [ 1.31323564e+00,  8.27760100e-02, -4.31154013e-01,\n",
       "         -1.42569578e+00],\n",
       "        [ 2.56576762e-02, -9.34809446e-03, -1.38330197e+00,\n",
       "         -1.53707147e-01],\n",
       "        [ 1.18167973e+00, -5.54473102e-01, -1.99050188e-01,\n",
       "         -1.38905811e+00],\n",
       "        [-1.23024777e-01, -6.45732582e-01, -1.22950435e+00,\n",
       "         -2.28556693e-02],\n",
       "        [ 9.74063754e-01, -5.54414570e-01, -8.38508487e-01,\n",
       "         -6.11492872e-01],\n",
       "        [ 3.00772309e-01,  2.27626711e-01, -1.18803692e+00,\n",
       "         -5.19405901e-01],\n",
       "        [ 1.27453089e+00,  1.07317269e-01, -2.85205781e-01,\n",
       "         -1.60870290e+00],\n",
       "        [ 8.15167665e-01, -7.02127457e-01, -7.46772289e-01,\n",
       "         -6.39033139e-01],\n",
       "        [ 1.23295176e+00,  4.23400909e-01, -7.89657652e-01,\n",
       "         -1.15485299e+00],\n",
       "        [ 4.84901853e-02,  7.92137980e-02, -1.17631078e+00,\n",
       "         -4.44481581e-01],\n",
       "        [ 6.89901412e-04,  5.37900925e-02, -1.33208060e+00,\n",
       "         -2.43131995e-01]],\n",
       "\n",
       "       [[ 3.46964598e-02,  9.59729075e-01,  2.45601237e-01,\n",
       "          4.56315875e-01],\n",
       "        [ 3.78303647e-01,  2.70601213e-01,  7.14191079e-01,\n",
       "          2.01548427e-01],\n",
       "        [-7.30987191e-02,  4.75281566e-01,  2.48352051e-01,\n",
       "          6.91900969e-01],\n",
       "        [ 6.80439413e-01,  1.27629280e+00,  3.98725688e-01,\n",
       "          7.63134211e-02],\n",
       "        [ 4.42688018e-01,  1.31974518e+00,  5.46645105e-01,\n",
       "         -1.03785232e-01],\n",
       "        [ 2.72205472e-01,  1.25695038e+00,  2.98880726e-01,\n",
       "          2.33921111e-01],\n",
       "        [ 1.19399321e+00,  4.25885171e-01,  1.39910805e+00,\n",
       "         -7.47982025e-01],\n",
       "        [ 1.25584102e+00,  5.55106997e-01,  1.39504433e+00,\n",
       "         -8.09225082e-01],\n",
       "        [ 2.17955351e-01,  1.26758659e+00,  3.79729807e-01,\n",
       "          1.36308640e-01],\n",
       "        [ 9.61082458e-01,  1.30049944e+00,  1.04680514e+00,\n",
       "         -7.28351533e-01],\n",
       "        [ 1.10735941e+00,  8.85979116e-01,  1.18489075e+00,\n",
       "         -7.05776215e-01],\n",
       "        [ 4.51669693e-01,  1.27983761e+00,  3.10012013e-01,\n",
       "          1.96847826e-01],\n",
       "        [ 1.10507774e+00,  6.22397244e-01,  1.25655496e+00,\n",
       "         -6.65332258e-01],\n",
       "        [ 4.17026311e-01,  1.14242816e+00,  2.65694052e-01,\n",
       "          3.17751110e-01],\n",
       "        [ 1.48562610e-01,  1.06759655e+00,  2.63279259e-01,\n",
       "          3.75596881e-01],\n",
       "        [ 1.43987000e-01,  5.09133637e-01,  3.18206161e-01,\n",
       "          5.76856852e-01],\n",
       "        [ 7.83428669e-01,  8.06553900e-01,  8.27757478e-01,\n",
       "         -2.18678385e-01],\n",
       "        [ 1.25778794e+00,  1.49451983e+00,  7.16728628e-01,\n",
       "         -4.48519170e-01],\n",
       "        [ 9.05314088e-02,  1.28742719e+00,  3.06175172e-01,\n",
       "          2.23715961e-01],\n",
       "        [ 1.37032175e+00,  1.48957467e+00,  1.04041719e+00,\n",
       "         -8.40304971e-01],\n",
       "        [ 1.21799147e+00,  9.75663424e-01,  8.91845703e-01,\n",
       "         -4.06981766e-01],\n",
       "        [-6.89855218e-02,  8.94017041e-01,  2.31730938e-01,\n",
       "          5.11650264e-01],\n",
       "        [-5.55294156e-02,  1.26890135e+00,  4.60876226e-02,\n",
       "          5.53247213e-01],\n",
       "        [ 2.44330943e-01,  8.89955163e-01,  8.98808062e-01,\n",
       "         -3.04530948e-01],\n",
       "        [ 1.01345778e+00,  6.98397100e-01,  1.21592045e+00,\n",
       "         -6.46552324e-01],\n",
       "        [ 2.60165930e-02,  9.32197154e-01,  2.42777467e-01,\n",
       "          4.73442256e-01],\n",
       "        [-6.19092584e-02,  6.52491212e-01,  3.54684174e-01,\n",
       "          4.79726195e-01],\n",
       "        [ 1.33864248e+00,  1.53583419e+00,  1.00728536e+00,\n",
       "         -8.20585370e-01],\n",
       "        [ 5.06182075e-01,  4.00455475e-01,  6.05465293e-01,\n",
       "          2.60098577e-01],\n",
       "        [ 2.28746504e-01,  2.71803617e-01,  5.81750810e-01,\n",
       "          3.69670451e-01],\n",
       "        [ 2.10079789e-01,  9.33088660e-02,  6.02017045e-01,\n",
       "          4.31998193e-01],\n",
       "        [-9.75012779e-03,  8.63133192e-01,  2.10063636e-01,\n",
       "          5.47977805e-01],\n",
       "        [ 9.86818671e-01,  2.56971419e-01,  9.10637856e-01,\n",
       "         -6.99180961e-02],\n",
       "        [-1.29007578e-01,  5.67738056e-01,  2.21083164e-01,\n",
       "          6.84325576e-01],\n",
       "        [ 1.19843745e+00,  4.21155930e-01,  1.12358475e+00,\n",
       "         -4.17421877e-01],\n",
       "        [ 1.08376598e+00,  7.98496246e-01,  7.19621837e-01,\n",
       "         -1.07408404e-01],\n",
       "        [ 1.93997562e-01,  1.39232802e+00,  1.39168501e-01,\n",
       "          3.65435958e-01],\n",
       "        [ 1.24502778e+00,  5.43176353e-01,  1.33450127e+00,\n",
       "         -7.30545819e-01],\n",
       "        [-1.90244973e-01, -8.60427618e-02,  3.66036922e-01,\n",
       "          8.27750742e-01],\n",
       "        [ 1.12730122e+00,  9.17241454e-01,  7.95620918e-01,\n",
       "         -2.57831693e-01],\n",
       "        [ 1.31456769e+00,  8.03329289e-01,  1.34961939e+00,\n",
       "         -8.77687097e-01],\n",
       "        [ 9.50109959e-03,  1.13289094e+00,  3.10519487e-01,\n",
       "          2.98078299e-01],\n",
       "        [ 8.63175035e-01,  1.80075526e-01,  1.34487081e+00,\n",
       "         -5.42278349e-01],\n",
       "        [ 9.65458989e-01,  3.00443232e-01,  1.28785431e+00,\n",
       "         -5.39040446e-01],\n",
       "        [ 2.02500552e-01,  8.26981425e-01,  4.70339805e-01,\n",
       "          2.39559054e-01],\n",
       "        [ 2.73774713e-01,  3.01158428e-02,  1.05926979e+00,\n",
       "         -8.77980143e-02],\n",
       "        [ 1.15279901e+00,  5.83334148e-01,  1.24572074e+00,\n",
       "         -6.37197137e-01],\n",
       "        [ 3.27692091e-01,  8.69927704e-01,  8.62537742e-01,\n",
       "         -2.57696807e-01],\n",
       "        [ 2.14572191e-01,  1.37998819e-01,  1.01859832e+00,\n",
       "         -8.65114927e-02],\n",
       "        [-9.25151110e-02,  5.57490826e-01,  3.37428808e-01,\n",
       "          5.47827959e-01],\n",
       "        [ 2.62960464e-01,  8.77451301e-02,  1.04521239e+00,\n",
       "         -9.77506042e-02],\n",
       "        [ 7.72111654e-01,  5.13322234e-01,  1.15959430e+00,\n",
       "         -4.73753840e-01],\n",
       "        [ 1.19539976e+00,  2.33997166e-01,  1.33345294e+00,\n",
       "         -5.78224301e-01],\n",
       "        [ 1.35528946e+00,  1.01686323e+00,  1.27432323e+00,\n",
       "         -8.92679334e-01],\n",
       "        [ 4.64133173e-01,  5.08227110e-01,  9.95917559e-01,\n",
       "         -2.54003525e-01],\n",
       "        [-9.45830345e-02, -1.52937889e-01,  5.05342722e-01,\n",
       "          6.86649442e-01],\n",
       "        [ 1.24335659e+00,  8.74185145e-01,  1.29928255e+00,\n",
       "         -8.46345067e-01],\n",
       "        [ 5.55532813e-01,  1.55578732e-01,  7.72476733e-01,\n",
       "          1.74190611e-01],\n",
       "        [ 5.48756003e-01,  9.38870788e-01,  5.06482124e-01,\n",
       "          1.18223622e-01],\n",
       "        [ 7.86168516e-01,  3.24129403e-01,  8.61739635e-01,\n",
       "         -2.92400718e-02],\n",
       "        [ 1.21640754e+00,  9.56430852e-01,  1.04637241e+00,\n",
       "         -5.81999660e-01],\n",
       "        [ 2.05781579e-01,  8.54726732e-01,  2.52383411e-01,\n",
       "          4.86047745e-01],\n",
       "        [ 1.06041205e+00,  1.12921548e+00,  8.78212571e-01,\n",
       "         -4.52674448e-01],\n",
       "        [-5.66987991e-02,  7.48421311e-01,  2.24735379e-01,\n",
       "          5.88576555e-01],\n",
       "        [ 1.25151205e+00,  1.26428175e+00,  1.19091356e+00,\n",
       "         -9.03792500e-01],\n",
       "        [ 1.71866417e-02,  8.42402220e-01,  2.20716715e-01,\n",
       "          5.43229640e-01],\n",
       "        [ 2.41582632e-01,  2.98965633e-01,  4.96968657e-01,\n",
       "          4.56911862e-01],\n",
       "        [-1.31918967e-01,  1.05883896e-01,  3.64024311e-01,\n",
       "          7.34397352e-01],\n",
       "        [ 5.56906998e-01,  2.57018209e-01,  1.12433887e+00,\n",
       "         -2.93978751e-01],\n",
       "        [-1.09758675e-01,  5.63733459e-01,  2.29065299e-01,\n",
       "          6.75334454e-01],\n",
       "        [-7.68126845e-02,  2.45346010e-01,  4.43226337e-01,\n",
       "          5.69439471e-01],\n",
       "        [ 9.10631001e-01,  8.84715557e-01,  1.16968834e+00,\n",
       "         -6.72925234e-01],\n",
       "        [ 7.08490074e-01,  8.06581914e-01,  1.06193340e+00,\n",
       "         -4.92621511e-01],\n",
       "        [ 1.12955546e+00,  3.69630545e-01,  1.04804516e+00,\n",
       "         -2.97798753e-01],\n",
       "        [ 7.58851409e-01,  4.64859873e-01,  6.14854932e-01,\n",
       "          2.00041950e-01],\n",
       "        [ 6.31258130e-01,  3.30130339e-01,  1.19962716e+00,\n",
       "         -4.23993737e-01],\n",
       "        [ 1.30257750e+00,  5.31989813e-01,  1.36197639e+00,\n",
       "         -7.62108326e-01],\n",
       "        [ 1.15218699e-01,  1.46185517e-01,  4.31254089e-01,\n",
       "          6.17249966e-01],\n",
       "        [ 1.12787008e+00,  3.32062870e-01,  1.05393898e+00,\n",
       "         -2.86783755e-01],\n",
       "        [ 6.35841131e-01,  5.18026769e-01,  1.05913424e+00,\n",
       "         -3.46399486e-01],\n",
       "        [ 9.62206066e-01,  6.91718698e-01,  7.66534507e-01,\n",
       "         -1.03696018e-01],\n",
       "        [ 1.42465949e+00,  1.41095686e+00,  1.20113564e+00,\n",
       "         -9.98387456e-01],\n",
       "        [ 1.03076494e+00,  3.87356132e-01,  1.01638401e+00,\n",
       "         -2.61404067e-01],\n",
       "        [ 1.14800835e+00,  5.47409892e-01,  1.03004050e+00,\n",
       "         -3.62467289e-01],\n",
       "        [-2.23836303e-02,  1.12206137e+00,  1.94541931e-01,\n",
       "          4.43861902e-01],\n",
       "        [-3.80945802e-02,  9.56333518e-01,  2.05775142e-01,\n",
       "          5.10660410e-01],\n",
       "        [ 1.34887481e+00,  1.41967702e+00,  1.02758360e+00,\n",
       "         -7.90110946e-01],\n",
       "        [ 1.18568420e+00,  7.34769762e-01,  9.28885043e-01,\n",
       "         -3.33910137e-01],\n",
       "        [-5.98889589e-02,  1.02275586e+00,  1.55387402e-01,\n",
       "          5.40632427e-01],\n",
       "        [ 1.31308925e+00,  1.19669342e+00,  1.06971717e+00,\n",
       "         -7.31410742e-01],\n",
       "        [ 2.55112648e-02,  1.10456944e+00,  1.17569208e-01,\n",
       "          5.40577888e-01],\n",
       "        [ 1.18153334e+00,  5.59444368e-01,  1.30182099e+00,\n",
       "         -6.94773138e-01],\n",
       "        [-1.23171151e-01,  4.68184888e-01,  2.71366894e-01,\n",
       "          6.71429396e-01],\n",
       "        [ 9.73917246e-01,  5.59502900e-01,  6.62362814e-01,\n",
       "          8.27921629e-02],\n",
       "        [ 3.00625920e-01,  1.34154415e+00,  3.12834322e-01,\n",
       "          1.74879134e-01],\n",
       "        [ 1.27438450e+00,  1.22123480e+00,  1.21566546e+00,\n",
       "         -9.14417982e-01],\n",
       "        [ 8.15021336e-01,  4.11790013e-01,  7.54099011e-01,\n",
       "          5.52519113e-02],\n",
       "        [ 1.23280537e+00,  1.53731835e+00,  7.11213589e-01,\n",
       "         -4.60567951e-01],\n",
       "        [ 4.83437777e-02,  1.19313121e+00,  3.24560404e-01,\n",
       "          2.49803454e-01],\n",
       "        [ 5.43534756e-04,  1.16770756e+00,  1.68790638e-01,\n",
       "          4.51153040e-01]]], dtype=float32)>"
      ]
     },
     "execution_count": 17,
     "metadata": {},
     "output_type": "execute_result"
    }
   ],
   "source": [
    "secx[1]"
   ]
  },
  {
   "cell_type": "code",
   "execution_count": 18,
   "metadata": {},
   "outputs": [],
   "source": [
    "ebc = ec.elbo_calculator()"
   ]
  },
  {
   "cell_type": "code",
   "execution_count": 19,
   "metadata": {},
   "outputs": [],
   "source": [
    "loss_func = ebc.get_loss_func_2()"
   ]
  },
  {
   "cell_type": "code",
   "execution_count": 20,
   "metadata": {},
   "outputs": [
    {
     "data": {
      "text/plain": [
       "<tf.Tensor: id=1930, shape=(100, 40000), dtype=float32, numpy=\n",
       "array([[inf, inf, inf, ..., inf, inf, inf],\n",
       "       [inf, inf, inf, ..., inf, inf, inf],\n",
       "       [inf, inf, inf, ..., inf, inf, inf],\n",
       "       ...,\n",
       "       [inf, inf, inf, ..., inf, inf, inf],\n",
       "       [inf, inf, inf, ..., inf, inf, inf],\n",
       "       [inf, inf, inf, ..., inf, inf, inf]], dtype=float32)>"
      ]
     },
     "execution_count": 20,
     "metadata": {},
     "output_type": "execute_result"
    }
   ],
   "source": [
    "loss_func(model, x)"
   ]
  },
  {
   "cell_type": "code",
   "execution_count": 21,
   "metadata": {},
   "outputs": [
    {
     "data": {
      "text/plain": [
       "[[<tf.Tensor: id=1471, shape=(20000, 1), dtype=float32, numpy=\n",
       "  array([[-2.5375357],\n",
       "         [ 3.3890367],\n",
       "         [ 1.6348902],\n",
       "         ...,\n",
       "         [ 0.9384254],\n",
       "         [-2.9343095],\n",
       "         [-0.0459401]], dtype=float32)>,\n",
       "  <tf.Tensor: id=1464, shape=(20000, 1), dtype=float32, numpy=\n",
       "  array([[-0.17611456],\n",
       "         [-0.9023587 ],\n",
       "         [-0.68740505],\n",
       "         ...,\n",
       "         [-0.5218361 ],\n",
       "         [-0.04726985],\n",
       "         [-0.40121162]], dtype=float32)>],\n",
       " [<tf.Tensor: id=1457, shape=(20000, 1), dtype=float32, numpy=\n",
       "  array([[-1.3395234 ],\n",
       "         [ 0.44325733],\n",
       "         [-0.8761988 ],\n",
       "         ...,\n",
       "         [ 0.49969396],\n",
       "         [-1.4717412 ],\n",
       "         [ 0.14644891]], dtype=float32)>,\n",
       "  <tf.Tensor: id=1450, shape=(20000, 1), dtype=float32, numpy=\n",
       "  array([[0.1700474 ],\n",
       "         [1.0000529 ],\n",
       "         [0.3857565 ],\n",
       "         ...,\n",
       "         [0.9521569 ],\n",
       "         [0.03431988],\n",
       "         [0.7876973 ]], dtype=float32)>],\n",
       " [<tf.Tensor: id=1443, shape=(20000, 1), dtype=float32, numpy=\n",
       "  array([[ 1.1206926 ],\n",
       "         [-0.22805619],\n",
       "         [ 0.19105387],\n",
       "         ...,\n",
       "         [ 0.85068905],\n",
       "         [ 1.5963086 ],\n",
       "         [ 1.0619544 ]], dtype=float32)>],\n",
       " [<tf.Tensor: id=1439, shape=(20000, 3), dtype=float32, numpy=\n",
       "  array([[0.32726076, 0.38236123, 0.29037794],\n",
       "         [0.18066101, 0.36473316, 0.45460585],\n",
       "         [0.26700675, 0.3829006 , 0.35009256],\n",
       "         ...,\n",
       "         [0.2145825 , 0.4030722 , 0.38234532],\n",
       "         [0.32762307, 0.40696186, 0.26541507],\n",
       "         [0.20213875, 0.40003368, 0.39782757]], dtype=float32)>],\n",
       " [<tf.Tensor: id=1434, shape=(20000, 2), dtype=float32, numpy=\n",
       "  array([[0.04474655, 0.9552535 ],\n",
       "         [0.9930615 , 0.00693852],\n",
       "         [0.4075432 , 0.5924568 ],\n",
       "         ...,\n",
       "         [0.63777506, 0.36222494],\n",
       "         [0.00136405, 0.99863595],\n",
       "         [0.44578952, 0.55421054]], dtype=float32)>],\n",
       " [<tf.Tensor: id=1429, shape=(20000, 1), dtype=float32, numpy=\n",
       "  array([[-1.3914342 ],\n",
       "         [-0.36865088],\n",
       "         [-0.58890235],\n",
       "         ...,\n",
       "         [ 0.33377427],\n",
       "         [-0.2422579 ],\n",
       "         [ 0.12525919]], dtype=float32)>,\n",
       "  <tf.Tensor: id=1422, shape=(20000, 1), dtype=float32, numpy=\n",
       "  array([[ 2.3594642 ],\n",
       "         [-0.72942483],\n",
       "         [-0.06424731],\n",
       "         ...,\n",
       "         [-0.40696198],\n",
       "         [ 1.332702  ],\n",
       "         [ 0.22277051]], dtype=float32)>]]"
      ]
     },
     "execution_count": 21,
     "metadata": {},
     "output_type": "execute_result"
    }
   ],
   "source": [
    "output"
   ]
  },
  {
   "cell_type": "code",
   "execution_count": 22,
   "metadata": {},
   "outputs": [
    {
     "data": {
      "text/plain": [
       "[1, 1, 0, 3, 2, 1]"
      ]
     },
     "execution_count": 22,
     "metadata": {},
     "output_type": "execute_result"
    }
   ],
   "source": [
    "column_types"
   ]
  },
  {
   "cell_type": "code",
   "execution_count": 23,
   "metadata": {},
   "outputs": [
    {
     "data": {
      "text/plain": [
       "<tf.Tensor: id=1464, shape=(20000, 1), dtype=float32, numpy=\n",
       "array([[-0.17611456],\n",
       "       [-0.9023587 ],\n",
       "       [-0.68740505],\n",
       "       ...,\n",
       "       [-0.5218361 ],\n",
       "       [-0.04726985],\n",
       "       [-0.40121162]], dtype=float32)>"
      ]
     },
     "execution_count": 23,
     "metadata": {},
     "output_type": "execute_result"
    }
   ],
   "source": [
    "output[0][1]"
   ]
  },
  {
   "cell_type": "code",
   "execution_count": 24,
   "metadata": {},
   "outputs": [],
   "source": [
    "mu_x, sigma_x =output[0]"
   ]
  },
  {
   "cell_type": "code",
   "execution_count": 25,
   "metadata": {},
   "outputs": [
    {
     "data": {
      "text/plain": [
       "<tf.Tensor: id=1443, shape=(20000, 1), dtype=float32, numpy=\n",
       "array([[ 1.1206926 ],\n",
       "       [-0.22805619],\n",
       "       [ 0.19105387],\n",
       "       ...,\n",
       "       [ 0.85068905],\n",
       "       [ 1.5963086 ],\n",
       "       [ 1.0619544 ]], dtype=float32)>"
      ]
     },
     "execution_count": 25,
     "metadata": {},
     "output_type": "execute_result"
    }
   ],
   "source": [
    "output[2][0]"
   ]
  },
  {
   "cell_type": "code",
   "execution_count": null,
   "metadata": {},
   "outputs": [],
   "source": []
  }
 ],
 "metadata": {
  "kernelspec": {
   "display_name": "Python 3",
   "language": "python",
   "name": "python3"
  },
  "language_info": {
   "codemirror_mode": {
    "name": "ipython",
    "version": 3
   },
   "file_extension": ".py",
   "mimetype": "text/x-python",
   "name": "python",
   "nbconvert_exporter": "python",
   "pygments_lexer": "ipython3",
   "version": "3.7.3"
  }
 },
 "nbformat": 4,
 "nbformat_minor": 2
}
