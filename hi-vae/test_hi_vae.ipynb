{
 "cells": [
  {
   "cell_type": "code",
   "execution_count": 1,
   "metadata": {},
   "outputs": [],
   "source": [
    "import sys\n",
    "import time\n",
    "sys.path.append('../shared')\n",
    "import tensorflow as tf\n",
    "import pandas as pd\n",
    "import numpy as np\n",
    "from tensorflow import keras\n",
    "import matplotlib.pyplot as plt\n",
    "import copy\n",
    "import elbo_calculator as ec\n",
    "import train\n",
    "import argparse\n",
    "import os\n",
    "import model_hi_vae as mhv\n",
    "from scipy.io import loadmat\n",
    "%load_ext autoreload"
   ]
  },
  {
   "cell_type": "code",
   "execution_count": 2,
   "metadata": {},
   "outputs": [],
   "source": [
    "column_types=[0,0,1,3,2,0]\n",
    "input_dim = 9\n",
    "hidden_dim =3\n",
    "latent_dim=4\n",
    "s_dim=2\n",
    "x_dim = 9"
   ]
  },
  {
   "cell_type": "code",
   "execution_count": 3,
   "metadata": {},
   "outputs": [],
   "source": [
    "rows = 100"
   ]
  },
  {
   "cell_type": "code",
   "execution_count": 4,
   "metadata": {},
   "outputs": [],
   "source": [
    "x0 = np.random.normal(1,2,size=(rows,1))\n",
    "x1 = np.random.normal(0,1,size=(rows,1))\n",
    "x2 = np.log(np.random.poisson(1.5,size=(rows,1))+ 0.01)\n",
    "x3 = tf.one_hot(np.random.randint(0,3,size=rows),3).numpy()\n",
    "x4 = tf.one_hot(np.random.randint(0,2,size=rows),2).numpy()\n",
    "x5 = np.random.normal(0.5,1,size=(rows,1))"
   ]
  },
  {
   "cell_type": "code",
   "execution_count": 5,
   "metadata": {},
   "outputs": [],
   "source": [
    "x = tf.concat([x0,x1,x2,x3,x4,x5], axis=-1).numpy().astype(np.float32)"
   ]
  },
  {
   "cell_type": "code",
   "execution_count": 6,
   "metadata": {},
   "outputs": [
    {
     "data": {
      "text/plain": [
       "array([ 2.9434335 , -0.11920778,  0.00995033,  0.        ,  0.        ,\n",
       "        1.        ,  1.        ,  0.        ,  0.6792717 ], dtype=float32)"
      ]
     },
     "execution_count": 6,
     "metadata": {},
     "output_type": "execute_result"
    }
   ],
   "source": [
    "x[0]"
   ]
  },
  {
   "cell_type": "code",
   "execution_count": 7,
   "metadata": {},
   "outputs": [],
   "source": [
    "model = mhv.model_hi_vae(input_dim, hidden_dim, latent_dim, s_dim, column_types)"
   ]
  },
  {
   "cell_type": "code",
   "execution_count": 8,
   "metadata": {},
   "outputs": [
    {
     "name": "stdout",
     "output_type": "stream",
     "text": [
      "WARNING:tensorflow:Entity <bound method TensorFlowOpLayer._defun_call of <tensorflow.python.eager.function.TfMethodTarget object at 0x7f11b50bce10>> could not be transformed and will be executed as-is. Please report this to the AutoGraph team. When filing the bug, set the verbosity to 10 (on Linux, `export AUTOGRAPH_VERBOSITY=10`) and attach the full output. Cause: Bad argument number for Name: 3, expecting 4\n",
      "WARNING: Entity <bound method TensorFlowOpLayer._defun_call of <tensorflow.python.eager.function.TfMethodTarget object at 0x7f11b50bce10>> could not be transformed and will be executed as-is. Please report this to the AutoGraph team. When filing the bug, set the verbosity to 10 (on Linux, `export AUTOGRAPH_VERBOSITY=10`) and attach the full output. Cause: Bad argument number for Name: 3, expecting 4\n",
      "WARNING:tensorflow:Entity <bound method TensorFlowOpLayer._defun_call of <tensorflow.python.eager.function.TfMethodTarget object at 0x7f11ac39d1d0>> could not be transformed and will be executed as-is. Please report this to the AutoGraph team. When filing the bug, set the verbosity to 10 (on Linux, `export AUTOGRAPH_VERBOSITY=10`) and attach the full output. Cause: Bad argument number for Name: 3, expecting 4\n",
      "WARNING: Entity <bound method TensorFlowOpLayer._defun_call of <tensorflow.python.eager.function.TfMethodTarget object at 0x7f11ac39d1d0>> could not be transformed and will be executed as-is. Please report this to the AutoGraph team. When filing the bug, set the verbosity to 10 (on Linux, `export AUTOGRAPH_VERBOSITY=10`) and attach the full output. Cause: Bad argument number for Name: 3, expecting 4\n",
      "WARNING:tensorflow:Entity <bound method TensorFlowOpLayer._defun_call of <tensorflow.python.eager.function.TfMethodTarget object at 0x7f11ac3a5c50>> could not be transformed and will be executed as-is. Please report this to the AutoGraph team. When filing the bug, set the verbosity to 10 (on Linux, `export AUTOGRAPH_VERBOSITY=10`) and attach the full output. Cause: Bad argument number for Name: 3, expecting 4\n",
      "WARNING: Entity <bound method TensorFlowOpLayer._defun_call of <tensorflow.python.eager.function.TfMethodTarget object at 0x7f11ac3a5c50>> could not be transformed and will be executed as-is. Please report this to the AutoGraph team. When filing the bug, set the verbosity to 10 (on Linux, `export AUTOGRAPH_VERBOSITY=10`) and attach the full output. Cause: Bad argument number for Name: 3, expecting 4\n",
      "WARNING:tensorflow:Entity <bound method TensorFlowOpLayer._defun_call of <tensorflow.python.eager.function.TfMethodTarget object at 0x7f11ac2c6c50>> could not be transformed and will be executed as-is. Please report this to the AutoGraph team. When filing the bug, set the verbosity to 10 (on Linux, `export AUTOGRAPH_VERBOSITY=10`) and attach the full output. Cause: Bad argument number for Name: 3, expecting 4\n",
      "WARNING: Entity <bound method TensorFlowOpLayer._defun_call of <tensorflow.python.eager.function.TfMethodTarget object at 0x7f11ac2c6c50>> could not be transformed and will be executed as-is. Please report this to the AutoGraph team. When filing the bug, set the verbosity to 10 (on Linux, `export AUTOGRAPH_VERBOSITY=10`) and attach the full output. Cause: Bad argument number for Name: 3, expecting 4\n",
      "WARNING:tensorflow:Entity <bound method TensorFlowOpLayer._defun_call of <tensorflow.python.eager.function.TfMethodTarget object at 0x7f11ac2c68d0>> could not be transformed and will be executed as-is. Please report this to the AutoGraph team. When filing the bug, set the verbosity to 10 (on Linux, `export AUTOGRAPH_VERBOSITY=10`) and attach the full output. Cause: Bad argument number for Name: 3, expecting 4\n",
      "WARNING: Entity <bound method TensorFlowOpLayer._defun_call of <tensorflow.python.eager.function.TfMethodTarget object at 0x7f11ac2c68d0>> could not be transformed and will be executed as-is. Please report this to the AutoGraph team. When filing the bug, set the verbosity to 10 (on Linux, `export AUTOGRAPH_VERBOSITY=10`) and attach the full output. Cause: Bad argument number for Name: 3, expecting 4\n",
      "WARNING:tensorflow:Entity <bound method TensorFlowOpLayer._defun_call of <tensorflow.python.eager.function.TfMethodTarget object at 0x7f11ac2da048>> could not be transformed and will be executed as-is. Please report this to the AutoGraph team. When filing the bug, set the verbosity to 10 (on Linux, `export AUTOGRAPH_VERBOSITY=10`) and attach the full output. Cause: Bad argument number for Name: 3, expecting 4\n",
      "WARNING: Entity <bound method TensorFlowOpLayer._defun_call of <tensorflow.python.eager.function.TfMethodTarget object at 0x7f11ac2da048>> could not be transformed and will be executed as-is. Please report this to the AutoGraph team. When filing the bug, set the verbosity to 10 (on Linux, `export AUTOGRAPH_VERBOSITY=10`) and attach the full output. Cause: Bad argument number for Name: 3, expecting 4\n",
      "WARNING:tensorflow:Entity <bound method TensorFlowOpLayer._defun_call of <tensorflow.python.eager.function.TfMethodTarget object at 0x7f11ac2e4a20>> could not be transformed and will be executed as-is. Please report this to the AutoGraph team. When filing the bug, set the verbosity to 10 (on Linux, `export AUTOGRAPH_VERBOSITY=10`) and attach the full output. Cause: Bad argument number for Name: 3, expecting 4\n",
      "WARNING: Entity <bound method TensorFlowOpLayer._defun_call of <tensorflow.python.eager.function.TfMethodTarget object at 0x7f11ac2e4a20>> could not be transformed and will be executed as-is. Please report this to the AutoGraph team. When filing the bug, set the verbosity to 10 (on Linux, `export AUTOGRAPH_VERBOSITY=10`) and attach the full output. Cause: Bad argument number for Name: 3, expecting 4\n",
      "WARNING:tensorflow:Entity <bound method TensorFlowOpLayer._defun_call of <tensorflow.python.eager.function.TfMethodTarget object at 0x7f11ac279128>> could not be transformed and will be executed as-is. Please report this to the AutoGraph team. When filing the bug, set the verbosity to 10 (on Linux, `export AUTOGRAPH_VERBOSITY=10`) and attach the full output. Cause: Bad argument number for Name: 3, expecting 4\n",
      "WARNING: Entity <bound method TensorFlowOpLayer._defun_call of <tensorflow.python.eager.function.TfMethodTarget object at 0x7f11ac279128>> could not be transformed and will be executed as-is. Please report this to the AutoGraph team. When filing the bug, set the verbosity to 10 (on Linux, `export AUTOGRAPH_VERBOSITY=10`) and attach the full output. Cause: Bad argument number for Name: 3, expecting 4\n",
      "WARNING:tensorflow:Entity <bound method TensorFlowOpLayer._defun_call of <tensorflow.python.eager.function.TfMethodTarget object at 0x7f11ac285f98>> could not be transformed and will be executed as-is. Please report this to the AutoGraph team. When filing the bug, set the verbosity to 10 (on Linux, `export AUTOGRAPH_VERBOSITY=10`) and attach the full output. Cause: Bad argument number for Name: 3, expecting 4\n",
      "WARNING: Entity <bound method TensorFlowOpLayer._defun_call of <tensorflow.python.eager.function.TfMethodTarget object at 0x7f11ac285f98>> could not be transformed and will be executed as-is. Please report this to the AutoGraph team. When filing the bug, set the verbosity to 10 (on Linux, `export AUTOGRAPH_VERBOSITY=10`) and attach the full output. Cause: Bad argument number for Name: 3, expecting 4\n",
      "WARNING:tensorflow:Entity <bound method TensorFlowOpLayer._defun_call of <tensorflow.python.eager.function.TfMethodTarget object at 0x7f11ac285b38>> could not be transformed and will be executed as-is. Please report this to the AutoGraph team. When filing the bug, set the verbosity to 10 (on Linux, `export AUTOGRAPH_VERBOSITY=10`) and attach the full output. Cause: Bad argument number for Name: 3, expecting 4\n",
      "WARNING: Entity <bound method TensorFlowOpLayer._defun_call of <tensorflow.python.eager.function.TfMethodTarget object at 0x7f11ac285b38>> could not be transformed and will be executed as-is. Please report this to the AutoGraph team. When filing the bug, set the verbosity to 10 (on Linux, `export AUTOGRAPH_VERBOSITY=10`) and attach the full output. Cause: Bad argument number for Name: 3, expecting 4\n",
      "WARNING:tensorflow:Entity <bound method TensorFlowOpLayer._defun_call of <tensorflow.python.eager.function.TfMethodTarget object at 0x7f11ac29ad68>> could not be transformed and will be executed as-is. Please report this to the AutoGraph team. When filing the bug, set the verbosity to 10 (on Linux, `export AUTOGRAPH_VERBOSITY=10`) and attach the full output. Cause: Bad argument number for Name: 3, expecting 4\n"
     ]
    },
    {
     "name": "stdout",
     "output_type": "stream",
     "text": [
      "WARNING: Entity <bound method TensorFlowOpLayer._defun_call of <tensorflow.python.eager.function.TfMethodTarget object at 0x7f11ac29ad68>> could not be transformed and will be executed as-is. Please report this to the AutoGraph team. When filing the bug, set the verbosity to 10 (on Linux, `export AUTOGRAPH_VERBOSITY=10`) and attach the full output. Cause: Bad argument number for Name: 3, expecting 4\n",
      "WARNING:tensorflow:Entity <bound method TensorFlowOpLayer._defun_call of <tensorflow.python.eager.function.TfMethodTarget object at 0x7f11ac2a0978>> could not be transformed and will be executed as-is. Please report this to the AutoGraph team. When filing the bug, set the verbosity to 10 (on Linux, `export AUTOGRAPH_VERBOSITY=10`) and attach the full output. Cause: Bad argument number for Name: 3, expecting 4\n",
      "WARNING: Entity <bound method TensorFlowOpLayer._defun_call of <tensorflow.python.eager.function.TfMethodTarget object at 0x7f11ac2a0978>> could not be transformed and will be executed as-is. Please report this to the AutoGraph team. When filing the bug, set the verbosity to 10 (on Linux, `export AUTOGRAPH_VERBOSITY=10`) and attach the full output. Cause: Bad argument number for Name: 3, expecting 4\n",
      "WARNING:tensorflow:Entity <bound method TensorFlowOpLayer._defun_call of <tensorflow.python.eager.function.TfMethodTarget object at 0x7f11ac2b2b00>> could not be transformed and will be executed as-is. Please report this to the AutoGraph team. When filing the bug, set the verbosity to 10 (on Linux, `export AUTOGRAPH_VERBOSITY=10`) and attach the full output. Cause: Bad argument number for Name: 3, expecting 4\n",
      "WARNING: Entity <bound method TensorFlowOpLayer._defun_call of <tensorflow.python.eager.function.TfMethodTarget object at 0x7f11ac2b2b00>> could not be transformed and will be executed as-is. Please report this to the AutoGraph team. When filing the bug, set the verbosity to 10 (on Linux, `export AUTOGRAPH_VERBOSITY=10`) and attach the full output. Cause: Bad argument number for Name: 3, expecting 4\n",
      "WARNING:tensorflow:Entity <bound method TensorFlowOpLayer._defun_call of <tensorflow.python.eager.function.TfMethodTarget object at 0x7f11ac3ad8d0>> could not be transformed and will be executed as-is. Please report this to the AutoGraph team. When filing the bug, set the verbosity to 10 (on Linux, `export AUTOGRAPH_VERBOSITY=10`) and attach the full output. Cause: Bad argument number for Name: 3, expecting 4\n",
      "WARNING: Entity <bound method TensorFlowOpLayer._defun_call of <tensorflow.python.eager.function.TfMethodTarget object at 0x7f11ac3ad8d0>> could not be transformed and will be executed as-is. Please report this to the AutoGraph team. When filing the bug, set the verbosity to 10 (on Linux, `export AUTOGRAPH_VERBOSITY=10`) and attach the full output. Cause: Bad argument number for Name: 3, expecting 4\n",
      "WARNING:tensorflow:Entity <bound method TensorFlowOpLayer._defun_call of <tensorflow.python.eager.function.TfMethodTarget object at 0x7f11ac011a58>> could not be transformed and will be executed as-is. Please report this to the AutoGraph team. When filing the bug, set the verbosity to 10 (on Linux, `export AUTOGRAPH_VERBOSITY=10`) and attach the full output. Cause: Bad argument number for Name: 3, expecting 4\n",
      "WARNING: Entity <bound method TensorFlowOpLayer._defun_call of <tensorflow.python.eager.function.TfMethodTarget object at 0x7f11ac011a58>> could not be transformed and will be executed as-is. Please report this to the AutoGraph team. When filing the bug, set the verbosity to 10 (on Linux, `export AUTOGRAPH_VERBOSITY=10`) and attach the full output. Cause: Bad argument number for Name: 3, expecting 4\n",
      "WARNING:tensorflow:Entity <bound method TensorFlowOpLayer._defun_call of <tensorflow.python.eager.function.TfMethodTarget object at 0x7f11ac024c18>> could not be transformed and will be executed as-is. Please report this to the AutoGraph team. When filing the bug, set the verbosity to 10 (on Linux, `export AUTOGRAPH_VERBOSITY=10`) and attach the full output. Cause: Bad argument number for Name: 3, expecting 4\n",
      "WARNING: Entity <bound method TensorFlowOpLayer._defun_call of <tensorflow.python.eager.function.TfMethodTarget object at 0x7f11ac024c18>> could not be transformed and will be executed as-is. Please report this to the AutoGraph team. When filing the bug, set the verbosity to 10 (on Linux, `export AUTOGRAPH_VERBOSITY=10`) and attach the full output. Cause: Bad argument number for Name: 3, expecting 4\n",
      "WARNING:tensorflow:Entity <bound method TensorFlowOpLayer._defun_call of <tensorflow.python.eager.function.TfMethodTarget object at 0x7f11ac03b1d0>> could not be transformed and will be executed as-is. Please report this to the AutoGraph team. When filing the bug, set the verbosity to 10 (on Linux, `export AUTOGRAPH_VERBOSITY=10`) and attach the full output. Cause: Bad argument number for Name: 3, expecting 4\n",
      "WARNING: Entity <bound method TensorFlowOpLayer._defun_call of <tensorflow.python.eager.function.TfMethodTarget object at 0x7f11ac03b1d0>> could not be transformed and will be executed as-is. Please report this to the AutoGraph team. When filing the bug, set the verbosity to 10 (on Linux, `export AUTOGRAPH_VERBOSITY=10`) and attach the full output. Cause: Bad argument number for Name: 3, expecting 4\n",
      "WARNING:tensorflow:Entity <bound method TensorFlowOpLayer._defun_call of <tensorflow.python.eager.function.TfMethodTarget object at 0x7f11ac2b3940>> could not be transformed and will be executed as-is. Please report this to the AutoGraph team. When filing the bug, set the verbosity to 10 (on Linux, `export AUTOGRAPH_VERBOSITY=10`) and attach the full output. Cause: Bad argument number for Name: 3, expecting 4\n",
      "WARNING: Entity <bound method TensorFlowOpLayer._defun_call of <tensorflow.python.eager.function.TfMethodTarget object at 0x7f11ac2b3940>> could not be transformed and will be executed as-is. Please report this to the AutoGraph team. When filing the bug, set the verbosity to 10 (on Linux, `export AUTOGRAPH_VERBOSITY=10`) and attach the full output. Cause: Bad argument number for Name: 3, expecting 4\n",
      "WARNING:tensorflow:Entity <bound method TensorFlowOpLayer._defun_call of <tensorflow.python.eager.function.TfMethodTarget object at 0x7f118ed08860>> could not be transformed and will be executed as-is. Please report this to the AutoGraph team. When filing the bug, set the verbosity to 10 (on Linux, `export AUTOGRAPH_VERBOSITY=10`) and attach the full output. Cause: Bad argument number for Name: 3, expecting 4\n",
      "WARNING: Entity <bound method TensorFlowOpLayer._defun_call of <tensorflow.python.eager.function.TfMethodTarget object at 0x7f118ed08860>> could not be transformed and will be executed as-is. Please report this to the AutoGraph team. When filing the bug, set the verbosity to 10 (on Linux, `export AUTOGRAPH_VERBOSITY=10`) and attach the full output. Cause: Bad argument number for Name: 3, expecting 4\n",
      "WARNING:tensorflow:Entity <bound method TensorFlowOpLayer._defun_call of <tensorflow.python.eager.function.TfMethodTarget object at 0x7f11ac285908>> could not be transformed and will be executed as-is. Please report this to the AutoGraph team. When filing the bug, set the verbosity to 10 (on Linux, `export AUTOGRAPH_VERBOSITY=10`) and attach the full output. Cause: Bad argument number for Name: 3, expecting 4\n",
      "WARNING: Entity <bound method TensorFlowOpLayer._defun_call of <tensorflow.python.eager.function.TfMethodTarget object at 0x7f11ac285908>> could not be transformed and will be executed as-is. Please report this to the AutoGraph team. When filing the bug, set the verbosity to 10 (on Linux, `export AUTOGRAPH_VERBOSITY=10`) and attach the full output. Cause: Bad argument number for Name: 3, expecting 4\n",
      "WARNING:tensorflow:Entity <bound method TensorFlowOpLayer._defun_call of <tensorflow.python.eager.function.TfMethodTarget object at 0x7f118ed17b70>> could not be transformed and will be executed as-is. Please report this to the AutoGraph team. When filing the bug, set the verbosity to 10 (on Linux, `export AUTOGRAPH_VERBOSITY=10`) and attach the full output. Cause: Bad argument number for Name: 3, expecting 4\n",
      "WARNING: Entity <bound method TensorFlowOpLayer._defun_call of <tensorflow.python.eager.function.TfMethodTarget object at 0x7f118ed17b70>> could not be transformed and will be executed as-is. Please report this to the AutoGraph team. When filing the bug, set the verbosity to 10 (on Linux, `export AUTOGRAPH_VERBOSITY=10`) and attach the full output. Cause: Bad argument number for Name: 3, expecting 4\n",
      "WARNING:tensorflow:Entity <bound method TensorFlowOpLayer._defun_call of <tensorflow.python.eager.function.TfMethodTarget object at 0x7f118ed29eb8>> could not be transformed and will be executed as-is. Please report this to the AutoGraph team. When filing the bug, set the verbosity to 10 (on Linux, `export AUTOGRAPH_VERBOSITY=10`) and attach the full output. Cause: Bad argument number for Name: 3, expecting 4\n"
     ]
    },
    {
     "name": "stdout",
     "output_type": "stream",
     "text": [
      "WARNING: Entity <bound method TensorFlowOpLayer._defun_call of <tensorflow.python.eager.function.TfMethodTarget object at 0x7f118ed29eb8>> could not be transformed and will be executed as-is. Please report this to the AutoGraph team. When filing the bug, set the verbosity to 10 (on Linux, `export AUTOGRAPH_VERBOSITY=10`) and attach the full output. Cause: Bad argument number for Name: 3, expecting 4\n",
      "WARNING:tensorflow:Entity <bound method TensorFlowOpLayer._defun_call of <tensorflow.python.eager.function.TfMethodTarget object at 0x7f118ecb7da0>> could not be transformed and will be executed as-is. Please report this to the AutoGraph team. When filing the bug, set the verbosity to 10 (on Linux, `export AUTOGRAPH_VERBOSITY=10`) and attach the full output. Cause: Bad argument number for Name: 3, expecting 4\n",
      "WARNING: Entity <bound method TensorFlowOpLayer._defun_call of <tensorflow.python.eager.function.TfMethodTarget object at 0x7f118ecb7da0>> could not be transformed and will be executed as-is. Please report this to the AutoGraph team. When filing the bug, set the verbosity to 10 (on Linux, `export AUTOGRAPH_VERBOSITY=10`) and attach the full output. Cause: Bad argument number for Name: 3, expecting 4\n"
     ]
    }
   ],
   "source": [
    "z = model.encoder(x)"
   ]
  },
  {
   "cell_type": "code",
   "execution_count": 9,
   "metadata": {},
   "outputs": [],
   "source": [
    "gen_z_func =model.get_z_generator()"
   ]
  },
  {
   "cell_type": "code",
   "execution_count": 10,
   "metadata": {},
   "outputs": [],
   "source": [
    "zs =gen_z_func(x)\n",
    "zs, s_prop, beta, gamma= zs"
   ]
  },
  {
   "cell_type": "code",
   "execution_count": 11,
   "metadata": {},
   "outputs": [
    {
     "data": {
      "text/plain": [
       "<tf.Tensor: id=1408, shape=(20000, 4), dtype=float32, numpy=\n",
       "array([[ 1.9866936 ,  2.4067202 ,  0.85983616, -1.9537601 ],\n",
       "       [ 0.2117889 , -0.16883129,  0.4506566 , -1.5115532 ],\n",
       "       [-1.0516093 ,  1.4522104 ,  0.20814729,  2.0010996 ],\n",
       "       ...,\n",
       "       [ 2.2869532 ,  0.91702753, -2.819608  ,  0.47290552],\n",
       "       [ 1.9900264 ,  2.7436357 ,  0.4184302 ,  0.2849459 ],\n",
       "       [-1.2117223 ,  2.2490628 , -0.38700575,  0.43903273]],\n",
       "      dtype=float32)>"
      ]
     },
     "execution_count": 11,
     "metadata": {},
     "output_type": "execute_result"
    }
   ],
   "source": [
    "tf.reshape(zs,(-1, zs.shape[-1]))"
   ]
  },
  {
   "cell_type": "code",
   "execution_count": 12,
   "metadata": {},
   "outputs": [
    {
     "name": "stdout",
     "output_type": "stream",
     "text": [
      "WARNING:tensorflow:Entity <bound method TensorFlowOpLayer._defun_call of <tensorflow.python.eager.function.TfMethodTarget object at 0x7f118ecdf438>> could not be transformed and will be executed as-is. Please report this to the AutoGraph team. When filing the bug, set the verbosity to 10 (on Linux, `export AUTOGRAPH_VERBOSITY=10`) and attach the full output. Cause: Bad argument number for Name: 3, expecting 4\n",
      "WARNING: Entity <bound method TensorFlowOpLayer._defun_call of <tensorflow.python.eager.function.TfMethodTarget object at 0x7f118ecdf438>> could not be transformed and will be executed as-is. Please report this to the AutoGraph team. When filing the bug, set the verbosity to 10 (on Linux, `export AUTOGRAPH_VERBOSITY=10`) and attach the full output. Cause: Bad argument number for Name: 3, expecting 4\n",
      "WARNING:tensorflow:Entity <bound method TensorFlowOpLayer._defun_call of <tensorflow.python.eager.function.TfMethodTarget object at 0x7f11f5d5b438>> could not be transformed and will be executed as-is. Please report this to the AutoGraph team. When filing the bug, set the verbosity to 10 (on Linux, `export AUTOGRAPH_VERBOSITY=10`) and attach the full output. Cause: Bad argument number for Name: 3, expecting 4\n",
      "WARNING: Entity <bound method TensorFlowOpLayer._defun_call of <tensorflow.python.eager.function.TfMethodTarget object at 0x7f11f5d5b438>> could not be transformed and will be executed as-is. Please report this to the AutoGraph team. When filing the bug, set the verbosity to 10 (on Linux, `export AUTOGRAPH_VERBOSITY=10`) and attach the full output. Cause: Bad argument number for Name: 3, expecting 4\n",
      "WARNING:tensorflow:Entity <bound method TensorFlowOpLayer._defun_call of <tensorflow.python.eager.function.TfMethodTarget object at 0x7f118ecdf630>> could not be transformed and will be executed as-is. Please report this to the AutoGraph team. When filing the bug, set the verbosity to 10 (on Linux, `export AUTOGRAPH_VERBOSITY=10`) and attach the full output. Cause: Bad argument number for Name: 3, expecting 4\n",
      "WARNING: Entity <bound method TensorFlowOpLayer._defun_call of <tensorflow.python.eager.function.TfMethodTarget object at 0x7f118ecdf630>> could not be transformed and will be executed as-is. Please report this to the AutoGraph team. When filing the bug, set the verbosity to 10 (on Linux, `export AUTOGRAPH_VERBOSITY=10`) and attach the full output. Cause: Bad argument number for Name: 3, expecting 4\n",
      "WARNING:tensorflow:Entity <bound method TensorFlowOpLayer._defun_call of <tensorflow.python.eager.function.TfMethodTarget object at 0x7f118ec75cf8>> could not be transformed and will be executed as-is. Please report this to the AutoGraph team. When filing the bug, set the verbosity to 10 (on Linux, `export AUTOGRAPH_VERBOSITY=10`) and attach the full output. Cause: Bad argument number for Name: 3, expecting 4\n",
      "WARNING: Entity <bound method TensorFlowOpLayer._defun_call of <tensorflow.python.eager.function.TfMethodTarget object at 0x7f118ec75cf8>> could not be transformed and will be executed as-is. Please report this to the AutoGraph team. When filing the bug, set the verbosity to 10 (on Linux, `export AUTOGRAPH_VERBOSITY=10`) and attach the full output. Cause: Bad argument number for Name: 3, expecting 4\n",
      "WARNING:tensorflow:Entity <bound method TensorFlowOpLayer._defun_call of <tensorflow.python.eager.function.TfMethodTarget object at 0x7f118ec81978>> could not be transformed and will be executed as-is. Please report this to the AutoGraph team. When filing the bug, set the verbosity to 10 (on Linux, `export AUTOGRAPH_VERBOSITY=10`) and attach the full output. Cause: Bad argument number for Name: 3, expecting 4\n",
      "WARNING: Entity <bound method TensorFlowOpLayer._defun_call of <tensorflow.python.eager.function.TfMethodTarget object at 0x7f118ec81978>> could not be transformed and will be executed as-is. Please report this to the AutoGraph team. When filing the bug, set the verbosity to 10 (on Linux, `export AUTOGRAPH_VERBOSITY=10`) and attach the full output. Cause: Bad argument number for Name: 3, expecting 4\n",
      "WARNING:tensorflow:Entity <bound method TensorFlowOpLayer._defun_call of <tensorflow.python.eager.function.TfMethodTarget object at 0x7f118ec96b00>> could not be transformed and will be executed as-is. Please report this to the AutoGraph team. When filing the bug, set the verbosity to 10 (on Linux, `export AUTOGRAPH_VERBOSITY=10`) and attach the full output. Cause: Bad argument number for Name: 3, expecting 4\n",
      "WARNING: Entity <bound method TensorFlowOpLayer._defun_call of <tensorflow.python.eager.function.TfMethodTarget object at 0x7f118ec96b00>> could not be transformed and will be executed as-is. Please report this to the AutoGraph team. When filing the bug, set the verbosity to 10 (on Linux, `export AUTOGRAPH_VERBOSITY=10`) and attach the full output. Cause: Bad argument number for Name: 3, expecting 4\n",
      "WARNING:tensorflow:Entity <bound method TensorFlowOpLayer._defun_call of <tensorflow.python.eager.function.TfMethodTarget object at 0x7f11ac2fba20>> could not be transformed and will be executed as-is. Please report this to the AutoGraph team. When filing the bug, set the verbosity to 10 (on Linux, `export AUTOGRAPH_VERBOSITY=10`) and attach the full output. Cause: Bad argument number for Name: 3, expecting 4\n",
      "WARNING: Entity <bound method TensorFlowOpLayer._defun_call of <tensorflow.python.eager.function.TfMethodTarget object at 0x7f11ac2fba20>> could not be transformed and will be executed as-is. Please report this to the AutoGraph team. When filing the bug, set the verbosity to 10 (on Linux, `export AUTOGRAPH_VERBOSITY=10`) and attach the full output. Cause: Bad argument number for Name: 3, expecting 4\n",
      "WARNING:tensorflow:Entity <bound method TensorFlowOpLayer._defun_call of <tensorflow.python.eager.function.TfMethodTarget object at 0x7f118ec399b0>> could not be transformed and will be executed as-is. Please report this to the AutoGraph team. When filing the bug, set the verbosity to 10 (on Linux, `export AUTOGRAPH_VERBOSITY=10`) and attach the full output. Cause: Bad argument number for Name: 3, expecting 4\n",
      "WARNING: Entity <bound method TensorFlowOpLayer._defun_call of <tensorflow.python.eager.function.TfMethodTarget object at 0x7f118ec399b0>> could not be transformed and will be executed as-is. Please report this to the AutoGraph team. When filing the bug, set the verbosity to 10 (on Linux, `export AUTOGRAPH_VERBOSITY=10`) and attach the full output. Cause: Bad argument number for Name: 3, expecting 4\n",
      "WARNING:tensorflow:Entity <bound method TensorFlowOpLayer._defun_call of <tensorflow.python.eager.function.TfMethodTarget object at 0x7f118ec39470>> could not be transformed and will be executed as-is. Please report this to the AutoGraph team. When filing the bug, set the verbosity to 10 (on Linux, `export AUTOGRAPH_VERBOSITY=10`) and attach the full output. Cause: Bad argument number for Name: 3, expecting 4\n",
      "WARNING: Entity <bound method TensorFlowOpLayer._defun_call of <tensorflow.python.eager.function.TfMethodTarget object at 0x7f118ec39470>> could not be transformed and will be executed as-is. Please report this to the AutoGraph team. When filing the bug, set the verbosity to 10 (on Linux, `export AUTOGRAPH_VERBOSITY=10`) and attach the full output. Cause: Bad argument number for Name: 3, expecting 4\n",
      "WARNING:tensorflow:Entity <bound method TensorFlowOpLayer._defun_call of <tensorflow.python.eager.function.TfMethodTarget object at 0x7f118ec50d68>> could not be transformed and will be executed as-is. Please report this to the AutoGraph team. When filing the bug, set the verbosity to 10 (on Linux, `export AUTOGRAPH_VERBOSITY=10`) and attach the full output. Cause: Bad argument number for Name: 3, expecting 4\n",
      "WARNING: Entity <bound method TensorFlowOpLayer._defun_call of <tensorflow.python.eager.function.TfMethodTarget object at 0x7f118ec50d68>> could not be transformed and will be executed as-is. Please report this to the AutoGraph team. When filing the bug, set the verbosity to 10 (on Linux, `export AUTOGRAPH_VERBOSITY=10`) and attach the full output. Cause: Bad argument number for Name: 3, expecting 4\n",
      "WARNING:tensorflow:Entity <bound method TensorFlowOpLayer._defun_call of <tensorflow.python.eager.function.TfMethodTarget object at 0x7f118ec65cc0>> could not be transformed and will be executed as-is. Please report this to the AutoGraph team. When filing the bug, set the verbosity to 10 (on Linux, `export AUTOGRAPH_VERBOSITY=10`) and attach the full output. Cause: Bad argument number for Name: 3, expecting 4\n"
     ]
    },
    {
     "name": "stdout",
     "output_type": "stream",
     "text": [
      "WARNING: Entity <bound method TensorFlowOpLayer._defun_call of <tensorflow.python.eager.function.TfMethodTarget object at 0x7f118ec65cc0>> could not be transformed and will be executed as-is. Please report this to the AutoGraph team. When filing the bug, set the verbosity to 10 (on Linux, `export AUTOGRAPH_VERBOSITY=10`) and attach the full output. Cause: Bad argument number for Name: 3, expecting 4\n",
      "WARNING:tensorflow:Entity <bound method TensorFlowOpLayer._defun_call of <tensorflow.python.eager.function.TfMethodTarget object at 0x7f118ebf9c18>> could not be transformed and will be executed as-is. Please report this to the AutoGraph team. When filing the bug, set the verbosity to 10 (on Linux, `export AUTOGRAPH_VERBOSITY=10`) and attach the full output. Cause: Bad argument number for Name: 3, expecting 4\n",
      "WARNING: Entity <bound method TensorFlowOpLayer._defun_call of <tensorflow.python.eager.function.TfMethodTarget object at 0x7f118ebf9c18>> could not be transformed and will be executed as-is. Please report this to the AutoGraph team. When filing the bug, set the verbosity to 10 (on Linux, `export AUTOGRAPH_VERBOSITY=10`) and attach the full output. Cause: Bad argument number for Name: 3, expecting 4\n",
      "WARNING:tensorflow:Entity <bound method TensorFlowOpLayer._defun_call of <tensorflow.python.eager.function.TfMethodTarget object at 0x7f118ec0dcf8>> could not be transformed and will be executed as-is. Please report this to the AutoGraph team. When filing the bug, set the verbosity to 10 (on Linux, `export AUTOGRAPH_VERBOSITY=10`) and attach the full output. Cause: Bad argument number for Name: 3, expecting 4\n",
      "WARNING: Entity <bound method TensorFlowOpLayer._defun_call of <tensorflow.python.eager.function.TfMethodTarget object at 0x7f118ec0dcf8>> could not be transformed and will be executed as-is. Please report this to the AutoGraph team. When filing the bug, set the verbosity to 10 (on Linux, `export AUTOGRAPH_VERBOSITY=10`) and attach the full output. Cause: Bad argument number for Name: 3, expecting 4\n",
      "WARNING:tensorflow:Entity <bound method TensorFlowOpLayer._defun_call of <tensorflow.python.eager.function.TfMethodTarget object at 0x7f118ec259b0>> could not be transformed and will be executed as-is. Please report this to the AutoGraph team. When filing the bug, set the verbosity to 10 (on Linux, `export AUTOGRAPH_VERBOSITY=10`) and attach the full output. Cause: Bad argument number for Name: 3, expecting 4\n",
      "WARNING: Entity <bound method TensorFlowOpLayer._defun_call of <tensorflow.python.eager.function.TfMethodTarget object at 0x7f118ec259b0>> could not be transformed and will be executed as-is. Please report this to the AutoGraph team. When filing the bug, set the verbosity to 10 (on Linux, `export AUTOGRAPH_VERBOSITY=10`) and attach the full output. Cause: Bad argument number for Name: 3, expecting 4\n",
      "WARNING:tensorflow:Entity <bound method TensorFlowOpLayer._defun_call of <tensorflow.python.eager.function.TfMethodTarget object at 0x7f118ebb7b00>> could not be transformed and will be executed as-is. Please report this to the AutoGraph team. When filing the bug, set the verbosity to 10 (on Linux, `export AUTOGRAPH_VERBOSITY=10`) and attach the full output. Cause: Bad argument number for Name: 3, expecting 4\n",
      "WARNING: Entity <bound method TensorFlowOpLayer._defun_call of <tensorflow.python.eager.function.TfMethodTarget object at 0x7f118ebb7b00>> could not be transformed and will be executed as-is. Please report this to the AutoGraph team. When filing the bug, set the verbosity to 10 (on Linux, `export AUTOGRAPH_VERBOSITY=10`) and attach the full output. Cause: Bad argument number for Name: 3, expecting 4\n",
      "WARNING:tensorflow:Entity <bound method TensorFlowOpLayer._defun_call of <tensorflow.python.eager.function.TfMethodTarget object at 0x7f118ebcdb70>> could not be transformed and will be executed as-is. Please report this to the AutoGraph team. When filing the bug, set the verbosity to 10 (on Linux, `export AUTOGRAPH_VERBOSITY=10`) and attach the full output. Cause: Bad argument number for Name: 3, expecting 4\n",
      "WARNING: Entity <bound method TensorFlowOpLayer._defun_call of <tensorflow.python.eager.function.TfMethodTarget object at 0x7f118ebcdb70>> could not be transformed and will be executed as-is. Please report this to the AutoGraph team. When filing the bug, set the verbosity to 10 (on Linux, `export AUTOGRAPH_VERBOSITY=10`) and attach the full output. Cause: Bad argument number for Name: 3, expecting 4\n",
      "WARNING:tensorflow:Entity <bound method TensorFlowOpLayer._defun_call of <tensorflow.python.eager.function.TfMethodTarget object at 0x7f118ebe3a20>> could not be transformed and will be executed as-is. Please report this to the AutoGraph team. When filing the bug, set the verbosity to 10 (on Linux, `export AUTOGRAPH_VERBOSITY=10`) and attach the full output. Cause: Bad argument number for Name: 3, expecting 4\n",
      "WARNING: Entity <bound method TensorFlowOpLayer._defun_call of <tensorflow.python.eager.function.TfMethodTarget object at 0x7f118ebe3a20>> could not be transformed and will be executed as-is. Please report this to the AutoGraph team. When filing the bug, set the verbosity to 10 (on Linux, `export AUTOGRAPH_VERBOSITY=10`) and attach the full output. Cause: Bad argument number for Name: 3, expecting 4\n",
      "WARNING:tensorflow:Entity <bound method TensorFlowOpLayer._defun_call of <tensorflow.python.eager.function.TfMethodTarget object at 0x7f118eb730b8>> could not be transformed and will be executed as-is. Please report this to the AutoGraph team. When filing the bug, set the verbosity to 10 (on Linux, `export AUTOGRAPH_VERBOSITY=10`) and attach the full output. Cause: Bad argument number for Name: 3, expecting 4\n",
      "WARNING: Entity <bound method TensorFlowOpLayer._defun_call of <tensorflow.python.eager.function.TfMethodTarget object at 0x7f118eb730b8>> could not be transformed and will be executed as-is. Please report this to the AutoGraph team. When filing the bug, set the verbosity to 10 (on Linux, `export AUTOGRAPH_VERBOSITY=10`) and attach the full output. Cause: Bad argument number for Name: 3, expecting 4\n",
      "WARNING:tensorflow:Entity <bound method TensorFlowOpLayer._defun_call of <tensorflow.python.eager.function.TfMethodTarget object at 0x7f118eb78128>> could not be transformed and will be executed as-is. Please report this to the AutoGraph team. When filing the bug, set the verbosity to 10 (on Linux, `export AUTOGRAPH_VERBOSITY=10`) and attach the full output. Cause: Bad argument number for Name: 3, expecting 4\n",
      "WARNING: Entity <bound method TensorFlowOpLayer._defun_call of <tensorflow.python.eager.function.TfMethodTarget object at 0x7f118eb78128>> could not be transformed and will be executed as-is. Please report this to the AutoGraph team. When filing the bug, set the verbosity to 10 (on Linux, `export AUTOGRAPH_VERBOSITY=10`) and attach the full output. Cause: Bad argument number for Name: 3, expecting 4\n",
      "WARNING:tensorflow:Entity <bound method TensorFlowOpLayer._defun_call of <tensorflow.python.eager.function.TfMethodTarget object at 0x7f118eb78cf8>> could not be transformed and will be executed as-is. Please report this to the AutoGraph team. When filing the bug, set the verbosity to 10 (on Linux, `export AUTOGRAPH_VERBOSITY=10`) and attach the full output. Cause: Bad argument number for Name: 3, expecting 4\n",
      "WARNING: Entity <bound method TensorFlowOpLayer._defun_call of <tensorflow.python.eager.function.TfMethodTarget object at 0x7f118eb78cf8>> could not be transformed and will be executed as-is. Please report this to the AutoGraph team. When filing the bug, set the verbosity to 10 (on Linux, `export AUTOGRAPH_VERBOSITY=10`) and attach the full output. Cause: Bad argument number for Name: 3, expecting 4\n",
      "WARNING:tensorflow:Entity <bound method TensorFlowOpLayer._defun_call of <tensorflow.python.eager.function.TfMethodTarget object at 0x7f118eb95be0>> could not be transformed and will be executed as-is. Please report this to the AutoGraph team. When filing the bug, set the verbosity to 10 (on Linux, `export AUTOGRAPH_VERBOSITY=10`) and attach the full output. Cause: Bad argument number for Name: 3, expecting 4\n",
      "WARNING: Entity <bound method TensorFlowOpLayer._defun_call of <tensorflow.python.eager.function.TfMethodTarget object at 0x7f118eb95be0>> could not be transformed and will be executed as-is. Please report this to the AutoGraph team. When filing the bug, set the verbosity to 10 (on Linux, `export AUTOGRAPH_VERBOSITY=10`) and attach the full output. Cause: Bad argument number for Name: 3, expecting 4\n"
     ]
    },
    {
     "name": "stdout",
     "output_type": "stream",
     "text": [
      "WARNING:tensorflow:Entity <bound method TensorFlowOpLayer._defun_call of <tensorflow.python.eager.function.TfMethodTarget object at 0x7f118eb38a90>> could not be transformed and will be executed as-is. Please report this to the AutoGraph team. When filing the bug, set the verbosity to 10 (on Linux, `export AUTOGRAPH_VERBOSITY=10`) and attach the full output. Cause: Bad argument number for Name: 3, expecting 4\n",
      "WARNING: Entity <bound method TensorFlowOpLayer._defun_call of <tensorflow.python.eager.function.TfMethodTarget object at 0x7f118eb38a90>> could not be transformed and will be executed as-is. Please report this to the AutoGraph team. When filing the bug, set the verbosity to 10 (on Linux, `export AUTOGRAPH_VERBOSITY=10`) and attach the full output. Cause: Bad argument number for Name: 3, expecting 4\n",
      "WARNING:tensorflow:Entity <bound method TensorFlowOpLayer._defun_call of <tensorflow.python.eager.function.TfMethodTarget object at 0x7f118eb386d8>> could not be transformed and will be executed as-is. Please report this to the AutoGraph team. When filing the bug, set the verbosity to 10 (on Linux, `export AUTOGRAPH_VERBOSITY=10`) and attach the full output. Cause: Bad argument number for Name: 3, expecting 4\n",
      "WARNING: Entity <bound method TensorFlowOpLayer._defun_call of <tensorflow.python.eager.function.TfMethodTarget object at 0x7f118eb386d8>> could not be transformed and will be executed as-is. Please report this to the AutoGraph team. When filing the bug, set the verbosity to 10 (on Linux, `export AUTOGRAPH_VERBOSITY=10`) and attach the full output. Cause: Bad argument number for Name: 3, expecting 4\n",
      "WARNING:tensorflow:Entity <bound method TensorFlowOpLayer._defun_call of <tensorflow.python.eager.function.TfMethodTarget object at 0x7f118eb49c88>> could not be transformed and will be executed as-is. Please report this to the AutoGraph team. When filing the bug, set the verbosity to 10 (on Linux, `export AUTOGRAPH_VERBOSITY=10`) and attach the full output. Cause: Bad argument number for Name: 3, expecting 4\n",
      "WARNING: Entity <bound method TensorFlowOpLayer._defun_call of <tensorflow.python.eager.function.TfMethodTarget object at 0x7f118eb49c88>> could not be transformed and will be executed as-is. Please report this to the AutoGraph team. When filing the bug, set the verbosity to 10 (on Linux, `export AUTOGRAPH_VERBOSITY=10`) and attach the full output. Cause: Bad argument number for Name: 3, expecting 4\n",
      "WARNING:tensorflow:Entity <bound method TensorFlowOpLayer._defun_call of <tensorflow.python.eager.function.TfMethodTarget object at 0x7f118eb66c88>> could not be transformed and will be executed as-is. Please report this to the AutoGraph team. When filing the bug, set the verbosity to 10 (on Linux, `export AUTOGRAPH_VERBOSITY=10`) and attach the full output. Cause: Bad argument number for Name: 3, expecting 4\n",
      "WARNING: Entity <bound method TensorFlowOpLayer._defun_call of <tensorflow.python.eager.function.TfMethodTarget object at 0x7f118eb66c88>> could not be transformed and will be executed as-is. Please report this to the AutoGraph team. When filing the bug, set the verbosity to 10 (on Linux, `export AUTOGRAPH_VERBOSITY=10`) and attach the full output. Cause: Bad argument number for Name: 3, expecting 4\n",
      "WARNING:tensorflow:Entity <bound method TensorFlowOpLayer._defun_call of <tensorflow.python.eager.function.TfMethodTarget object at 0x7f118eb01cc0>> could not be transformed and will be executed as-is. Please report this to the AutoGraph team. When filing the bug, set the verbosity to 10 (on Linux, `export AUTOGRAPH_VERBOSITY=10`) and attach the full output. Cause: Bad argument number for Name: 3, expecting 4\n",
      "WARNING: Entity <bound method TensorFlowOpLayer._defun_call of <tensorflow.python.eager.function.TfMethodTarget object at 0x7f118eb01cc0>> could not be transformed and will be executed as-is. Please report this to the AutoGraph team. When filing the bug, set the verbosity to 10 (on Linux, `export AUTOGRAPH_VERBOSITY=10`) and attach the full output. Cause: Bad argument number for Name: 3, expecting 4\n",
      "WARNING:tensorflow:Entity <bound method TensorFlowOpLayer._defun_call of <tensorflow.python.eager.function.TfMethodTarget object at 0x7f118eb01a90>> could not be transformed and will be executed as-is. Please report this to the AutoGraph team. When filing the bug, set the verbosity to 10 (on Linux, `export AUTOGRAPH_VERBOSITY=10`) and attach the full output. Cause: Bad argument number for Name: 3, expecting 4\n",
      "WARNING: Entity <bound method TensorFlowOpLayer._defun_call of <tensorflow.python.eager.function.TfMethodTarget object at 0x7f118eb01a90>> could not be transformed and will be executed as-is. Please report this to the AutoGraph team. When filing the bug, set the verbosity to 10 (on Linux, `export AUTOGRAPH_VERBOSITY=10`) and attach the full output. Cause: Bad argument number for Name: 3, expecting 4\n",
      "WARNING:tensorflow:Entity <bound method TensorFlowOpLayer._defun_call of <tensorflow.python.eager.function.TfMethodTarget object at 0x7f118eb14a58>> could not be transformed and will be executed as-is. Please report this to the AutoGraph team. When filing the bug, set the verbosity to 10 (on Linux, `export AUTOGRAPH_VERBOSITY=10`) and attach the full output. Cause: Bad argument number for Name: 3, expecting 4\n",
      "WARNING: Entity <bound method TensorFlowOpLayer._defun_call of <tensorflow.python.eager.function.TfMethodTarget object at 0x7f118eb14a58>> could not be transformed and will be executed as-is. Please report this to the AutoGraph team. When filing the bug, set the verbosity to 10 (on Linux, `export AUTOGRAPH_VERBOSITY=10`) and attach the full output. Cause: Bad argument number for Name: 3, expecting 4\n",
      "WARNING:tensorflow:Entity <bound method TensorFlowOpLayer._defun_call of <tensorflow.python.eager.function.TfMethodTarget object at 0x7f118eb1f9b0>> could not be transformed and will be executed as-is. Please report this to the AutoGraph team. When filing the bug, set the verbosity to 10 (on Linux, `export AUTOGRAPH_VERBOSITY=10`) and attach the full output. Cause: Bad argument number for Name: 3, expecting 4\n",
      "WARNING: Entity <bound method TensorFlowOpLayer._defun_call of <tensorflow.python.eager.function.TfMethodTarget object at 0x7f118eb1f9b0>> could not be transformed and will be executed as-is. Please report this to the AutoGraph team. When filing the bug, set the verbosity to 10 (on Linux, `export AUTOGRAPH_VERBOSITY=10`) and attach the full output. Cause: Bad argument number for Name: 3, expecting 4\n",
      "WARNING:tensorflow:Entity <bound method TensorFlowOpLayer._defun_call of <tensorflow.python.eager.function.TfMethodTarget object at 0x7f118eac7e10>> could not be transformed and will be executed as-is. Please report this to the AutoGraph team. When filing the bug, set the verbosity to 10 (on Linux, `export AUTOGRAPH_VERBOSITY=10`) and attach the full output. Cause: Bad argument number for Name: 3, expecting 4\n",
      "WARNING: Entity <bound method TensorFlowOpLayer._defun_call of <tensorflow.python.eager.function.TfMethodTarget object at 0x7f118eac7e10>> could not be transformed and will be executed as-is. Please report this to the AutoGraph team. When filing the bug, set the verbosity to 10 (on Linux, `export AUTOGRAPH_VERBOSITY=10`) and attach the full output. Cause: Bad argument number for Name: 3, expecting 4\n",
      "WARNING:tensorflow:Entity <bound method TensorFlowOpLayer._defun_call of <tensorflow.python.eager.function.TfMethodTarget object at 0x7f118eac7eb8>> could not be transformed and will be executed as-is. Please report this to the AutoGraph team. When filing the bug, set the verbosity to 10 (on Linux, `export AUTOGRAPH_VERBOSITY=10`) and attach the full output. Cause: Bad argument number for Name: 3, expecting 4\n",
      "WARNING: Entity <bound method TensorFlowOpLayer._defun_call of <tensorflow.python.eager.function.TfMethodTarget object at 0x7f118eac7eb8>> could not be transformed and will be executed as-is. Please report this to the AutoGraph team. When filing the bug, set the verbosity to 10 (on Linux, `export AUTOGRAPH_VERBOSITY=10`) and attach the full output. Cause: Bad argument number for Name: 3, expecting 4\n"
     ]
    }
   ],
   "source": [
    "zs_reshaped = tf.reshape(zs,(-1, zs.shape[-1]))\n",
    "output = model.decoder([\n",
    "                zs_reshaped,\n",
    "                beta,\n",
    "                gamma])"
   ]
  },
  {
   "cell_type": "code",
   "execution_count": 13,
   "metadata": {},
   "outputs": [
    {
     "data": {
      "text/plain": [
       "TensorShape([20000, 4])"
      ]
     },
     "execution_count": 13,
     "metadata": {},
     "output_type": "execute_result"
    }
   ],
   "source": [
    "zs_reshaped.shape"
   ]
  },
  {
   "cell_type": "code",
   "execution_count": 14,
   "metadata": {},
   "outputs": [],
   "source": [
    "log_p_xz_func = model.get_func_log_p_xz()\n",
    "log_q_z_x_func = model.get_func_log_q_z_x()"
   ]
  },
  {
   "cell_type": "code",
   "execution_count": 15,
   "metadata": {},
   "outputs": [
    {
     "data": {
      "text/plain": [
       "TensorShape([2, 100, 100, 4])"
      ]
     },
     "execution_count": 15,
     "metadata": {},
     "output_type": "execute_result"
    }
   ],
   "source": [
    "zs.shape"
   ]
  },
  {
   "cell_type": "code",
   "execution_count": 16,
   "metadata": {},
   "outputs": [],
   "source": [
    "secx = model.encoder(x)"
   ]
  },
  {
   "cell_type": "code",
   "execution_count": 17,
   "metadata": {},
   "outputs": [
    {
     "data": {
      "text/plain": [
       "<tf.Tensor: id=1820, shape=(2, 100, 4), dtype=float32, numpy=\n",
       "array([[[ 2.68327296e-02,  8.97384286e-02,  9.10049736e-01,\n",
       "          1.03859141e-01],\n",
       "        [ 2.37559170e-01, -4.28190351e-01,  5.22212148e-01,\n",
       "          7.88778901e-01],\n",
       "        [-6.36598945e-01,  8.03027034e-01,  1.38725030e+00,\n",
       "          4.16047275e-01],\n",
       "        [ 2.07266271e-01,  1.41821063e+00,  5.97280860e-01,\n",
       "          1.96705073e-01],\n",
       "        [ 3.16092104e-01, -7.63149858e-01,  6.25799417e-01,\n",
       "          3.30644667e-01],\n",
       "        [-3.45600545e-01,  1.66888487e+00,  8.88115168e-01,\n",
       "          8.63509119e-01],\n",
       "        [ 4.24623877e-01,  1.38936400e+00,  4.19329077e-01,\n",
       "          1.09257445e-01],\n",
       "        [ 2.46442780e-01,  1.20921075e-01,  5.04546762e-01,\n",
       "          6.81339025e-01],\n",
       "        [ 1.80365294e-01,  1.01271999e+00,  7.79765010e-01,\n",
       "         -1.75860047e-01],\n",
       "        [ 7.80261755e-02,  1.12457418e+00,  8.46086025e-01,\n",
       "         -1.06164806e-01],\n",
       "        [ 1.39557779e-01, -6.45827770e-01,  6.71917915e-01,\n",
       "          6.75373197e-01],\n",
       "        [ 3.12777013e-01, -4.59851742e-01,  4.88081604e-01,\n",
       "          6.81061625e-01],\n",
       "        [-1.75660312e-01, -2.38334060e-01,  9.48430419e-01,\n",
       "          6.56736195e-01],\n",
       "        [-8.85116160e-02,  1.25886917e+00,  9.00979161e-01,\n",
       "          1.78903654e-01],\n",
       "        [-4.45360810e-01,  1.94040686e-01,  1.16000342e+00,\n",
       "          6.95644021e-01],\n",
       "        [ 6.98046803e-01,  1.06730092e+00,  2.02429831e-01,\n",
       "          4.84986603e-02],\n",
       "        [ 2.03842431e-01, -5.44816256e-04,  6.92306936e-01,\n",
       "          2.68667310e-01],\n",
       "        [ 3.24819148e-01, -2.93419003e-01,  4.02132869e-01,\n",
       "          8.64392936e-01],\n",
       "        [ 7.70099163e-02, -2.80048490e-01,  6.84161007e-01,\n",
       "          7.30211496e-01],\n",
       "        [ 1.28996062e+00,  1.37858808e-01, -3.57751966e-01,\n",
       "          2.47340947e-01],\n",
       "        [ 6.37111306e-01,  8.69959593e-02,  4.86701727e-02,\n",
       "          9.29994345e-01],\n",
       "        [ 4.87344354e-01,  1.36792183e+00,  3.85892659e-01,\n",
       "          3.32266390e-02],\n",
       "        [ 5.81317663e-01,  1.14964926e+00,  3.01845372e-01,\n",
       "          6.74279332e-02],\n",
       "        [ 4.58378941e-01,  1.37578213e+00,  4.14582312e-01,\n",
       "          2.88887173e-02],\n",
       "        [ 4.75549579e-01,  1.30425084e+00,  4.02639687e-01,\n",
       "          3.26174945e-02],\n",
       "        [-5.36483526e-01,  6.62074566e-01,  1.36016369e+00,\n",
       "          2.41641119e-01],\n",
       "        [ 9.58759189e-01,  4.09053177e-01, -7.95185566e-02,\n",
       "          3.03415954e-01],\n",
       "        [-5.37192047e-01,  6.59841776e-01,  1.38554275e+00,\n",
       "          1.67712495e-01],\n",
       "        [ 4.59380448e-01,  1.34524143e+00,  4.16499674e-01,\n",
       "          2.77022123e-02],\n",
       "        [ 1.08324206e+00,  2.29809046e-01, -2.66506612e-01,\n",
       "          5.49867094e-01],\n",
       "        [ 2.60213792e-01,  1.34178674e+00,  6.19231582e-01,\n",
       "         -4.46604192e-03],\n",
       "        [-7.74091780e-01,  7.31871963e-01,  1.47026825e+00,\n",
       "          5.82437038e-01],\n",
       "        [-7.17438757e-02,  1.26923251e+00,  8.84641647e-01,\n",
       "          1.76934496e-01],\n",
       "        [ 5.57516992e-01, -2.22404629e-01,  3.07792246e-01,\n",
       "          4.55720395e-01],\n",
       "        [-1.79882064e-01, -2.45928228e-01,  9.47994471e-01,\n",
       "          6.72175944e-01],\n",
       "        [-1.26203865e-01, -1.59765005e-01,  8.91079485e-01,\n",
       "          6.66767836e-01],\n",
       "        [ 3.33199680e-01, -2.37057924e-01,  3.80304247e-01,\n",
       "          8.92036855e-01],\n",
       "        [ 1.06381774e+00,  2.67928183e-01, -2.14375496e-01,\n",
       "          4.39697176e-01],\n",
       "        [ 5.06726742e-01, -2.60609984e-02,  1.78657830e-01,\n",
       "          9.44392800e-01],\n",
       "        [ 2.63920248e-01,  1.32863069e+00,  6.29185557e-01,\n",
       "         -4.20147926e-02],\n",
       "        [ 7.61200488e-02,  1.10024750e+00,  8.56189132e-01,\n",
       "         -1.25120357e-01],\n",
       "        [-5.89830637e-01,  8.06357086e-01,  1.40175247e+00,\n",
       "          2.35686660e-01],\n",
       "        [ 1.73894525e-01, -5.15362203e-01,  6.02044821e-01,\n",
       "          7.54322410e-01],\n",
       "        [ 3.71265411e-01,  1.41767633e+00,  4.97996837e-01,\n",
       "          2.00115442e-02],\n",
       "        [ 8.65210891e-01,  6.29328012e-01,  9.35029685e-02,\n",
       "         -8.27923417e-04],\n",
       "        [ 1.00717187e-01, -4.24796820e-01,  7.03311205e-01,\n",
       "          6.39182568e-01],\n",
       "        [ 1.15164012e-01, -6.56686544e-01,  6.86731219e-01,\n",
       "          7.04205513e-01],\n",
       "        [-2.92998940e-01,  1.61789787e+00,  8.65134954e-01,\n",
       "          7.92588949e-01],\n",
       "        [ 5.02615571e-01, -5.20055890e-02,  2.07105398e-01,\n",
       "          8.76917362e-01],\n",
       "        [-1.88868433e-01,  1.29032075e-01,  9.05949712e-01,\n",
       "          7.32936800e-01],\n",
       "        [ 1.09835580e-01, -1.24374330e-01,  6.33278847e-01,\n",
       "          7.50084460e-01],\n",
       "        [ 2.93366790e-01,  1.42157650e+00,  5.70842385e-01,\n",
       "          2.55831331e-02],\n",
       "        [ 2.32894123e-02, -4.62407589e-01,  7.55715132e-01,\n",
       "          7.15231061e-01],\n",
       "        [ 6.86544299e-01, -7.13773668e-02,  1.43268615e-01,\n",
       "          5.40082455e-01],\n",
       "        [ 2.33395815e-01,  1.30724609e+00,  6.70115709e-01,\n",
       "         -7.15530217e-02],\n",
       "        [ 3.71199548e-01,  1.21685970e+00,  4.58031982e-01,\n",
       "          1.90063775e-01],\n",
       "        [ 2.41555870e-01,  1.42684793e+00,  5.80815554e-01,\n",
       "          1.44664407e-01],\n",
       "        [ 3.72062445e-01, -2.86073446e-01,  3.76919806e-01,\n",
       "          8.01433921e-01],\n",
       "        [ 2.25941017e-01,  1.14851964e+00,  4.22616214e-01,\n",
       "          7.35468388e-01],\n",
       "        [ 3.31506610e-01,  1.31955588e+00,  5.19792914e-01,\n",
       "          9.38444883e-02],\n",
       "        [ 6.96595550e-01, -2.85417974e-01,  3.40186775e-01,\n",
       "         -3.03543173e-02],\n",
       "        [ 3.79539728e-01,  1.40345681e+00,  4.89969462e-01,\n",
       "          2.36856937e-02],\n",
       "        [ 3.40013266e-01,  1.43319690e+00,  5.10604203e-01,\n",
       "          6.89307153e-02],\n",
       "        [ 3.16009343e-01,  4.23665643e-02,  6.47940099e-01,\n",
       "          6.62016347e-02],\n",
       "        [ 6.78378224e-01,  9.30946052e-01,  1.99756026e-01,\n",
       "          1.47179097e-01],\n",
       "        [ 1.15639031e-01, -5.55177748e-01,  6.79881692e-01,\n",
       "          6.98541284e-01],\n",
       "        [-4.15003061e-01,  1.18636966e+00,  1.05592692e+00,\n",
       "          6.77534640e-01],\n",
       "        [ 5.07573366e-01, -1.57292485e-01,  2.54003018e-01,\n",
       "          7.46962249e-01],\n",
       "        [ 8.41134936e-02, -4.33054686e-01,  6.93650842e-01,\n",
       "          7.18558967e-01],\n",
       "        [-4.05309141e-01,  4.83888656e-01,  1.21481562e+00,\n",
       "          3.42828751e-01],\n",
       "        [ 4.56459224e-02, -5.38036108e-01,  7.48530746e-01,\n",
       "          6.90558434e-01],\n",
       "        [ 1.90200418e-01, -1.68693364e-01,  5.42445242e-01,\n",
       "          8.01528215e-01],\n",
       "        [ 2.03077614e-01, -3.88297856e-01,  5.47580183e-01,\n",
       "          8.02605867e-01],\n",
       "        [ 1.24245870e+00, -1.50578901e-01, -2.40117460e-01,\n",
       "          1.01403013e-01],\n",
       "        [ 1.10098124e+00, -8.62375200e-02, -9.94043946e-02,\n",
       "          7.20834434e-02],\n",
       "        [ 1.00342584e+00,  6.25661254e-01, -6.76074624e-02,\n",
       "          8.45699310e-02],\n",
       "        [ 4.19874996e-01,  1.38164210e+00,  4.55326200e-01,\n",
       "          1.63895488e-02],\n",
       "        [-4.35336471e-01,  4.20671791e-01,  1.36388552e+00,\n",
       "         -3.98793817e-03],\n",
       "        [ 3.23749185e-02, -1.94818556e-01,  7.01640129e-01,\n",
       "          7.86173522e-01],\n",
       "        [ 1.70806050e-02,  1.44876897e+00,  7.24800110e-01,\n",
       "          3.56916189e-01],\n",
       "        [-4.68731523e-02,  1.05504155e-01,  7.87888765e-01,\n",
       "          6.82413816e-01],\n",
       "        [ 6.31847203e-01,  5.05817831e-02,  1.58757776e-01,\n",
       "          6.22240305e-01],\n",
       "        [ 8.14710140e-01,  6.32919192e-01,  1.46441728e-01,\n",
       "         -1.47082359e-02],\n",
       "        [ 1.27692342e-01,  8.77023101e-01,  8.45846176e-01,\n",
       "         -1.88842535e-01],\n",
       "        [ 4.66918588e-01, -6.57941222e-01,  4.93921906e-01,\n",
       "          2.64512837e-01],\n",
       "        [-6.17969275e-01,  5.07361650e-01,  1.32530022e+00,\n",
       "          6.21414304e-01],\n",
       "        [-1.96158215e-01, -2.47813761e-01,  9.63997662e-01,\n",
       "          6.71643019e-01],\n",
       "        [-1.05142266e-01,  1.49539828e-01,  9.55629587e-01,\n",
       "          3.34950536e-01],\n",
       "        [ 1.95114911e-01,  1.28647983e+00,  6.85273111e-01,\n",
       "         -9.97722149e-04],\n",
       "        [ 7.91210592e-01, -3.65467250e-01,  2.33224511e-01,\n",
       "          3.71262953e-02],\n",
       "        [-3.88491750e-01,  4.72981483e-01,  1.18747449e+00,\n",
       "          3.79124850e-01],\n",
       "        [-2.56345570e-01,  9.65143442e-01,  1.12769270e+00,\n",
       "          5.47477454e-02],\n",
       "        [ 4.56009299e-01, -1.20320231e-01,  4.01935577e-01,\n",
       "          4.41498637e-01],\n",
       "        [ 4.03124243e-01, -1.08354986e-01,  2.91146815e-01,\n",
       "          9.26231802e-01],\n",
       "        [ 2.16012090e-01, -3.81436884e-01,  8.34571481e-01,\n",
       "         -1.02108762e-01],\n",
       "        [ 1.20842516e+00, -6.46956563e-02, -1.86604589e-01,\n",
       "          1.77536756e-02],\n",
       "        [ 6.24301732e-02, -4.30823803e-01,  8.22447658e-01,\n",
       "          3.92568618e-01],\n",
       "        [ 1.22428536e-02,  1.51836073e+00,  7.19454050e-01,\n",
       "          3.69987488e-01],\n",
       "        [ 3.77674252e-01,  1.47158563e+00,  4.88802850e-01,\n",
       "          1.58817172e-02],\n",
       "        [ 3.70140731e-01,  1.32064390e+00,  4.91515934e-01,\n",
       "          6.66625798e-02]],\n",
       "\n",
       "       [[-9.53067660e-01, -4.23493564e-01,  2.00906128e-01,\n",
       "          2.36617506e-01],\n",
       "        [-7.42341161e-01, -9.41422343e-01, -1.86931491e-01,\n",
       "          9.21537280e-01],\n",
       "        [-1.61649930e+00,  2.89795011e-01,  6.78106666e-01,\n",
       "          5.48805654e-01],\n",
       "        [-7.72634089e-01,  9.04978633e-01, -1.11862779e-01,\n",
       "          3.29463452e-01],\n",
       "        [-6.63808227e-01, -1.27638185e+00, -8.33442360e-02,\n",
       "          4.63403076e-01],\n",
       "        [-1.32550097e+00,  1.15565288e+00,  1.78971529e-01,\n",
       "          9.96267498e-01],\n",
       "        [-5.55276513e-01,  8.76132071e-01, -2.89814562e-01,\n",
       "          2.42015839e-01],\n",
       "        [-7.33457565e-01, -3.92310917e-01, -2.04596907e-01,\n",
       "          8.14097464e-01],\n",
       "        [-7.99535036e-01,  4.99487996e-01,  7.06213862e-02,\n",
       "         -4.31016684e-02],\n",
       "        [-9.01874185e-01,  6.11342132e-01,  1.36942357e-01,\n",
       "          2.65935659e-02],\n",
       "        [-8.40342581e-01, -1.15905976e+00, -3.72256935e-02,\n",
       "          8.08131576e-01],\n",
       "        [-6.67123318e-01, -9.73083735e-01, -2.21062034e-01,\n",
       "          8.13820004e-01],\n",
       "        [-1.15556073e+00, -7.51566052e-01,  2.39286721e-01,\n",
       "          7.89494574e-01],\n",
       "        [-1.06841207e+00,  7.45637119e-01,  1.91835523e-01,\n",
       "          3.11662018e-01],\n",
       "        [-1.42526114e+00, -3.19191277e-01,  4.50859785e-01,\n",
       "          8.28402400e-01],\n",
       "        [-2.81853557e-01,  5.54068923e-01, -5.06713808e-01,\n",
       "          1.81257039e-01],\n",
       "        [-7.76057899e-01, -5.13776779e-01, -1.68366581e-02,\n",
       "          4.01425689e-01],\n",
       "        [-6.55081213e-01, -8.06650996e-01, -3.07010770e-01,\n",
       "          9.97151315e-01],\n",
       "        [-9.02890444e-01, -7.93280482e-01, -2.49826312e-02,\n",
       "          8.62969875e-01],\n",
       "        [ 3.10060263e-01, -3.75373185e-01, -1.06689560e+00,\n",
       "          3.80099326e-01],\n",
       "        [-3.42789084e-01, -4.26236033e-01, -6.60473466e-01,\n",
       "          1.06275272e+00],\n",
       "        [-4.92556006e-01,  8.54689837e-01, -3.23250979e-01,\n",
       "          1.65985018e-01],\n",
       "        [-3.98582667e-01,  6.36417329e-01, -4.07298267e-01,\n",
       "          2.00186312e-01],\n",
       "        [-5.21521389e-01,  8.62550139e-01, -2.94561327e-01,\n",
       "          1.61647081e-01],\n",
       "        [-5.04350781e-01,  7.91018844e-01, -3.06503952e-01,\n",
       "          1.65375888e-01],\n",
       "        [-1.51638389e+00,  1.48842528e-01,  6.51020110e-01,\n",
       "          3.74399483e-01],\n",
       "        [-2.11411715e-02, -1.04178801e-01, -7.88662195e-01,\n",
       "          4.36174333e-01],\n",
       "        [-1.51709247e+00,  1.46609753e-01,  6.76399112e-01,\n",
       "          3.00470889e-01],\n",
       "        [-5.20519912e-01,  8.32009435e-01, -2.92643964e-01,\n",
       "          1.60460591e-01],\n",
       "        [ 1.03341699e-01, -2.83422947e-01, -9.75650251e-01,\n",
       "          6.82625473e-01],\n",
       "        [-7.19686508e-01,  8.28554749e-01, -8.99120867e-02,\n",
       "          1.28292322e-01],\n",
       "        [-1.75399220e+00,  2.18639970e-01,  7.61124611e-01,\n",
       "          7.15195417e-01],\n",
       "        [-1.05164421e+00,  7.56000578e-01,  1.75497979e-01,\n",
       "          3.09692860e-01],\n",
       "        [-4.22383368e-01, -7.35636652e-01, -4.01351422e-01,\n",
       "          5.88478804e-01],\n",
       "        [-1.15978241e+00, -7.59160221e-01,  2.38850832e-01,\n",
       "          8.04934323e-01],\n",
       "        [-1.10610425e+00, -6.72996998e-01,  1.81935787e-01,\n",
       "          7.99526215e-01],\n",
       "        [-6.46700680e-01, -7.50289917e-01, -3.28839391e-01,\n",
       "          1.02479529e+00],\n",
       "        [ 8.39173794e-02, -2.45303825e-01, -9.23519135e-01,\n",
       "          5.72455525e-01],\n",
       "        [-4.73173618e-01, -5.39292932e-01, -5.30485749e-01,\n",
       "          1.07715118e+00],\n",
       "        [-7.15980053e-01,  8.15398693e-01, -7.99580514e-02,\n",
       "          9.07436013e-02],\n",
       "        [-9.03780341e-01,  5.87015510e-01,  1.47045553e-01,\n",
       "          7.63803720e-03],\n",
       "        [-1.56973100e+00,  2.93125093e-01,  6.92608774e-01,\n",
       "          3.68445039e-01],\n",
       "        [-8.06005836e-01, -1.02859426e+00, -1.07098833e-01,\n",
       "          8.87080789e-01],\n",
       "        [-6.08634949e-01,  9.04444396e-01, -2.11146787e-01,\n",
       "          1.52769923e-01],\n",
       "        [-1.14689469e-01,  1.16096020e-01, -6.15640640e-01,\n",
       "          1.31930470e-01],\n",
       "        [-8.79183173e-01, -9.38028812e-01, -5.83244860e-03,\n",
       "          7.71940947e-01],\n",
       "        [-8.64736319e-01, -1.16991854e+00, -2.24124044e-02,\n",
       "          8.36963892e-01],\n",
       "        [-1.27289927e+00,  1.10466588e+00,  1.55991346e-01,\n",
       "          9.25347328e-01],\n",
       "        [-4.77284759e-01, -5.65237641e-01, -5.02038240e-01,\n",
       "          1.00967574e+00],\n",
       "        [-1.16876876e+00, -3.84199917e-01,  1.96806073e-01,\n",
       "          8.65695179e-01],\n",
       "        [-8.70064795e-01, -6.37606323e-01, -7.58647919e-02,\n",
       "          8.82842839e-01],\n",
       "        [-6.86533570e-01,  9.08344507e-01, -1.38301238e-01,\n",
       "          1.58341527e-01],\n",
       "        [-9.56610918e-01, -9.75639582e-01,  4.65714931e-02,\n",
       "          8.47989440e-01],\n",
       "        [-2.93356061e-01, -5.84609389e-01, -5.65875053e-01,\n",
       "          6.72840834e-01],\n",
       "        [-7.46504545e-01,  7.94014096e-01, -3.90279591e-02,\n",
       "          6.12053573e-02],\n",
       "        [-6.08700812e-01,  7.03627706e-01, -2.51111656e-01,\n",
       "          3.22822154e-01],\n",
       "        [-7.38344491e-01,  9.13615942e-01, -1.28328115e-01,\n",
       "          2.77422786e-01],\n",
       "        [-6.07837915e-01, -7.99305439e-01, -3.32223833e-01,\n",
       "          9.34192300e-01],\n",
       "        [-7.53959358e-01,  6.35287642e-01, -2.86527395e-01,\n",
       "          8.68226767e-01],\n",
       "        [-6.48393750e-01,  8.06323826e-01, -1.89350754e-01,\n",
       "          2.26602852e-01],\n",
       "        [-2.83304781e-01, -7.98649967e-01, -3.68956864e-01,\n",
       "          1.02404058e-01],\n",
       "        [-6.00360632e-01,  8.90224814e-01, -2.19174176e-01,\n",
       "          1.56444073e-01],\n",
       "        [-6.39887094e-01,  9.19964910e-01, -1.98539436e-01,\n",
       "          2.01689094e-01],\n",
       "        [-6.63891017e-01, -4.70865428e-01, -6.12035431e-02,\n",
       "          1.98960006e-01],\n",
       "        [-3.01522136e-01,  4.17714059e-01, -5.09387612e-01,\n",
       "          2.79937476e-01],\n",
       "        [-8.64261329e-01, -1.06840968e+00, -2.92618871e-02,\n",
       "          8.31299663e-01],\n",
       "        [-1.39490342e+00,  6.73137665e-01,  3.46783280e-01,\n",
       "          8.10293019e-01],\n",
       "        [-4.72326994e-01, -6.70524478e-01, -4.55140620e-01,\n",
       "          8.79720688e-01],\n",
       "        [-8.95786881e-01, -9.46286678e-01, -1.54928118e-02,\n",
       "          8.51317346e-01],\n",
       "        [-1.38520956e+00, -2.93433517e-02,  5.05672038e-01,\n",
       "          4.75587100e-01],\n",
       "        [-9.34254408e-01, -1.05126810e+00,  3.93870622e-02,\n",
       "          8.23316813e-01],\n",
       "        [-7.89699912e-01, -6.81925356e-01, -1.66698381e-01,\n",
       "          9.34286594e-01],\n",
       "        [-7.76822746e-01, -9.01529849e-01, -1.61563456e-01,\n",
       "          9.35364246e-01],\n",
       "        [ 2.62558341e-01, -6.63810909e-01, -9.49261069e-01,\n",
       "          2.34161377e-01],\n",
       "        [ 1.21080816e-01, -5.99469543e-01, -8.08548033e-01,\n",
       "          2.04841822e-01],\n",
       "        [ 2.35253572e-02,  1.12429246e-01, -7.76751101e-01,\n",
       "          2.17328310e-01],\n",
       "        [-5.60025334e-01,  8.68410110e-01, -2.53817439e-01,\n",
       "          1.49147928e-01],\n",
       "        [-1.41523683e+00, -9.25602168e-02,  6.54741883e-01,\n",
       "          1.28770441e-01],\n",
       "        [-9.47525442e-01, -7.08050549e-01, -7.50347972e-03,\n",
       "          9.18931901e-01],\n",
       "        [-9.62819755e-01,  9.35536981e-01,  1.56564713e-02,\n",
       "          4.89674568e-01],\n",
       "        [-1.02677345e+00, -4.07727838e-01,  7.87451267e-02,\n",
       "          8.15172195e-01],\n",
       "        [-3.48053157e-01, -4.62650239e-01, -5.50385833e-01,\n",
       "          7.54998684e-01],\n",
       "        [-1.65190220e-01,  1.19687200e-01, -5.62701941e-01,\n",
       "          1.18050158e-01],\n",
       "        [-8.52208018e-01,  3.63791108e-01,  1.36702538e-01,\n",
       "         -5.60841560e-02],\n",
       "        [-5.12981772e-01, -1.17117321e+00, -2.15221748e-01,\n",
       "          3.97271246e-01],\n",
       "        [-1.59786963e+00, -5.87031245e-03,  6.16156638e-01,\n",
       "          7.54172683e-01],\n",
       "        [-1.17605853e+00, -7.61045754e-01,  2.54853964e-01,\n",
       "          8.04401398e-01],\n",
       "        [-1.08504260e+00, -3.63692164e-01,  2.46485949e-01,\n",
       "          4.67708945e-01],\n",
       "        [-7.84785450e-01,  7.73247778e-01, -2.38705426e-02,\n",
       "          1.31760657e-01],\n",
       "        [-1.88689768e-01, -8.78699243e-01, -4.75919127e-01,\n",
       "          1.69884682e-01],\n",
       "        [-1.36839211e+00, -4.02505100e-02,  4.78330791e-01,\n",
       "          5.11883259e-01],\n",
       "        [-1.23624587e+00,  4.51911449e-01,  4.18549061e-01,\n",
       "          1.87506139e-01],\n",
       "        [-5.23891091e-01, -6.33552194e-01, -3.07208002e-01,\n",
       "          5.74257016e-01],\n",
       "        [-5.76776147e-01, -6.21587038e-01, -4.17996824e-01,\n",
       "          1.05899024e+00],\n",
       "        [-7.63888240e-01, -8.94668877e-01,  1.25427842e-01,\n",
       "          3.06496024e-02],\n",
       "        [ 2.28524804e-01, -5.77927649e-01, -8.95748258e-01,\n",
       "          1.50512040e-01],\n",
       "        [-9.17470217e-01, -9.44055796e-01,  1.13304004e-01,\n",
       "          5.25326967e-01],\n",
       "        [-9.67657506e-01,  1.00512874e+00,  1.03104264e-02,\n",
       "          5.02745867e-01],\n",
       "        [-6.02226138e-01,  9.58353639e-01, -2.20340773e-01,\n",
       "          1.48640096e-01],\n",
       "        [-6.09759629e-01,  8.07411969e-01, -2.17627704e-01,\n",
       "          1.99420959e-01]]], dtype=float32)>"
      ]
     },
     "execution_count": 17,
     "metadata": {},
     "output_type": "execute_result"
    }
   ],
   "source": [
    "secx[1]"
   ]
  },
  {
   "cell_type": "code",
   "execution_count": 18,
   "metadata": {},
   "outputs": [],
   "source": [
    "ebc = ec.elbo_calculator()"
   ]
  },
  {
   "cell_type": "code",
   "execution_count": 19,
   "metadata": {},
   "outputs": [],
   "source": [
    "loss_func = ebc.get_loss_func_2()"
   ]
  },
  {
   "cell_type": "code",
   "execution_count": 20,
   "metadata": {},
   "outputs": [
    {
     "ename": "IndexError",
     "evalue": "too many indices for array",
     "output_type": "error",
     "traceback": [
      "\u001b[0;31m---------------------------------------------------------------------------\u001b[0m",
      "\u001b[0;31mIndexError\u001b[0m                                Traceback (most recent call last)",
      "\u001b[0;32m<ipython-input-20-0e14d8fb35f2>\u001b[0m in \u001b[0;36m<module>\u001b[0;34m\u001b[0m\n\u001b[0;32m----> 1\u001b[0;31m \u001b[0mloss_func\u001b[0m\u001b[0;34m(\u001b[0m\u001b[0mmodel\u001b[0m\u001b[0;34m,\u001b[0m \u001b[0mx\u001b[0m\u001b[0;34m)\u001b[0m\u001b[0;34m\u001b[0m\u001b[0;34m\u001b[0m\u001b[0m\n\u001b[0m",
      "\u001b[0;32m~/github/impute-vae/shared/elbo_calculator.py\u001b[0m in \u001b[0;36mfunc\u001b[0;34m(model, x, y, options)\u001b[0m\n\u001b[1;32m     31\u001b[0m             \u001b[0mzs\u001b[0m \u001b[0;34m=\u001b[0m \u001b[0mmodel\u001b[0m\u001b[0;34m.\u001b[0m\u001b[0mget_z_generator\u001b[0m\u001b[0;34m(\u001b[0m\u001b[0;34m)\u001b[0m\u001b[0;34m(\u001b[0m\u001b[0mx\u001b[0m\u001b[0;34m,\u001b[0m \u001b[0moptions\u001b[0m\u001b[0;34m)\u001b[0m\u001b[0;34m\u001b[0m\u001b[0;34m\u001b[0m\u001b[0m\n\u001b[1;32m     32\u001b[0m             return -(model.get_func_log_p_xz()(zs, x)\n\u001b[0;32m---> 33\u001b[0;31m                 - model.get_func_log_q_z_x()(zs, x))/len(zs)/len(x)\n\u001b[0m\u001b[1;32m     34\u001b[0m         \u001b[0;32mreturn\u001b[0m \u001b[0mfunc\u001b[0m\u001b[0;34m\u001b[0m\u001b[0;34m\u001b[0m\u001b[0m\n",
      "\u001b[0;32m~/github/impute-vae/hi-vae/model_hi_vae.py\u001b[0m in \u001b[0;36mfunc\u001b[0;34m(zs, x)\u001b[0m\n\u001b[1;32m     71\u001b[0m                     \u001b[0mi\u001b[0m \u001b[0;34m+=\u001b[0m \u001b[0;36m1\u001b[0m\u001b[0;34m\u001b[0m\u001b[0;34m\u001b[0m\u001b[0m\n\u001b[1;32m     72\u001b[0m                 \u001b[0;32melif\u001b[0m \u001b[0mt\u001b[0m \u001b[0;34m==\u001b[0m \u001b[0;36m0\u001b[0m\u001b[0;34m:\u001b[0m\u001b[0;34m\u001b[0m\u001b[0;34m\u001b[0m\u001b[0m\n\u001b[0;32m---> 73\u001b[0;31m                     \u001b[0mlog_lambda_x\u001b[0m \u001b[0;34m=\u001b[0m \u001b[0moutput\u001b[0m\u001b[0;34m[\u001b[0m\u001b[0;34m:\u001b[0m\u001b[0;34m,\u001b[0m \u001b[0mj\u001b[0m\u001b[0;34m]\u001b[0m\u001b[0;34m\u001b[0m\u001b[0;34m\u001b[0m\u001b[0m\n\u001b[0m\u001b[1;32m     74\u001b[0m                     p = tf.nn.log_poisson_loss(\n\u001b[1;32m     75\u001b[0m                             \u001b[0mx\u001b[0m\u001b[0;34m[\u001b[0m\u001b[0;34m:\u001b[0m\u001b[0;34m,\u001b[0m \u001b[0mi\u001b[0m\u001b[0;34m]\u001b[0m\u001b[0;34m,\u001b[0m\u001b[0;34m\u001b[0m\u001b[0;34m\u001b[0m\u001b[0m\n",
      "\u001b[0;31mIndexError\u001b[0m: too many indices for array"
     ]
    }
   ],
   "source": [
    "loss_func(model, x)"
   ]
  },
  {
   "cell_type": "code",
   "execution_count": 23,
   "metadata": {},
   "outputs": [
    {
     "ename": "TypeError",
     "evalue": "list indices must be integers or slices, not tuple",
     "output_type": "error",
     "traceback": [
      "\u001b[0;31m---------------------------------------------------------------------------\u001b[0m",
      "\u001b[0;31mTypeError\u001b[0m                                 Traceback (most recent call last)",
      "\u001b[0;32m<ipython-input-23-b9379e70defd>\u001b[0m in \u001b[0;36m<module>\u001b[0;34m\u001b[0m\n\u001b[0;32m----> 1\u001b[0;31m \u001b[0moutput\u001b[0m\u001b[0;34m[\u001b[0m\u001b[0;34m:\u001b[0m\u001b[0;34m,\u001b[0m\u001b[0;36m1\u001b[0m\u001b[0;34m]\u001b[0m\u001b[0;34m\u001b[0m\u001b[0;34m\u001b[0m\u001b[0m\n\u001b[0m",
      "\u001b[0;31mTypeError\u001b[0m: list indices must be integers or slices, not tuple"
     ]
    }
   ],
   "source": [
    "output[:,1]"
   ]
  },
  {
   "cell_type": "code",
   "execution_count": null,
   "metadata": {},
   "outputs": [],
   "source": []
  }
 ],
 "metadata": {
  "kernelspec": {
   "display_name": "Python 3",
   "language": "python",
   "name": "python3"
  },
  "language_info": {
   "codemirror_mode": {
    "name": "ipython",
    "version": 3
   },
   "file_extension": ".py",
   "mimetype": "text/x-python",
   "name": "python",
   "nbconvert_exporter": "python",
   "pygments_lexer": "ipython3",
   "version": "3.7.3"
  }
 },
 "nbformat": 4,
 "nbformat_minor": 2
}
