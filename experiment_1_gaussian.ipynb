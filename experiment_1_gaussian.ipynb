{
 "cells": [
  {
   "cell_type": "markdown",
   "metadata": {},
   "source": [
    "Model: $X = Z + \\epsilon$ where $Z$ and $\\epsilon$ are independent unit normal. \\\n",
    "Then $p(x|z) \\approx \\mathcal{N}(z, 1)$ and $q(z|x) \\approx \\mathcal{N}(x/2,1/\\sqrt{2})$. \\\n",
    "Let's numerically verify this: \n",
    "1. Generate $M$ value pairs for $(X,Z)$ where $X=x$ and verify that $Z$ is approximately $\\mathcal{N}(x/2,1/\\sqrt{2})$\n",
    "2. Generate $M$ value pairs for $(X,Z)$ where $Z=z$ and verify that $X$ is approximately $\\mathcal{N}(z,1)$"
   ]
  },
  {
   "cell_type": "code",
   "execution_count": 67,
   "metadata": {},
   "outputs": [],
   "source": [
    "import numpy as np\n",
    "from matplotlib import pyplot as plt\n",
    "from scipy import stats"
   ]
  },
  {
   "cell_type": "code",
   "execution_count": 44,
   "metadata": {},
   "outputs": [],
   "source": [
    "def gen_fixed_z(value, num):\n",
    "    eps = np.random.normal(0,1, size=num)\n",
    "    return list(zip(eps +value, [value]*num))"
   ]
  },
  {
   "cell_type": "code",
   "execution_count": 92,
   "metadata": {},
   "outputs": [],
   "source": [
    "def gen_fixed_x(value, num):\n",
    "    z_minus_eps = np.random.normal(0,1, size=num) - np.random.normal(0,1, size=num)\n",
    "    return list(zip([value]*num, z_minus_eps/2 + value/2))"
   ]
  },
  {
   "cell_type": "code",
   "execution_count": 105,
   "metadata": {},
   "outputs": [],
   "source": [
    "def test_p_x_z():\n",
    "    value = 2\n",
    "    num = 1000000\n",
    "    x_zs = gen_fixed_z(value, num)\n",
    "    xs = [x for (x,z) in x_zs]\n",
    "    assert(stats.jarque_bera(xs)[1] > .05)\n",
    "    plt.hist(xs, bins=1000)"
   ]
  },
  {
   "cell_type": "code",
   "execution_count": 106,
   "metadata": {},
   "outputs": [
    {
     "data": {
      "image/png": "[encoded data removed]",
      "text/plain": [
       "<Figure size 432x288 with 1 Axes>"
      ]
     },
     "metadata": {
      "needs_background": "light"
     },
     "output_type": "display_data"
    }
   ],
   "source": [
    "test_p_x_z()"
   ]
  },
  {
   "cell_type": "code",
   "execution_count": 107,
   "metadata": {},
   "outputs": [],
   "source": [
    "def test_q_z_x():\n",
    "    value = 2\n",
    "    num = 1000000\n",
    "    x_zs = gen_fixed_x(value, num)\n",
    "    zs = [z for (x,z) in x_zs]\n",
    "    assert(stats.jarque_bera(zs)[1] >.05)\n",
    "    plt.hist(zs, bins=1000)"
   ]
  },
  {
   "cell_type": "code",
   "execution_count": 108,
   "metadata": {},
   "outputs": [
    {
     "data": {
      "image/png": "[encoded data removed]",
      "text/plain": [
       "<Figure size 432x288 with 1 Axes>"
      ]
     },
     "metadata": {
      "needs_background": "light"
     },
     "output_type": "display_data"
    }
   ],
   "source": [
    "test_q_z_x()"
   ]
  },
  {
   "cell_type": "code",
   "execution_count": 109,
   "metadata": {},
   "outputs": [
    {
     "data": {
      "text/plain": [
       "(600.0000240000007, 0.0)"
      ]
     },
     "execution_count": 109,
     "metadata": {},
     "output_type": "execute_result"
    }
   ],
   "source": [
    "stats.jarque_bera(np.arange(10000))"
   ]
  },
  {
   "cell_type": "code",
   "execution_count": 110,
   "metadata": {},
   "outputs": [
    {
     "data": {
      "text/plain": [
       "(0.5621870332000727, 0.7549577310987352)"
      ]
     },
     "execution_count": 110,
     "metadata": {},
     "output_type": "execute_result"
    }
   ],
   "source": [
    "stats.jarque_bera(np.random.normal(0,1,100000))"
   ]
  },
  {
   "cell_type": "markdown",
   "metadata": {},
   "source": [
    "$$-\\frac{1}{2} \\, z^{2} + \\frac{{\\left(a_{1} x + b_{1} - z\\right)}^{2}}{2 \\, \\sigma_{1}^{2}} - \\frac{{\\left(a_{2} z + b_{2} - x\\right)}^{2}}{2 \\, \\sigma_{2}^{2}} + \\log\\left(\\frac{\\sqrt{2}}{2 \\, \\sqrt{\\pi}}\\right) - \\log\\left(\\frac{1}{\\sigma_{1}}\\right) + \\log\\left(\\frac{1}{\\sigma_{2}}\\right)$$"
   ]
  },
  {
   "cell_type": "code",
   "execution_count": null,
   "metadata": {},
   "outputs": [],
   "source": []
  }
 ],
 "metadata": {
  "kernelspec": {
   "display_name": "Python 3",
   "language": "python",
   "name": "python3"
  },
  "language_info": {
   "codemirror_mode": {
    "name": "ipython",
    "version": 3
   },
   "file_extension": ".py",
   "mimetype": "text/x-python",
   "name": "python",
   "nbconvert_exporter": "python",
   "pygments_lexer": "ipython3",
   "version": "3.7.3"
  }
 },
 "nbformat": 4,
 "nbformat_minor": 2
}
