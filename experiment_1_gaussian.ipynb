{
 "cells": [
  {
   "cell_type": "markdown",
   "metadata": {},
   "source": [
    "Model: $X = Z + \\epsilon$ where $Z$ and $\\epsilon$ are independent unit normal. \\\n",
    "Then $p(x|z) \\approx \\mathcal{N}(z, 1)$ and $q(z|x) \\approx \\mathcal{N}(x/2,1/\\sqrt{2})$. \\\n",
    "Let's numerically verify this: \n",
    "1. Generate $M$ value pairs for $(X,Z)$ where $X=x$ and verify that $Z$ is approximately $\\mathcal{N}(x/2,1/\\sqrt{2})$\n",
    "2. Generate $M$ value pairs for $(X,Z)$ where $Z=z$ and verify that $X$ is approximately $\\mathcal{N}(z,1)$"
   ]
  },
  {
   "cell_type": "code",
   "execution_count": 1,
   "metadata": {},
   "outputs": [],
   "source": [
    "import numpy as np\n",
    "from matplotlib import pyplot as plt\n",
    "from scipy import stats"
   ]
  },
  {
   "cell_type": "code",
   "execution_count": 2,
   "metadata": {},
   "outputs": [],
   "source": [
    "def gen_fixed_z(value, num):\n",
    "    eps = np.random.normal(0,1, size=num)\n",
    "    return list(zip(eps +value, [value]*num))"
   ]
  },
  {
   "cell_type": "code",
   "execution_count": 3,
   "metadata": {},
   "outputs": [],
   "source": [
    "def gen_fixed_x(value, num):\n",
    "    z_minus_eps = np.random.normal(0,1, size=num) - np.random.normal(0,1, size=num)\n",
    "    return list(zip([value]*num, z_minus_eps/2 + value/2))"
   ]
  },
  {
   "cell_type": "code",
   "execution_count": 4,
   "metadata": {},
   "outputs": [],
   "source": [
    "def test_p_x_z():\n",
    "    value = 2\n",
    "    num = 1000000\n",
    "    x_zs = gen_fixed_z(value, num)\n",
    "    xs = [x for (x,z) in x_zs]\n",
    "    assert(stats.jarque_bera(xs)[1] > .05)\n",
    "    plt.hist(xs, bins=1000)"
   ]
  },
  {
   "cell_type": "code",
   "execution_count": 5,
   "metadata": {},
   "outputs": [
    {
     "data": {
      "image/png": "[encoded data removed]",
      "text/plain": [
       "<Figure size 432x288 with 1 Axes>"
      ]
     },
     "metadata": {
      "needs_background": "light"
     },
     "output_type": "display_data"
    }
   ],
   "source": [
    "test_p_x_z()"
   ]
  },
  {
   "cell_type": "code",
   "execution_count": 6,
   "metadata": {},
   "outputs": [],
   "source": [
    "def test_q_z_x():\n",
    "    value = 2\n",
    "    num = 1000000\n",
    "    x_zs = gen_fixed_x(value, num)\n",
    "    zs = [z for (x,z) in x_zs]\n",
    "    assert(stats.jarque_bera(zs)[1] >.05)\n",
    "    plt.hist(zs, bins=1000)"
   ]
  },
  {
   "cell_type": "code",
   "execution_count": 7,
   "metadata": {
    "scrolled": true
   },
   "outputs": [
    {
     "data": {
      "image/png": "[encoded data removed]",
      "text/plain": [
       "<Figure size 432x288 with 1 Axes>"
      ]
     },
     "metadata": {
      "needs_background": "light"
     },
     "output_type": "display_data"
    }
   ],
   "source": [
    "test_q_z_x()"
   ]
  },
  {
   "cell_type": "markdown",
   "metadata": {},
   "source": [
    "### Evidence lower bound analysis"
   ]
  },
  {
   "cell_type": "markdown",
   "metadata": {},
   "source": [
    "Consider the following recogition model: \\\n",
    "$ q(Z|X) \\sim \\mathcal{N}(a_1X + b_1, \\sigma_1) \\ $ and $\\ p(X|Z) \\sim \\mathcal{N}(a_2Z + b_2, \\sigma_2)$ \\\n",
    "and also $Z$ has unit normal prior. Then the evidence lower bound function is\n",
    "\n",
    "$$\\text{elbo}(x,z) = -\\frac{1}{2} \\, z^{2} + \\frac{{\\left(a_{1} x + b_{1} - z\\right)}^{2}}{2 \\, \\sigma_{1}^{2}} - \\frac{{\\left(a_{2} z + b_{2} - x\\right)}^{2}}{2 \\, \\sigma_{2}^{2}} + \\log\\left(\\frac{\\sqrt{2}}{2 \\, \\sqrt{\\pi}}\\right) - \\log\\left(\\frac{1}{\\sigma_{1}}\\right) + \\log\\left(\\frac{1}{\\sigma_{2}}\\right)$$\n",
    "\n",
    "First we expand:\n",
    "$$\\frac{a_{1}^{2} x^{2}}{2 \\, \\sigma_{1}^{2}} - \\frac{a_{2}^{2} z^{2}}{2 \\, \\sigma_{2}^{2}} - \\frac{1}{2} \\, z^{2} + \\frac{a_{1} b_{1} x}{\\sigma_{1}^{2}} - \\frac{a_{2} b_{2} z}{\\sigma_{2}^{2}} - \\frac{a_{1} x z}{\\sigma_{1}^{2}} + \\frac{a_{2} x z}{\\sigma_{2}^{2}} + \\frac{b_{1}^{2}}{2 \\, \\sigma_{1}^{2}} - \\frac{b_{2}^{2}}{2 \\, \\sigma_{2}^{2}} + \\frac{b_{2} x}{\\sigma_{2}^{2}} - \\frac{x^{2}}{2 \\, \\sigma_{2}^{2}} - \\frac{b_{1} z}{\\sigma_{1}^{2}} + \\frac{z^{2}}{2 \\, \\sigma_{1}^{2}} + \\\\ \\log\\left(\\frac{\\sqrt{2}}{2 \\, \\sqrt{\\pi}}\\right) - \\log\\left(\\frac{1}{\\sigma_{1}}\\right) + \\log\\left(\\frac{1}{\\sigma_{2}}\\right)$$\n",
    "\n",
    "and then integrating over $z \\sim \\mathcal{N}(a_1x + b_1, \\sigma_1)$, with $Ez = a_1x + b_1$ amd $Ez^2 = (a_1x+b_1)^2 + \\sigma_1^2$\n",
    "\n",
    "\n",
    "$$\\newcommand{\\Bold}[1]{\\mathbf{#1}}-\\frac{1}{2} \\, a_{1}^{2} x^{2} - \\frac{a_{1}^{2} a_{2}^{2} x^{2}}{2 \\, \\sigma_{2}^{2}} - a_{1} b_{1} x - \\frac{a_{1} a_{2}^{2} b_{1} x}{\\sigma_{2}^{2}} - \\frac{1}{2} \\, b_{1}^{2} - \\frac{1}{2} \\, \\sigma_{1}^{2} - \\frac{a_{2}^{2} b_{1}^{2}}{2 \\, \\sigma_{2}^{2}} - \\frac{a_{2}^{2} \\sigma_{1}^{2}}{2 \\, \\sigma_{2}^{2}} - \\frac{a_{1} a_{2} b_{2} x}{\\sigma_{2}^{2}} + \\frac{a_{1} a_{2} x^{2}}{\\sigma_{2}^{2}} - \\frac{a_{2} b_{1} b_{2}}{\\sigma_{2}^{2}} + \\frac{a_{2} b_{1} x}{\\sigma_{2}^{2}} - \\frac{b_{2}^{2}}{2 \\, \\sigma_{2}^{2}} + \\frac{b_{2} x}{\\sigma_{2}^{2}} - \\frac{x^{2}}{2 \\, \\sigma_{2}^{2}} + \\log\\left(\\sigma_{1}\\right) - \\log\\left(\\sigma_{2}\\right) + \\log\\left(\\frac{\\sqrt{2}}{2 \\, \\sqrt{\\pi}}\\right) + \\frac{1}{2}$$"
   ]
  },
  {
   "cell_type": "markdown",
   "metadata": {},
   "source": [
    "Now we integrate over $x \\sim \\mathcal{N}(0,2)$, with $Ex = 0\\ $ and $\\ Ex^2 = 2$ to get:\n",
    "$$F = \\newcommand{\\Bold}[1]{\\mathbf{#1}}-a_{1}^{2} - \\frac{1}{2} \\, b_{1}^{2} - \\frac{1}{2} \\, \\sigma_{1}^{2} - \\frac{a_{1}^{2} a_{2}^{2}}{\\sigma_{2}^{2}} - \\frac{a_{2}^{2} b_{1}^{2}}{2 \\, \\sigma_{2}^{2}} - \\frac{a_{2}^{2} \\sigma_{1}^{2}}{2 \\, \\sigma_{2}^{2}} - \\frac{a_{2} b_{1} b_{2}}{\\sigma_{2}^{2}} + \\frac{2 \\, a_{1} a_{2}}{\\sigma_{2}^{2}} - \\frac{b_{2}^{2}}{2 \\, \\sigma_{2}^{2}} - \\frac{1}{\\sigma_{2}^{2}} + \\log\\left(\\sigma_{1}\\right) - \\log\\left(\\sigma_{2}\\right) + \\log\\left(\\frac{\\sqrt{2}}{2 \\, \\sqrt{\\pi}}\\right) + \\frac{1}{2}\n",
    "$$\n"
   ]
  },
  {
   "cell_type": "markdown",
   "metadata": {},
   "source": [
    "The following are the partial derivatives:\n",
    "\\begin{eqnarray*}\n",
    "\\frac{\\partial{F}}{\\partial{a_1}} &=& -2 \\, a_{1} - \\frac{2 \\, a_{1} a_{2}^{2}}{\\sigma_{2}^{2}} + \\frac{2 \\, a_{2}}{\\sigma_{2}^{2}} \\\\\n",
    "\\frac{\\partial{F}}{\\partial{a_2}} &=& -\\frac{2 \\, a_{1}^{2} a_{2}}{\\sigma_{2}^{2}} - \\frac{a_{2} b_{1}^{2}}{\\sigma_{2}^{2}} - \\frac{a_{2} \\sigma_{1}^{2}}{\\sigma_{2}^{2}} - \\frac{b_{1} b_{2}}{\\sigma_{2}^{2}} + \\frac{2 \\, a_{1}}{\\sigma_{2}^{2}} \\\\\n",
    "\\frac{\\partial{F}}{\\partial{b_1}} &=& \\newcommand{\\Bold}[1]{\\mathbf{#1}}-\\frac{2 \\, a_{1}^{2} b_{1}}{\\sigma_{2}^{2}} - \\frac{a_{2}^{2} b_{1}}{\\sigma_{2}^{2}} - \\frac{b_{1} \\sigma_{1}^{2}}{\\sigma_{2}^{2}} - \\frac{a_{2} b_{2}}{\\sigma_{2}^{2}} + \\frac{2 \\, a_{1}}{\\sigma_{2}^{2}}\\\\\n",
    "\\frac{\\partial{F}}{\\partial{b_2}} &=& \\newcommand{\\Bold}[1]{\\mathbf{#1}}-\\frac{a_{2} b_{1}}{\\sigma_{2}^{2}} - \\frac{b_{2}}{\\sigma_{2}^{2}} \\\\\n",
    "\\frac{\\partial{F}}{\\partial{\\sigma_1}} &=& \\newcommand{\\Bold}[1]{\\mathbf{#1}}-\\sigma_{1} - \\frac{b_{1}^{2} \\sigma_{1}}{\\sigma_{2}^{2}} + \\frac{1}{\\sigma_{1}} \\\\\n",
    "\\frac{\\partial{F}}{\\partial{\\sigma_2}} &=& \\newcommand{\\Bold}[1]{\\mathbf{#1}}\\frac{2 \\, a_{1}^{2} b_{1}^{2}}{\\sigma_{2}^{3}} + \\frac{a_{2}^{2} b_{1}^{2}}{\\sigma_{2}^{3}} + \\frac{b_{1}^{2} \\sigma_{1}^{2}}{\\sigma_{2}^{3}} + \\frac{2 \\, a_{2} b_{1} b_{2}}{\\sigma_{2}^{3}} - \\frac{4 \\, a_{1} b_{1}}{\\sigma_{2}^{3}} + \\frac{b_{2}^{2}}{\\sigma_{2}^{3}} - \\frac{1}{\\sigma_{2}} + \\frac{2}{\\sigma_{2}^{3}}\n",
    "\\end{eqnarray*}"
   ]
  },
  {
   "cell_type": "markdown",
   "metadata": {},
   "source": [
    "We can see that $a_1 = 1/2, a_2 = 1, b_1 = b_2 = 0, \\sigma_1 = 1/\\sqrt{2}, \\sigma_2 = 1$ is a stationary point"
   ]
  },
  {
   "cell_type": "markdown",
   "metadata": {},
   "source": [
    "Now we will run tensorflow to see if it can discover this point by maximizing $F$."
   ]
  },
  {
   "cell_type": "code",
   "execution_count": 8,
   "metadata": {},
   "outputs": [],
   "source": [
    "import tensorflow as tf"
   ]
  },
  {
   "cell_type": "code",
   "execution_count": 9,
   "metadata": {},
   "outputs": [],
   "source": [
    "def loss(a1,a2,b1,b2,sigma1,sigma2):\n",
    "    return (-a1**2 - 1/2*b1**2 - 1/2*sigma1**2 - a1**2*a2**2/sigma2**2 \n",
    "            -1/2*a2**2*b1**2/sigma2**2 - 1/2*a2**2*sigma1**2/sigma2**2\n",
    "            -a2*b1*b2/sigma2**2 + 2*a1*a2/sigma2**2 - 1/2*b2**2/sigma2**2\n",
    "            -1/sigma2**2 + tf.math.log(sigma1) - tf.math.log(sigma2)\n",
    "            + tf.math.log(1/2*tf.sqrt(2.0)/tf.sqrt(np.pi)) + 1/2)"
   ]
  },
  {
   "cell_type": "code",
   "execution_count": 10,
   "metadata": {},
   "outputs": [
    {
     "name": "stdout",
     "output_type": "stream",
     "text": [
      "[0.8, 0.7, 0.7, 0.8, 0.9, 1.4, -4.9189386]\n",
      "[0.26774672, 0.53549397, -2.9368648e-21, 6.7602745e-21, 0.9255394, 1.308911, -1.7655122]\n",
      "[0.26774672, 0.53549397, -3.6871e-41, 8.4872e-41, 0.9255394, 1.308911, -1.7655122]\n",
      "[0.26774672, 0.53549397, -8e-45, 1.5e-44, 0.9255394, 1.308911, -1.7655122]\n",
      "[0.26774672, 0.53549397, -8e-45, 1.5e-44, 0.9255394, 1.308911, -1.7655122]\n",
      "[0.26774672, 0.53549397, -8e-45, 1.5e-44, 0.9255394, 1.308911, -1.7655122]\n",
      "[0.26774672, 0.53549397, -8e-45, 1.5e-44, 0.9255394, 1.308911, -1.7655122]\n",
      "[0.26774672, 0.53549397, -8e-45, 1.5e-44, 0.9255394, 1.308911, -1.7655122]\n",
      "[0.26774672, 0.53549397, -8e-45, 1.5e-44, 0.9255394, 1.308911, -1.7655122]\n",
      "[0.26774672, 0.53549397, -8e-45, 1.5e-44, 0.9255394, 1.308911, -1.7655122]\n"
     ]
    }
   ],
   "source": [
    "a1 = tf.Variable(1.0)\n",
    "b1 = tf.Variable(1.0)\n",
    "a2 = tf.Variable(1.0)\n",
    "b2 = tf.Variable(1.0)\n",
    "sigma1 = tf.Variable(1.0)\n",
    "sigma2 = tf.Variable(1.0)\n",
    "epochs = 10000\n",
    "optimizer = tf.keras.optimizers.Adamax()\n",
    "learning_rate = 0.1\n",
    "for epoch in range(epochs):\n",
    "    with tf.GradientTape() as t:\n",
    "        t.watch([a1, a2, b1, b2, sigma1, sigma2])\n",
    "        F = loss(a1,a2,b1,b2,sigma1,sigma2)\n",
    "        da1, da2, db1, db2, dsigma1, dsigma2 = t.gradient(F, [a1, a2, b1, b2, sigma1, sigma2])\n",
    "        a1.assign_add(learning_rate*da1)\n",
    "        a2.assign_add(learning_rate*da2)\n",
    "        b1.assign_add(learning_rate*db1)\n",
    "        b2.assign_add(learning_rate*db2)\n",
    "        sigma1.assign_add(learning_rate*dsigma1)\n",
    "        sigma2.assign_add(learning_rate*dsigma2)\n",
    "        if epoch % 1000 == 0:\n",
    "            print([x.numpy() for x in [a1,a2,b1,b2,sigma1,sigma2,F]])\n",
    "        "
   ]
  },
  {
   "cell_type": "code",
   "execution_count": 11,
   "metadata": {},
   "outputs": [
    {
     "name": "stdout",
     "output_type": "stream",
     "text": [
      "tf.Tensor(-1.7655122, shape=(), dtype=float32)\n"
     ]
    }
   ],
   "source": [
    "tf.keras.backend.set_floatx('float32')\n",
    "print(loss(0.5,1.0,0.0,0.0,1/tf.sqrt(2.0),1.0))"
   ]
  },
  {
   "cell_type": "markdown",
   "metadata": {},
   "source": [
    "There are many optimal solutions and the analytical solution above is one of them.\\\n",
    "However, the model actually imposes more constraints on the parameters than we have used.\\\n",
    "We can see that\n",
    "\\begin{eqnarray*}\n",
    "EX &=& E_Z(a_2Z+b_2) = b_2 \\\\\n",
    "EX^2 &=& E_Z(a_2Z^2+b_2) =  \\sigma_2^2 + a_2^2 + b_2^2 \\\\\n",
    "EZ^2 &=& E_X(EZ^2|X) = E_X(a_1X + b_1X)^2 + \\sigma_2^2 \\\\\n",
    "&=& a_1^2EX^2  + 2a_1b_1EX + b_1^2 + \\sigma_1^2 \\\\\n",
    "&=& a_1^2(\\sigma_2^2 + a_2^2 + b_2^2) + 2a_1b_1b_2 + b_1^2 + \\sigma_1^2 = 1\n",
    "\\end{eqnarray*}"
   ]
  },
  {
   "cell_type": "markdown",
   "metadata": {},
   "source": [
    "Now we will replace $\\sigma_1^2$ by $1 - a_1^2(\\sigma_2^2 + a_2^2 + b_2^2) - 2a_1b_1b_2 - b_1^2$ and try the optimization again."
   ]
  },
  {
   "cell_type": "code",
   "execution_count": 12,
   "metadata": {},
   "outputs": [],
   "source": [
    "def get_sigma1(a1,a2,b1,b2,sigma2):\n",
    "    return tf.sqrt(1.0 - a1**2*(sigma2**2 + a2**2 + b2**2) - 2*a1*b1*b2 - b1**2)"
   ]
  },
  {
   "cell_type": "code",
   "execution_count": 13,
   "metadata": {},
   "outputs": [],
   "source": [
    "def loss2(a1,a2,b1,b2,sigma2):\n",
    "    sigma1 = get_sigma1(a1,a2,b1,b2,sigma2)\n",
    "    return loss(a1,a2,b1,b2,sigma1,sigma2)"
   ]
  },
  {
   "cell_type": "code",
   "execution_count": 14,
   "metadata": {},
   "outputs": [],
   "source": [
    "def constraint(a1,a2,b1,b2,sigma1,sigma2):\n",
    "    return a1**2*(sigma2**2 + a2**2 + b2**2) + 2*a1*b1*b2 + b1**2 + sigma1**2"
   ]
  },
  {
   "cell_type": "code",
   "execution_count": 15,
   "metadata": {},
   "outputs": [
    {
     "name": "stdout",
     "output_type": "stream",
     "text": [
      "[0.099657714, 0.10892073, 0.08876026, 0.088986024, 0.9891274, 1.0981951, -1.9251027]\n",
      "[0.07588988, 0.15177853, -5.249129e-05, 0.00036689814, 0.9942241, 1.4060409, -1.7655122]\n",
      "[0.07588961, 0.15177909, -3.4159007e-07, 2.3015466e-06, 0.9942241, 1.4060446, -1.7655122]\n",
      "[0.07588961, 0.15177909, -2.1447066e-09, 1.444878e-08, 0.9942241, 1.4060446, -1.7655122]\n",
      "[0.07588961, 0.15177909, -1.3464203e-11, 9.070763e-11, 0.9942241, 1.4060446, -1.7655122]\n",
      "[0.07588961, 0.15177909, -8.452661e-14, 5.6945133e-13, 0.9942241, 1.4060446, -1.7655122]\n",
      "[0.07588961, 0.15177909, -5.306476e-16, 3.574945e-15, 0.9942241, 1.4060446, -1.7655122]\n",
      "[0.07588961, 0.15177909, -3.3313396e-18, 2.244306e-17, 0.9942241, 1.4060446, -1.7655122]\n",
      "[0.07588961, 0.15177909, -2.091373e-20, 1.408947e-19, 0.9942241, 1.4060446, -1.7655122]\n",
      "[0.07588961, 0.15177909, -1.3129378e-22, 8.845191e-22, 0.9942241, 1.4060446, -1.7655122]\n"
     ]
    }
   ],
   "source": [
    "a1 = tf.Variable(0.1)\n",
    "b1 = tf.Variable(0.1)\n",
    "a2 = tf.Variable(0.1)\n",
    "b2 = tf.Variable(0.1)\n",
    "sigma2 = tf.Variable(1.0)\n",
    "epochs = 1000\n",
    "optimizer = tf.keras.optimizers.Adamax()\n",
    "learning_rate = 0.1\n",
    "for epoch in range(epochs):\n",
    "    with tf.GradientTape() as t:\n",
    "        t.watch([a1, a2, b1, b2, sigma2])\n",
    "        F = loss2(a1,a2,b1,b2,sigma2)\n",
    "        da1, da2, db1, db2, dsigma2 = t.gradient(F, [a1, a2, b1, b2, sigma2])\n",
    "        a1.assign_add(learning_rate*da1)\n",
    "        a2.assign_add(learning_rate*da2)\n",
    "        b1.assign_add(learning_rate*db1)\n",
    "        b2.assign_add(learning_rate*db2)\n",
    "        sigma2.assign_add(learning_rate*dsigma2)\n",
    "        if epoch % 100 == 0:\n",
    "            sigma1 = get_sigma1(a1,a2,b1,b2,sigma2)\n",
    "            print([x.numpy() for x in [a1,a2,b1,b2,sigma1, sigma2,F]])"
   ]
  },
  {
   "cell_type": "markdown",
   "metadata": {},
   "source": [
    "We still couldn't get the desired solution. More constraints are needed."
   ]
  },
  {
   "cell_type": "code",
   "execution_count": 16,
   "metadata": {},
   "outputs": [],
   "source": [
    "def elbo(x,z, a1, a2, b1, b2, sigma1, sigma2):\n",
    "    return (-z**2/2 + (a1*x + b1 -z)**2/2/sigma1**2 - (a2*z + b2 -x)**2/2/sigma2**2\n",
    "            + np.log(1/(np.sqrt(2*np.pi))) + np.log(sigma1) - np.log(sigma2) )\n",
    "\n",
    "def elbo_x(x, a1, a2, b1, b2, sigma1, sigma2):\n",
    "    return (-1/2*a1**2*x**2 - a1**2*a2**2*x**2/2/sigma2**2 - a1*b1*x\n",
    "            -a1*a2**2*b1*x/sigma2**2 - b1**2/2 - sigma1**2/2 - a2**2*b1**2/2/sigma2**2\n",
    "            -a2**2*sigma1**2/2/sigma2**2 - a1*a2*b2*x/sigma2**2 + a1*a2*x**2/sigma2**2\n",
    "            -a2*b1*b2/sigma2**2 + a2*b1*x/sigma2**2 -b2**2/2/sigma2**2 + b2*x/sigma2**2\n",
    "            -x**2/2/sigma2**2 + np.log(sigma1) - np.log(sigma2) - np.log(np.sqrt(2*np.pi)) + 1/2)"
   ]
  },
  {
   "cell_type": "code",
   "execution_count": 17,
   "metadata": {},
   "outputs": [
    {
     "data": {
      "text/plain": [
       "(-1.7656506, -1.7656506, -1.7655122)"
      ]
     },
     "execution_count": 17,
     "metadata": {},
     "output_type": "execute_result"
    }
   ],
   "source": [
    "a1, a2, b1, b2, sigma1, sigma2 = 0.5, 1, 0.0, 0.0, 1.0/tf.sqrt(2.0), 1.0\n",
    "N = 10000000\n",
    "zs = np.random.normal(0,1, N)\n",
    "xs = zs + np.random.normal(0,1, N)\n",
    "res_x = elbo_x(xs, a1, a2, b1, b2, sigma1, sigma2)\n",
    "res = elbo(xs, zs, a1, a2, b1, b2, sigma1, sigma2)\n",
    "np.mean(res), np.mean(res_x), loss(a1,a2,b1,b2,sigma1,sigma2).numpy()"
   ]
  },
  {
   "cell_type": "code",
   "execution_count": 18,
   "metadata": {},
   "outputs": [],
   "source": [
    "import tensorflow as tf\n",
    "import pandas as pd\n",
    "import numpy as np\n",
    "from tensorflow import keras\n",
    "import matplotlib.pyplot as plt\n",
    "import copy\n",
    "import model_normal_simple as mns\n",
    "import model_vae_bayes as mvb\n",
    "import elbo_calculator as ec"
   ]
  },
  {
   "cell_type": "code",
   "execution_count": 19,
   "metadata": {},
   "outputs": [
    {
     "name": "stdout",
     "output_type": "stream",
     "text": [
      "WARNING:tensorflow:Entity <bound method model_normal_simple_layer.call of <model_normal_simple.model_normal_simple_layer object at 0x7fc2e110e518>> could not be transformed and will be executed as-is. Please report this to the AutoGraph team. When filing the bug, set the verbosity to 10 (on Linux, `export AUTOGRAPH_VERBOSITY=10`) and attach the full output. Cause: Bad argument number for Name: 3, expecting 4\n",
      "WARNING: Entity <bound method model_normal_simple_layer.call of <model_normal_simple.model_normal_simple_layer object at 0x7fc2e110e518>> could not be transformed and will be executed as-is. Please report this to the AutoGraph team. When filing the bug, set the verbosity to 10 (on Linux, `export AUTOGRAPH_VERBOSITY=10`) and attach the full output. Cause: Bad argument number for Name: 3, expecting 4\n",
      "WARNING:tensorflow:Entity <bound method model_normal_simple_layer.call of <model_normal_simple.model_normal_simple_layer object at 0x7fc2e008d9b0>> could not be transformed and will be executed as-is. Please report this to the AutoGraph team. When filing the bug, set the verbosity to 10 (on Linux, `export AUTOGRAPH_VERBOSITY=10`) and attach the full output. Cause: Bad argument number for Name: 3, expecting 4\n",
      "WARNING: Entity <bound method model_normal_simple_layer.call of <model_normal_simple.model_normal_simple_layer object at 0x7fc2e008d9b0>> could not be transformed and will be executed as-is. Please report this to the AutoGraph team. When filing the bug, set the verbosity to 10 (on Linux, `export AUTOGRAPH_VERBOSITY=10`) and attach the full output. Cause: Bad argument number for Name: 3, expecting 4\n",
      "WARNING:tensorflow:Layer model_normal_simple_layer is casting an input tensor from dtype float64 to the layer's dtype of float32, which is new behavior in TensorFlow 2.  The layer has dtype float32 because it's dtype defaults to floatx.\n",
      "\n",
      "If you intended to run this layer in float32, you can safely ignore this warning. If in doubt, this warning is likely only an issue if you are porting a TensorFlow 1.X model to TensorFlow 2.\n",
      "\n",
      "To change all layers to have dtype float64 by default, call `tf.keras.backend.set_floatx('float64')`. To change just this layer, pass dtype='float64' to the layer constructor. If you are the author of this layer, you can disable autocasting by passing autocast=False to the base Layer constructor.\n",
      "\n",
      "epoch 200: loss = 2.5350924\n",
      "epoch 400: loss = 2.0355387\n",
      "epoch 600: loss = 1.8560082\n",
      "epoch 800: loss = 1.7926022\n",
      "epoch 1000: loss = 1.7723292\n",
      "epoch 1200: loss = 1.7654363\n",
      "epoch 1400: loss = 1.762422\n",
      "epoch 1600: loss = 1.7611587\n",
      "epoch 1800: loss = 1.7604368\n",
      "epoch 2000: loss = 1.7600085\n",
      "epoch 2200: loss = 1.7596731\n",
      "epoch 2400: loss = 1.7594357\n",
      "epoch 2600: loss = 1.7593004\n",
      "epoch 2800: loss = 1.7591975\n",
      "epoch 3000: loss = 1.7591598\n",
      "epoch 3200: loss = 1.7591368\n",
      "epoch 3400: loss = 1.7591159\n",
      "epoch 3600: loss = 1.7591282\n",
      "epoch 3800: loss = 1.759124\n",
      "epoch 4000: loss = 1.7591246\n",
      "epoch 4200: loss = 1.7591327\n",
      "epoch 4400: loss = 1.7591305\n",
      "epoch 4600: loss = 1.759123\n",
      "epoch 4800: loss = 1.7591277\n",
      "epoch 5000: loss = 1.7591296\n",
      "epoch 5200: loss = 1.7591289\n",
      "epoch 5400: loss = 1.7591329\n",
      "epoch 5600: loss = 1.7591325\n",
      "epoch 5800: loss = 1.7591321\n",
      "epoch 6000: loss = 1.7591306\n",
      "epoch 6200: loss = 1.759128\n",
      "epoch 6400: loss = 1.7591236\n",
      "epoch 6600: loss = 1.759133\n",
      "epoch 6800: loss = 1.7591518\n",
      "epoch 7000: loss = 1.7591254\n",
      "epoch 7200: loss = 1.7591379\n",
      "epoch 7400: loss = 1.7591271\n",
      "epoch 7600: loss = 1.7591318\n",
      "epoch 7800: loss = 1.7591285\n",
      "epoch 8000: loss = 1.7591189\n",
      "epoch 8200: loss = 1.7591156\n",
      "epoch 8400: loss = 1.7591317\n",
      "epoch 8600: loss = 1.7591214\n",
      "epoch 8800: loss = 1.7591462\n",
      "epoch 9000: loss = 1.7591254\n",
      "epoch 9200: loss = 1.7591296\n",
      "epoch 9400: loss = 1.7591367\n",
      "epoch 9600: loss = 1.759125\n",
      "epoch 9800: loss = 1.759133\n",
      "epoch 10000: loss = 1.7591412\n"
     ]
    }
   ],
   "source": [
    "epochs=10000\n",
    "batch_size=32\n",
    "zs = np.random.normal(0,1, (1000,1))\n",
    "xs = zs + np.random.normal(0,1, (1000,1))\n",
    "model = mns.model_normal_simple()\n",
    "elbo_cal = ec.elbo_calculator(model, xs)\n",
    "optimizer = tf.keras.optimizers.Adamax()\n",
    "options = {'length': 100, 'seed': 0}\n",
    "for epoch in range(epochs):\n",
    "    loss_elbo = lambda : elbo_cal.get_elbo(options)\n",
    "    optimizer.minimize(loss_elbo, model.get_trainable_variables())\n",
    "    if (epoch+1) % 200 == 0:\n",
    "        print('epoch %s: loss = %s' %(epoch + 1, loss_elbo().numpy()))"
   ]
  },
  {
   "cell_type": "code",
   "execution_count": 20,
   "metadata": {},
   "outputs": [
    {
     "data": {
      "text/plain": [
       "([<tf.Variable 'model_normal_simple_layer/a:0' shape=() dtype=float32, numpy=0.616099>,\n",
       "  <tf.Variable 'model_normal_simple_layer/b:0' shape=() dtype=float32, numpy=0.013964243>,\n",
       "  <tf.Variable 'model_normal_simple_layer/sigma:0' shape=() dtype=float32, numpy=0.50141793>],\n",
       " [0.616099, 0.013964243, 0.50141793])"
      ]
     },
     "execution_count": 20,
     "metadata": {},
     "output_type": "execute_result"
    }
   ],
   "source": [
    "model.encoder.trainable_variables, model.encoder.get_weights()"
   ]
  },
  {
   "cell_type": "code",
   "execution_count": 21,
   "metadata": {},
   "outputs": [
    {
     "data": {
      "text/plain": [
       "[<tf.Variable 'model_normal_simple_layer_1/a:0' shape=() dtype=float32, numpy=1.2162175>,\n",
       " <tf.Variable 'model_normal_simple_layer_1/b:0' shape=() dtype=float32, numpy=-0.021237144>,\n",
       " <tf.Variable 'model_normal_simple_layer_1/sigma:0' shape=() dtype=float32, numpy=0.704466>]"
      ]
     },
     "execution_count": 21,
     "metadata": {},
     "output_type": "execute_result"
    }
   ],
   "source": [
    "model.decoder.trainable_variables"
   ]
  },
  {
   "cell_type": "code",
   "execution_count": 22,
   "metadata": {},
   "outputs": [],
   "source": [
    "a1,b1,sigma1,a2,b2,sigma2= *model.encoder.get_weights(), *model.decoder.get_weights()"
   ]
  },
  {
   "cell_type": "code",
   "execution_count": 23,
   "metadata": {},
   "outputs": [
    {
     "data": {
      "text/plain": [
       "<tf.Tensor: id=7629406, shape=(), dtype=float32, numpy=-1.765667>"
      ]
     },
     "execution_count": 23,
     "metadata": {},
     "output_type": "execute_result"
    }
   ],
   "source": [
    "loss(a1,a2,b1,b2,sigma1,sigma2)"
   ]
  },
  {
   "cell_type": "code",
   "execution_count": 24,
   "metadata": {},
   "outputs": [
    {
     "data": {
      "text/plain": [
       "-1.7657305414100763"
      ]
     },
     "execution_count": 24,
     "metadata": {},
     "output_type": "execute_result"
    }
   ],
   "source": [
    "N = 10000000\n",
    "zs = np.random.normal(0,1, N)\n",
    "xs = zs + np.random.normal(0,1, N)\n",
    "res = elbo(xs, zs, a1, a2, b1, b2, sigma1, sigma2)\n",
    "np.mean(res)"
   ]
  },
  {
   "cell_type": "code",
   "execution_count": null,
   "metadata": {},
   "outputs": [],
   "source": []
  }
 ],
 "metadata": {
  "kernelspec": {
   "display_name": "Python 3",
   "language": "python",
   "name": "python3"
  },
  "language_info": {
   "codemirror_mode": {
    "name": "ipython",
    "version": 3
   },
   "file_extension": ".py",
   "mimetype": "text/x-python",
   "name": "python",
   "nbconvert_exporter": "python",
   "pygments_lexer": "ipython3",
   "version": "3.7.3"
  }
 },
 "nbformat": 4,
 "nbformat_minor": 2
}
