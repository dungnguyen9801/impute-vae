{
 "cells": [
  {
   "cell_type": "code",
   "execution_count": 31,
   "metadata": {},
   "outputs": [],
   "source": [
    "import tensorflow as tf\n",
    "import pandas as pd\n",
    "import numpy as np\n",
    "from tensorflow import keras\n",
    "import matplotlib.pyplot as plt\n",
    "import copy"
   ]
  },
  {
   "cell_type": "code",
   "execution_count": 32,
   "metadata": {},
   "outputs": [],
   "source": [
    "tf.keras.backend.set_floatx('float32')"
   ]
  },
  {
   "cell_type": "code",
   "execution_count": 33,
   "metadata": {},
   "outputs": [],
   "source": [
    "def get_gaussian_densities(zs, mu_z, sigma_z):\n",
    "    return -(zs - mu_z)**2/(2*sigma_z*sigma_z) - 0.5*tf.math.log(2*np.pi*sigma_z*sigma_z)"
   ]
  },
  {
   "cell_type": "code",
   "execution_count": 34,
   "metadata": {},
   "outputs": [],
   "source": [
    "def get_model_vae_gaussian(dim_z_hidden, dim_z, input_shape, dim_x_hidden):\n",
    "    flatten_encode = keras.layers.Flatten()\n",
    "    dense_encode = keras.layers.Dense(dim_z_hidden, activation='tanh')\n",
    "    mu_encode = keras.layers.Dense(dim_z, activation='linear')\n",
    "    log_sigma_encode = keras.layers.Dense(dim_z, activation='linear')\n",
    "    inputs_encode = keras.layers.Input(shape=(*input_shape,))\n",
    "    encoder=keras.models.Model(\n",
    "        inputs=inputs_encode,\n",
    "        outputs=(\n",
    "            mu_encode(dense_encode(flatten_encode(inputs_encode))),\n",
    "            log_sigma_encode(dense_encode(flatten_encode(inputs_encode)))\n",
    "        )\n",
    "    )\n",
    "    \n",
    "    dim_x = np.prod(input_shape)    \n",
    "    dense_decode = keras.layers.Dense(dim_x_hidden, activation='tanh')\n",
    "    mu_decode = keras.layers.Dense(dim_x, activation='linear')\n",
    "    log_sigma_decode = keras.layers.Dense(dim_x, activation='linear')\n",
    "    inputs_decode = keras.layers.Input(shape=(dim_z,))\n",
    "    decoder=keras.models.Model(\n",
    "        inputs=inputs_decode,\n",
    "        outputs=(\n",
    "            mu_decode(dense_decode((inputs_decode))),\n",
    "            log_sigma_decode(dense_decode((inputs_decode)))\n",
    "        )\n",
    "    )\n",
    "    \n",
    "    return encoder, decoder"
   ]
  },
  {
   "cell_type": "code",
   "execution_count": 35,
   "metadata": {},
   "outputs": [],
   "source": [
    "def abstract_elbo(x, z_generators, func_log_p_z_theta, func_log_q_z_x, func_log_p_x_z, options):\n",
    "    zs = z_generators(x, options)\n",
    "    return -(tf.math.reduce_sum(func_log_p_z_theta(zs)) \n",
    "            + tf.math.reduce_sum(func_log_p_x_z(zs, x))\n",
    "            - tf.math.reduce_sum(func_log_q_z_x(zs, x)))/len(zs)"
   ]
  },
  {
   "cell_type": "code",
   "execution_count": 36,
   "metadata": {},
   "outputs": [],
   "source": [
    "def get_z_gaussian_generator(encoder):\n",
    "    def func(x, options):\n",
    "        mu_z, log_sigma_z = encoder(x)\n",
    "        sigma_z = tf.math.exp(log_sigma_z)\n",
    "        if not options:\n",
    "            L = 100\n",
    "            seed = 0\n",
    "        else:\n",
    "            L = options['length']\n",
    "            seed = options['seed']\n",
    "        if seed:\n",
    "            np.random.seed(seed)\n",
    "        eps = np.random.normal(0,1, size = (L, x.shape[0], mu_z.shape[1]))\n",
    "        return eps* sigma_z + mu_z\n",
    "    return func"
   ]
  },
  {
   "cell_type": "code",
   "execution_count": 37,
   "metadata": {},
   "outputs": [],
   "source": [
    "def func_log_p_z_gaussian(zs):\n",
    "    return -zs**2/2 - 0.5 * tf.math.log(2*np.pi)"
   ]
  },
  {
   "cell_type": "code",
   "execution_count": 38,
   "metadata": {},
   "outputs": [],
   "source": [
    "def get_func_log_q_z_x_gaussian(encoder):\n",
    "    def func(zs, x):\n",
    "        mu_z, log_sigma_z = encoder(x)\n",
    "        sigma_z = tf.math.exp(log_sigma_z)\n",
    "        return get_gaussian_densities(zs, mu_z, sigma_z)\n",
    "    return func"
   ]
  },
  {
   "cell_type": "code",
   "execution_count": 39,
   "metadata": {},
   "outputs": [],
   "source": [
    "def get_func_log_p_x_z_gaussian(decoder):\n",
    "    def func(zs, x):\n",
    "        mu_x, log_sigma_x = decoder(tf.reshape(zs,(-1, zs.shape[2])))\n",
    "        sigma_x = tf.math.exp(log_sigma_x)\n",
    "        mu_x = tf.reshape(mu_x, (-1, *x.shape))\n",
    "        sigma_x = tf.reshape(sigma_x,(-1, *x.shape))\n",
    "        return get_gaussian_densities(x, mu_x, sigma_x)\n",
    "    return func"
   ]
  },
  {
   "cell_type": "code",
   "execution_count": 40,
   "metadata": {},
   "outputs": [],
   "source": [
    "def new_elbo(x,encoder, decoder, L=100, seed=0):\n",
    "    z_generators =  get_z_gaussian_generator(encoder)\n",
    "    func_log_p_z_theta = func_log_p_z_gaussian\n",
    "    func_log_q_z_x = get_func_log_q_z_x_gaussian(encoder)\n",
    "    func_log_p_x_z = get_func_log_p_x_z_gaussian(decoder)\n",
    "    options = {'length': L, 'seed':seed}\n",
    "    return abstract_elbo(x, z_generators, func_log_p_z_theta, func_log_q_z_x, func_log_p_x_z, options)"
   ]
  },
  {
   "cell_type": "code",
   "execution_count": 41,
   "metadata": {},
   "outputs": [],
   "source": [
    "def elbo(x,encoder, decoder, L=100, seed=0):\n",
    "    \n",
    "    batch = x.shape[0]\n",
    "    mu_z, log_sigma_z = encoder(x)\n",
    "    \n",
    "    dim = mu_z.shape[1]\n",
    "    \n",
    "    if seed:\n",
    "        np.random.seed(seed)\n",
    "    eps = np.random.normal(0, 1, size = (L, batch, dim))\n",
    "    \n",
    "    zs = tf.reshape(eps *tf.math.exp(log_sigma_z) + mu_z, (-1, dim))\n",
    "    mu_x, log_sigma_x = decoder(zs) # (L * batch, dim_x)\n",
    "    mu_x = tf.reshape(mu_x, (L, batch, -1))\n",
    "    log_sigma_x = tf.reshape(log_sigma_x, (L, batch, -1))\n",
    "    \n",
    "    minus_log_q = eps**2/2 + log_sigma_z + 0.5*tf.math.log(2*np.pi)\n",
    "    log_p = -(tf.dtypes.cast(tf.reshape(x, (batch, -1)), tf.float32)-mu_x)**2/(2 * tf.math.exp(2*log_sigma_x)) -log_sigma_x - 0.5*tf.math.log(2*np.pi)\n",
    "    log_pz = -zs**2/2 - 0.5*tf.math.log(2*np.pi)\n",
    "    return -(tf.math.reduce_sum(log_p) + tf.math.reduce_sum(minus_log_q) + tf.math.reduce_sum(log_pz))/L\n",
    "    "
   ]
  },
  {
   "cell_type": "code",
   "execution_count": 43,
   "metadata": {},
   "outputs": [
    {
     "name": "stdout",
     "output_type": "stream",
     "text": [
      "WARNING:tensorflow:Layer flatten_3 is casting an input tensor from dtype float64 to the layer's dtype of float32, which is new behavior in TensorFlow 2.  The layer has dtype float32 because it's dtype defaults to floatx.\n",
      "\n",
      "If you intended to run this layer in float32, you can safely ignore this warning. If in doubt, this warning is likely only an issue if you are porting a TensorFlow 1.X model to TensorFlow 2.\n",
      "\n",
      "To change all layers to have dtype float64 by default, call `tf.keras.backend.set_floatx('float64')`. To change just this layer, pass dtype='float64' to the layer constructor. If you are the author of this layer, you can disable autocasting by passing autocast=False to the base Layer constructor.\n",
      "\n"
     ]
    }
   ],
   "source": [
    "epochs=1000\n",
    "batch_size=32\n",
    "x = np.random.normal(0,1, size=(120,3,2))\n",
    "encoder, decoder = get_model_vae_gaussian(4,2,x.shape[1:],3)\n",
    "optimizer = tf.keras.optimizers.Adamax()\n",
    "assert (abs(elbo(x, encoder, decoder, L=1000,seed=1)-new_elbo(x, encoder, decoder, L=1000,seed=1)).numpy()) < 0.01"
   ]
  },
  {
   "cell_type": "code",
   "execution_count": null,
   "metadata": {},
   "outputs": [],
   "source": [
    "for epoch in range(epochs):\n",
    "    optimizer.minimize(lambda : elbo(x ,encoder, decoder), [encoder.trainable_variables, decoder.trainable_variables])\n",
    "    print(elbo(x ,encoder, decoder))"
   ]
  }
 ],
 "metadata": {
  "kernelspec": {
   "display_name": "Python 3",
   "language": "python",
   "name": "python3"
  },
  "language_info": {
   "codemirror_mode": {
    "name": "ipython",
    "version": 3
   },
   "file_extension": ".py",
   "mimetype": "text/x-python",
   "name": "python",
   "nbconvert_exporter": "python",
   "pygments_lexer": "ipython3",
   "version": "3.7.3"
  }
 },
 "nbformat": 4,
 "nbformat_minor": 2
}
