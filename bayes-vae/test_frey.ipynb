{
 "cells": [
  {
   "cell_type": "code",
   "execution_count": null,
   "metadata": {},
   "outputs": [],
   "source": [
    "import sys\n",
    "import time\n",
    "sys.path.append('../shared')\n",
    "import tensorflow as tf\n",
    "import pandas as pd\n",
    "import numpy as np\n",
    "from tensorflow import keras\n",
    "import matplotlib.pyplot as plt\n",
    "import copy\n",
    "import model_normal_simple as mns\n",
    "import model_vae_bayes as mvb\n",
    "import elbo_calculator as ec\n",
    "import train\n",
    "import argparse\n",
    "import os\n",
    "from scipy.io import loadmat\n",
    "import bayes_vae_tests as tests\n",
    "%load_ext autoreload"
   ]
  },
  {
   "cell_type": "code",
   "execution_count": null,
   "metadata": {},
   "outputs": [],
   "source": [
    "test_case_name='frey1'\n",
    "test_case = tests.test_cases[test_case_name]\n",
    "epochs = test_case['epochs']\n",
    "batch_size = test_case['batch_size']\n",
    "input_shape = test_case['input_shape']\n",
    "x = test_case['dataset_loader'](input_shape, test_case.get('options'))\n",
    "if test_case['model_class'] == mns.model_normal_simple:\n",
    "    model = mns.model_normal_simple()\n",
    "else:\n",
    "    dim_z_hidden, dim_z, dim_x_hidden = test_case['model_dims']\n",
    "    model = test_case['model_class'](\n",
    "        dim_z_hidden=dim_z_hidden,\n",
    "        dim_z=dim_z,\n",
    "        input_shape=x.shape[1:],\n",
    "        dim_x_hidden=dim_x_hidden)\n",
    "optimizer = tf.keras.optimizers.Adamax()\n",
    "options = test_case.get('options')\n",
    "print(options)\n",
    "report_frequency=test_case.get('report_frequency',1)\n",
    "start_time = time.time()\n",
    "for epoch in range(epochs):\n",
    "    loss_func = ec.elbo_calculator().get_loss_func_2()\n",
    "    loss = train.train_one_random_batch(model, x, optimizer, loss_func, y=None, batch_size=batch_size, options=options)\n",
    "    if ((epoch + 1) % report_frequency == 0):\n",
    "        elapsed = time.time()-start_time\n",
    "        print('epoch %s: loss = %s, elapsed = %s' %(epoch+1, -loss.numpy(), elapsed))\n",
    "        if ((epoch + 1) % (report_frequency*10) == 0):\n",
    "            model.encoder.save('%s_encoder.h5' % test_case_name)\n",
    "            model.decoder.save('%s_decoder.h5' % test_case_name)\n",
    "            z = np.random.normal(0,1,(1,dim_z))\n",
    "            mu_x, log_sigma_x = model.decoder(z)\n",
    "            img = np.reshape(mu_x.numpy(), (28,20))\n",
    "            plt.imshow(img)\n",
    "            plt.show()\n",
    "        start_time = time.time()"
   ]
  },
  {
   "cell_type": "code",
   "execution_count": null,
   "metadata": {},
   "outputs": [],
   "source": []
  }
 ],
 "metadata": {
  "kernelspec": {
   "display_name": "Python 3",
   "language": "python",
   "name": "python3"
  },
  "language_info": {
   "codemirror_mode": {
    "name": "ipython",
    "version": 3
   },
   "file_extension": ".py",
   "mimetype": "text/x-python",
   "name": "python",
   "nbconvert_exporter": "python",
   "pygments_lexer": "ipython3",
   "version": "3.7.3"
  }
 },
 "nbformat": 4,
 "nbformat_minor": 2
}
