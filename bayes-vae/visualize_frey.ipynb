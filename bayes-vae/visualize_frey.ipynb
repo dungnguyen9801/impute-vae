{
 "cells": [
  {
   "cell_type": "code",
   "execution_count": 4,
   "metadata": {},
   "outputs": [
    {
     "name": "stderr",
     "output_type": "stream",
     "text": [
      "UsageError: Line magic function `%autoreload` not found.\n"
     ]
    }
   ],
   "source": [
    "%matplotlib inline\n",
    "import sys\n",
    "sys.path.append('../shared')\n",
    "import matplotlib.pyplot as plt\n",
    "import tensorflow as tf\n",
    "import pandas as pd\n",
    "import numpy as np\n",
    "from tensorflow import keras\n",
    "import matplotlib.pyplot as plt\n",
    "import copy\n",
    "import model_normal_simple as mns\n",
    "import model_vae_bayes as mvb\n",
    "import elbo_calculator as ec\n",
    "import train\n",
    "import argparse\n",
    "import os\n",
    "from scipy.io import loadmat\n",
    "import bayes_vae_tests as tests\n",
    "%autoreload 2\n",
    "test_case_name='frey1'\n",
    "%load_ext autoreload"
   ]
  },
  {
   "cell_type": "code",
   "execution_count": 5,
   "metadata": {},
   "outputs": [
    {
     "name": "stdout",
     "output_type": "stream",
     "text": [
      "WARNING:tensorflow:No training configuration found in save file: the model was *not* compiled. Compile it manually.\n",
      "WARNING:tensorflow:No training configuration found in save file: the model was *not* compiled. Compile it manually.\n"
     ]
    }
   ],
   "source": [
    "%load_ext autoreload\n",
    "test_case_name='frey1'\n",
    "encoder = keras.models.load_model('%s_encoder_pretrained.h5' % test_case_name)\n",
    "decoder = keras.models.load_model('%s_decoder_pretrained.h5' % test_case_name)"
   ]
  },
  {
   "cell_type": "code",
   "execution_count": 6,
   "metadata": {},
   "outputs": [
    {
     "data": {
      "application/vnd.jupyter.widget-view+json": {
       "model_id": "cc4085f884ed430493f75d1e64f52c20",
       "version_major": 2,
       "version_minor": 0
      },
      "text/plain": [
       "interactive(children=(FloatSlider(value=0.0, description='humour', max=15.0, min=-15.0, step=3.0), FloatSlider…"
      ]
     },
     "metadata": {},
     "output_type": "display_data"
    }
   ],
   "source": [
    "from ipywidgets import FloatSlider, interact\n",
    "humour = FloatSlider(min=-15, max=15, step=3, value=0)\n",
    "pose = FloatSlider(min=-15, max=15, step=3, value=0)\n",
    "@interact(pose=pose, humour=humour)\n",
    "def do_thumb(humour, pose):\n",
    "    z = np.array([[pose, humour]]) * 0.05\n",
    "    mu_x, log_sigma_x = decoder(z)\n",
    "    face = np.reshape(mu_x.numpy(), (28,20))\n",
    "    plt.figure(figsize=(2, 2))\n",
    "    ax = plt.subplot(111)\n",
    "    ax.imshow(face)\n",
    "    plt.axis(\"off\")"
   ]
  },
  {
   "cell_type": "code",
   "execution_count": null,
   "metadata": {},
   "outputs": [],
   "source": [
    "%load_ext autoreload\n",
    "def train_frey1():\n",
    "    test_case_name='frey1'\n",
    "    test_case = tests.test_cases[test_case_name]\n",
    "    epochs = test_case['epochs']\n",
    "    batch_size = test_case['batch_size']\n",
    "    input_shape = test_case['input_shape']\n",
    "    x = test_case['dataset_loader'](input_shape, test_case.get('options'))\n",
    "    if test_case['model_class'] == mns.model_normal_simple:\n",
    "        model = mns.model_normal_simple()\n",
    "    else:\n",
    "        dim_z_hidden, dim_z, dim_x_hidden = test_case['model_dims']\n",
    "        model = test_case['model_class'](\n",
    "            dim_z_hidden=dim_z_hidden,\n",
    "            dim_z=dim_z,\n",
    "            input_shape=x.shape[1:],\n",
    "            dim_x_hidden=dim_x_hidden)\n",
    "    optimizer = tf.keras.optimizers.Adamax()\n",
    "    options = test_case.get('options')\n",
    "    report_frequency=test_case.get('report_frequency',1)\n",
    "    for epoch in range(epochs):\n",
    "        loss_func = ec.elbo_calculator().get_loss_func()\n",
    "        loss = train.train_one_random_batch(model, x, optimizer, loss_func, y=None, batch_size=batch_size, options=options)\n",
    "        if ((epoch + 1) % report_frequency == 0):\n",
    "            print('epoch %s: loss = %s' %(epoch+1, -loss.numpy()))\n",
    "            if ((epoch + 1) % (report_frequency*10) == 0):\n",
    "                model.encoder.save('%s_encoder.h5' % test_case_name)\n",
    "                model.decoder.save('%s_decoder.h5' % test_case_name)\n",
    "                z = np.random.normal(0,1,(1,dim_z))\n",
    "                mu_x, log_sigma_x = model.decoder(z)\n",
    "                img = np.reshape(mu_x.numpy(), (28,20))\n",
    "                plt.imshow(img)\n",
    "                plt.show()"
   ]
  }
 ],
 "metadata": {
  "kernelspec": {
   "display_name": "Python 3",
   "language": "python",
   "name": "python3"
  },
  "language_info": {
   "codemirror_mode": {
    "name": "ipython",
    "version": 3
   },
   "file_extension": ".py",
   "mimetype": "text/x-python",
   "name": "python",
   "nbconvert_exporter": "python",
   "pygments_lexer": "ipython3",
   "version": "3.7.3"
  }
 },
 "nbformat": 4,
 "nbformat_minor": 2
}
