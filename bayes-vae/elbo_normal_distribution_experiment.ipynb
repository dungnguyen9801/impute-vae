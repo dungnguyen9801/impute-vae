{
 "cells": [
  {
   "cell_type": "markdown",
   "metadata": {},
   "source": [
    "Model: $X = Z + \\epsilon$ where $Z$ and $\\epsilon$ are independent unit normal. \\\n",
    "Then $p(x|z) \\approx \\mathcal{N}(z, 1)$ and $q(z|x) \\approx \\mathcal{N}(x/2,1/\\sqrt{2})$. \\\n",
    "Let's numerically verify this: \n",
    "1. Generate $M$ value pairs for $(X,Z)$ where $X=x$ and verify that $Z$ is approximately $\\mathcal{N}(x/2,1/\\sqrt{2})$\n",
    "2. Generate $M$ value pairs for $(X,Z)$ where $Z=z$ and verify that $X$ is approximately $\\mathcal{N}(z,1)$"
   ]
  },
  {
   "cell_type": "code",
   "execution_count": 1,
   "metadata": {},
   "outputs": [],
   "source": [
    "import numpy as np\n",
    "from matplotlib import pyplot as plt\n",
    "from scipy import stats"
   ]
  },
  {
   "cell_type": "code",
   "execution_count": 2,
   "metadata": {},
   "outputs": [],
   "source": [
    "def gen_fixed_z(value, num):\n",
    "    eps = np.random.normal(0,1, size=num)\n",
    "    return list(zip(eps +value, [value]*num))"
   ]
  },
  {
   "cell_type": "code",
   "execution_count": 3,
   "metadata": {},
   "outputs": [],
   "source": [
    "def gen_fixed_x(value, num):\n",
    "    z_minus_eps = np.random.normal(0,1, size=num) - np.random.normal(0,1, size=num)\n",
    "    return list(zip([value]*num, z_minus_eps/2 + value/2))"
   ]
  },
  {
   "cell_type": "code",
   "execution_count": 4,
   "metadata": {},
   "outputs": [],
   "source": [
    "def test_p_x_z():\n",
    "    value = 2\n",
    "    num = 1000000\n",
    "    x_zs = gen_fixed_z(value, num)\n",
    "    xs = [x for (x,z) in x_zs]\n",
    "    assert(stats.jarque_bera(xs)[1] > .01)\n",
    "    plt.hist(xs, bins=1000)"
   ]
  },
  {
   "cell_type": "code",
   "execution_count": 5,
   "metadata": {},
   "outputs": [
    {
     "data": {
      "image/png": "[encoded data removed]",
      "text/plain": [
       "<Figure size 432x288 with 1 Axes>"
      ]
     },
     "metadata": {
      "needs_background": "light"
     },
     "output_type": "display_data"
    }
   ],
   "source": [
    "test_p_x_z()"
   ]
  },
  {
   "cell_type": "code",
   "execution_count": 6,
   "metadata": {},
   "outputs": [],
   "source": [
    "def test_q_z_x():\n",
    "    value = 2\n",
    "    num = 1000000\n",
    "    x_zs = gen_fixed_x(value, num)\n",
    "    zs = [z for (x,z) in x_zs]\n",
    "    assert(stats.jarque_bera(zs)[1] >.01)\n",
    "    plt.hist(zs, bins=1000)"
   ]
  },
  {
   "cell_type": "code",
   "execution_count": 7,
   "metadata": {
    "scrolled": true
   },
   "outputs": [
    {
     "data": {
      "image/png": "[encoded data removed]",
      "text/plain": [
       "<Figure size 432x288 with 1 Axes>"
      ]
     },
     "metadata": {
      "needs_background": "light"
     },
     "output_type": "display_data"
    }
   ],
   "source": [
    "test_q_z_x()"
   ]
  },
  {
   "cell_type": "markdown",
   "metadata": {},
   "source": [
    "### Evidence lower bound analysis"
   ]
  },
  {
   "cell_type": "markdown",
   "metadata": {},
   "source": [
    "Consider the following recogition model: \\\n",
    "$ q(Z|X) \\sim \\mathcal{N}(a_1X + b_1, \\sigma_1) \\ $ and $\\ p(X|Z) \\sim \\mathcal{N}(a_2Z + b_2, \\sigma_2)$ \\\n",
    "and also $Z$ has unit normal prior. Then the evidence lower bound function is\n",
    "\n",
    "$$\\text{elbo}(x,z) = -\\frac{1}{2} \\, z^{2} + \\frac{{\\left(a_{1} x + b_{1} - z\\right)}^{2}}{2 \\, \\sigma_{1}^{2}} - \\frac{{\\left(a_{2} z + b_{2} - x\\right)}^{2}}{2 \\, \\sigma_{2}^{2}} + \\log\\left(\\frac{\\sqrt{2}}{2 \\, \\sqrt{\\pi}}\\right) - \\log\\left(\\frac{1}{\\sigma_{1}}\\right) + \\log\\left(\\frac{1}{\\sigma_{2}}\\right)$$\n",
    "\n",
    "First we expand:\n",
    "$$\\frac{a_{1}^{2} x^{2}}{2 \\, \\sigma_{1}^{2}} - \\frac{a_{2}^{2} z^{2}}{2 \\, \\sigma_{2}^{2}} - \\frac{1}{2} \\, z^{2} + \\frac{a_{1} b_{1} x}{\\sigma_{1}^{2}} - \\frac{a_{2} b_{2} z}{\\sigma_{2}^{2}} - \\frac{a_{1} x z}{\\sigma_{1}^{2}} + \\frac{a_{2} x z}{\\sigma_{2}^{2}} + \\frac{b_{1}^{2}}{2 \\, \\sigma_{1}^{2}} - \\frac{b_{2}^{2}}{2 \\, \\sigma_{2}^{2}} + \\frac{b_{2} x}{\\sigma_{2}^{2}} - \\frac{x^{2}}{2 \\, \\sigma_{2}^{2}} - \\frac{b_{1} z}{\\sigma_{1}^{2}} + \\frac{z^{2}}{2 \\, \\sigma_{1}^{2}} + \\\\ \\log\\left(\\frac{\\sqrt{2}}{2 \\, \\sqrt{\\pi}}\\right) - \\log\\left(\\frac{1}{\\sigma_{1}}\\right) + \\log\\left(\\frac{1}{\\sigma_{2}}\\right)$$\n",
    "\n",
    "and then integrating over $z \\sim \\mathcal{N}(a_1x + b_1, \\sigma_1)$, with $Ez = a_1x + b_1$ amd $Ez^2 = (a_1x+b_1)^2 + \\sigma_1^2$\n",
    "\n",
    "\n",
    "$$\\newcommand{\\Bold}[1]{\\mathbf{#1}}-\\frac{1}{2} \\, a_{1}^{2} x^{2} - \\frac{a_{1}^{2} a_{2}^{2} x^{2}}{2 \\, \\sigma_{2}^{2}} - a_{1} b_{1} x - \\frac{a_{1} a_{2}^{2} b_{1} x}{\\sigma_{2}^{2}} - \\frac{1}{2} \\, b_{1}^{2} - \\frac{1}{2} \\, \\sigma_{1}^{2} - \\frac{a_{2}^{2} b_{1}^{2}}{2 \\, \\sigma_{2}^{2}} - \\frac{a_{2}^{2} \\sigma_{1}^{2}}{2 \\, \\sigma_{2}^{2}} - \\frac{a_{1} a_{2} b_{2} x}{\\sigma_{2}^{2}} + \\frac{a_{1} a_{2} x^{2}}{\\sigma_{2}^{2}} - \\frac{a_{2} b_{1} b_{2}}{\\sigma_{2}^{2}} + \\frac{a_{2} b_{1} x}{\\sigma_{2}^{2}} - \\frac{b_{2}^{2}}{2 \\, \\sigma_{2}^{2}} + \\frac{b_{2} x}{\\sigma_{2}^{2}} - \\frac{x^{2}}{2 \\, \\sigma_{2}^{2}} + \\log\\left(\\sigma_{1}\\right) - \\log\\left(\\sigma_{2}\\right) + \\log\\left(\\frac{\\sqrt{2}}{2 \\, \\sqrt{\\pi}}\\right) + \\frac{1}{2}$$"
   ]
  },
  {
   "cell_type": "markdown",
   "metadata": {},
   "source": [
    "Now we integrate over $x \\sim \\mathcal{N}(0,2)$, with $Ex = 0\\ $ and $\\ Ex^2 = 2$ to get:\n",
    "$$F = \\newcommand{\\Bold}[1]{\\mathbf{#1}}-a_{1}^{2} - \\frac{1}{2} \\, b_{1}^{2} - \\frac{1}{2} \\, \\sigma_{1}^{2} - \\frac{a_{1}^{2} a_{2}^{2}}{\\sigma_{2}^{2}} - \\frac{a_{2}^{2} b_{1}^{2}}{2 \\, \\sigma_{2}^{2}} - \\frac{a_{2}^{2} \\sigma_{1}^{2}}{2 \\, \\sigma_{2}^{2}} - \\frac{a_{2} b_{1} b_{2}}{\\sigma_{2}^{2}} + \\frac{2 \\, a_{1} a_{2}}{\\sigma_{2}^{2}} - \\frac{b_{2}^{2}}{2 \\, \\sigma_{2}^{2}} - \\frac{1}{\\sigma_{2}^{2}} + \\log\\left(\\sigma_{1}\\right) - \\log\\left(\\sigma_{2}\\right) + \\log\\left(\\frac{\\sqrt{2}}{2 \\, \\sqrt{\\pi}}\\right) + \\frac{1}{2}\n",
    "$$\n"
   ]
  },
  {
   "cell_type": "markdown",
   "metadata": {},
   "source": [
    "The following are the partial derivatives:\n",
    "\\begin{eqnarray*}\n",
    "\\frac{\\partial{F}}{\\partial{a_1}} &=& -2 \\, a_{1} - \\frac{2 \\, a_{1} a_{2}^{2}}{\\sigma_{2}^{2}} + \\frac{2 \\, a_{2}}{\\sigma_{2}^{2}} \\\\\n",
    "\\frac{\\partial{F}}{\\partial{a_2}} &=& -\\frac{2 \\, a_{1}^{2} a_{2}}{\\sigma_{2}^{2}} - \\frac{a_{2} b_{1}^{2}}{\\sigma_{2}^{2}} - \\frac{a_{2} \\sigma_{1}^{2}}{\\sigma_{2}^{2}} - \\frac{b_{1} b_{2}}{\\sigma_{2}^{2}} + \\frac{2 \\, a_{1}}{\\sigma_{2}^{2}} \\\\\n",
    "\\frac{\\partial{F}}{\\partial{b_1}} &=& \\newcommand{\\Bold}[1]{\\mathbf{#1}}-\\frac{2 \\, a_{1}^{2} b_{1}}{\\sigma_{2}^{2}} - \\frac{a_{2}^{2} b_{1}}{\\sigma_{2}^{2}} - \\frac{b_{1} \\sigma_{1}^{2}}{\\sigma_{2}^{2}} - \\frac{a_{2} b_{2}}{\\sigma_{2}^{2}} + \\frac{2 \\, a_{1}}{\\sigma_{2}^{2}}\\\\\n",
    "\\frac{\\partial{F}}{\\partial{b_2}} &=& \\newcommand{\\Bold}[1]{\\mathbf{#1}}-\\frac{a_{2} b_{1}}{\\sigma_{2}^{2}} - \\frac{b_{2}}{\\sigma_{2}^{2}} \\\\\n",
    "\\frac{\\partial{F}}{\\partial{\\sigma_1}} &=& \\newcommand{\\Bold}[1]{\\mathbf{#1}}-\\sigma_{1} - \\frac{b_{1}^{2} \\sigma_{1}}{\\sigma_{2}^{2}} + \\frac{1}{\\sigma_{1}} \\\\\n",
    "\\frac{\\partial{F}}{\\partial{\\sigma_2}} &=& \\newcommand{\\Bold}[1]{\\mathbf{#1}}\\frac{2 \\, a_{1}^{2} b_{1}^{2}}{\\sigma_{2}^{3}} + \\frac{a_{2}^{2} b_{1}^{2}}{\\sigma_{2}^{3}} + \\frac{b_{1}^{2} \\sigma_{1}^{2}}{\\sigma_{2}^{3}} + \\frac{2 \\, a_{2} b_{1} b_{2}}{\\sigma_{2}^{3}} - \\frac{4 \\, a_{1} b_{1}}{\\sigma_{2}^{3}} + \\frac{b_{2}^{2}}{\\sigma_{2}^{3}} - \\frac{1}{\\sigma_{2}} + \\frac{2}{\\sigma_{2}^{3}}\n",
    "\\end{eqnarray*}"
   ]
  },
  {
   "cell_type": "markdown",
   "metadata": {},
   "source": [
    "We can see that $a_1 = 1/2, a_2 = 1, b_1 = b_2 = 0, \\sigma_1 = 1/\\sqrt{2}, \\sigma_2 = 1$ is a stationary point"
   ]
  },
  {
   "cell_type": "markdown",
   "metadata": {},
   "source": [
    "Now we will run tensorflow to see if it can discover this point by maximizing $F$."
   ]
  },
  {
   "cell_type": "code",
   "execution_count": 8,
   "metadata": {},
   "outputs": [],
   "source": [
    "import tensorflow as tf"
   ]
  },
  {
   "cell_type": "code",
   "execution_count": 9,
   "metadata": {},
   "outputs": [],
   "source": [
    "def loss(a1,a2,b1,b2,sigma1,sigma2):\n",
    "    return (-a1**2 - 1/2*b1**2 - 1/2*sigma1**2 - a1**2*a2**2/sigma2**2 \n",
    "            -1/2*a2**2*b1**2/sigma2**2 - 1/2*a2**2*sigma1**2/sigma2**2\n",
    "            -a2*b1*b2/sigma2**2 + 2*a1*a2/sigma2**2 - 1/2*b2**2/sigma2**2\n",
    "            -1/sigma2**2 + tf.math.log(sigma1) - tf.math.log(sigma2)\n",
    "            + tf.math.log(1/2*tf.sqrt(2.0)/tf.sqrt(np.pi)) + 1/2)"
   ]
  },
  {
   "cell_type": "code",
   "execution_count": 10,
   "metadata": {},
   "outputs": [
    {
     "name": "stdout",
     "output_type": "stream",
     "text": [
      "[0.8, 0.7, 0.7, 0.8, 0.9, 1.4, -4.9189386]\n",
      "[0.26774672, 0.53549397, -2.9368648e-21, 6.7602745e-21, 0.9255394, 1.308911, -1.7655122]\n",
      "[0.26774672, 0.53549397, -3.6871e-41, 8.4872e-41, 0.9255394, 1.308911, -1.7655122]\n",
      "[0.26774672, 0.53549397, -8e-45, 1.5e-44, 0.9255394, 1.308911, -1.7655122]\n",
      "[0.26774672, 0.53549397, -8e-45, 1.5e-44, 0.9255394, 1.308911, -1.7655122]\n",
      "[0.26774672, 0.53549397, -8e-45, 1.5e-44, 0.9255394, 1.308911, -1.7655122]\n",
      "[0.26774672, 0.53549397, -8e-45, 1.5e-44, 0.9255394, 1.308911, -1.7655122]\n",
      "[0.26774672, 0.53549397, -8e-45, 1.5e-44, 0.9255394, 1.308911, -1.7655122]\n",
      "[0.26774672, 0.53549397, -8e-45, 1.5e-44, 0.9255394, 1.308911, -1.7655122]\n",
      "[0.26774672, 0.53549397, -8e-45, 1.5e-44, 0.9255394, 1.308911, -1.7655122]\n"
     ]
    }
   ],
   "source": [
    "a1 = tf.Variable(1.0)\n",
    "b1 = tf.Variable(1.0)\n",
    "a2 = tf.Variable(1.0)\n",
    "b2 = tf.Variable(1.0)\n",
    "sigma1 = tf.Variable(1.0)\n",
    "sigma2 = tf.Variable(1.0)\n",
    "epochs = 10000\n",
    "optimizer = tf.keras.optimizers.Adamax()\n",
    "learning_rate = 0.1\n",
    "for epoch in range(epochs):\n",
    "    with tf.GradientTape() as t:\n",
    "        t.watch([a1, a2, b1, b2, sigma1, sigma2])\n",
    "        F = loss(a1,a2,b1,b2,sigma1,sigma2)\n",
    "        da1, da2, db1, db2, dsigma1, dsigma2 = t.gradient(F, [a1, a2, b1, b2, sigma1, sigma2])\n",
    "        a1.assign_add(learning_rate*da1)\n",
    "        a2.assign_add(learning_rate*da2)\n",
    "        b1.assign_add(learning_rate*db1)\n",
    "        b2.assign_add(learning_rate*db2)\n",
    "        sigma1.assign_add(learning_rate*dsigma1)\n",
    "        sigma2.assign_add(learning_rate*dsigma2)\n",
    "        if epoch % 1000 == 0:\n",
    "            print([x.numpy() for x in [a1,a2,b1,b2,sigma1,sigma2,F]])\n",
    "        "
   ]
  },
  {
   "cell_type": "code",
   "execution_count": 11,
   "metadata": {},
   "outputs": [
    {
     "name": "stdout",
     "output_type": "stream",
     "text": [
      "tf.Tensor(-1.7655122, shape=(), dtype=float32)\n"
     ]
    }
   ],
   "source": [
    "tf.keras.backend.set_floatx('float32')\n",
    "print(loss(0.5,1.0,0.0,0.0,1/tf.sqrt(2.0),1.0))"
   ]
  },
  {
   "cell_type": "markdown",
   "metadata": {},
   "source": [
    "There are many optimal solutions and the analytical solution above is one of them.\\\n",
    "However, the model actually imposes more constraints on the parameters than we have used.\\\n",
    "We can see that\n",
    "\\begin{eqnarray*}\n",
    "EX &=& E_Z(a_2Z+b_2) = b_2 \\\\\n",
    "EX^2 &=& E_Z(a_2Z^2+b_2) =  \\sigma_2^2 + a_2^2 + b_2^2 \\\\\n",
    "EZ^2 &=& E_X(EZ^2|X) = E_X(a_1X + b_1X)^2 + \\sigma_2^2 \\\\\n",
    "&=& a_1^2EX^2  + 2a_1b_1EX + b_1^2 + \\sigma_1^2 \\\\\n",
    "&=& a_1^2(\\sigma_2^2 + a_2^2 + b_2^2) + 2a_1b_1b_2 + b_1^2 + \\sigma_1^2 = 1\n",
    "\\end{eqnarray*}"
   ]
  },
  {
   "cell_type": "markdown",
   "metadata": {},
   "source": [
    "Now we will replace $\\sigma_1^2$ by $1 - a_1^2(\\sigma_2^2 + a_2^2 + b_2^2) - 2a_1b_1b_2 - b_1^2$ and try the optimization again."
   ]
  },
  {
   "cell_type": "code",
   "execution_count": 12,
   "metadata": {},
   "outputs": [],
   "source": [
    "def get_sigma1(a1,a2,b1,b2,sigma2):\n",
    "    return tf.sqrt(1.0 - a1**2*(sigma2**2 + a2**2 + b2**2) - 2*a1*b1*b2 - b1**2)"
   ]
  },
  {
   "cell_type": "code",
   "execution_count": 13,
   "metadata": {},
   "outputs": [],
   "source": [
    "def loss2(a1,a2,b1,b2,sigma2):\n",
    "    sigma1 = get_sigma1(a1,a2,b1,b2,sigma2)\n",
    "    return loss(a1,a2,b1,b2,sigma1,sigma2)"
   ]
  },
  {
   "cell_type": "code",
   "execution_count": 14,
   "metadata": {},
   "outputs": [],
   "source": [
    "def constraint(a1,a2,b1,b2,sigma1,sigma2):\n",
    "    return a1**2*(sigma2**2 + a2**2 + b2**2) + 2*a1*b1*b2 + b1**2 + sigma1**2"
   ]
  },
  {
   "cell_type": "code",
   "execution_count": 15,
   "metadata": {},
   "outputs": [
    {
     "name": "stdout",
     "output_type": "stream",
     "text": [
      "[0.099657714, 0.10892073, 0.08876026, 0.088986024, 0.9891274, 1.0981951, -1.9251027]\n",
      "[0.07588988, 0.15177853, -5.249129e-05, 0.00036689814, 0.9942241, 1.4060409, -1.7655122]\n",
      "[0.07588961, 0.15177909, -3.4159007e-07, 2.3015466e-06, 0.9942241, 1.4060446, -1.7655122]\n",
      "[0.07588961, 0.15177909, -2.1447066e-09, 1.444878e-08, 0.9942241, 1.4060446, -1.7655122]\n",
      "[0.07588961, 0.15177909, -1.3464203e-11, 9.070763e-11, 0.9942241, 1.4060446, -1.7655122]\n",
      "[0.07588961, 0.15177909, -8.452661e-14, 5.6945133e-13, 0.9942241, 1.4060446, -1.7655122]\n",
      "[0.07588961, 0.15177909, -5.306476e-16, 3.574945e-15, 0.9942241, 1.4060446, -1.7655122]\n",
      "[0.07588961, 0.15177909, -3.3313396e-18, 2.244306e-17, 0.9942241, 1.4060446, -1.7655122]\n",
      "[0.07588961, 0.15177909, -2.091373e-20, 1.408947e-19, 0.9942241, 1.4060446, -1.7655122]\n",
      "[0.07588961, 0.15177909, -1.3129378e-22, 8.845191e-22, 0.9942241, 1.4060446, -1.7655122]\n"
     ]
    }
   ],
   "source": [
    "a1 = tf.Variable(0.1)\n",
    "b1 = tf.Variable(0.1)\n",
    "a2 = tf.Variable(0.1)\n",
    "b2 = tf.Variable(0.1)\n",
    "sigma2 = tf.Variable(1.0)\n",
    "epochs = 1000\n",
    "optimizer = tf.keras.optimizers.Adamax()\n",
    "learning_rate = 0.1\n",
    "for epoch in range(epochs):\n",
    "    with tf.GradientTape() as t:\n",
    "        t.watch([a1, a2, b1, b2, sigma2])\n",
    "        F = loss2(a1,a2,b1,b2,sigma2)\n",
    "        da1, da2, db1, db2, dsigma2 = t.gradient(F, [a1, a2, b1, b2, sigma2])\n",
    "        a1.assign_add(learning_rate*da1)\n",
    "        a2.assign_add(learning_rate*da2)\n",
    "        b1.assign_add(learning_rate*db1)\n",
    "        b2.assign_add(learning_rate*db2)\n",
    "        sigma2.assign_add(learning_rate*dsigma2)\n",
    "        if epoch % 100 == 0:\n",
    "            sigma1 = get_sigma1(a1,a2,b1,b2,sigma2)\n",
    "            print([x.numpy() for x in [a1,a2,b1,b2,sigma1, sigma2,F]])"
   ]
  },
  {
   "cell_type": "markdown",
   "metadata": {},
   "source": [
    "We still couldn't get the desired solution. More constraints are needed."
   ]
  }
 ],
 "metadata": {
  "kernelspec": {
   "display_name": "Python 3",
   "language": "python",
   "name": "python3"
  },
  "language_info": {
   "codemirror_mode": {
    "name": "ipython",
    "version": 3
   },
   "file_extension": ".py",
   "mimetype": "text/x-python",
   "name": "python",
   "nbconvert_exporter": "python",
   "pygments_lexer": "ipython3",
   "version": "3.7.3"
  }
 },
 "nbformat": 4,
 "nbformat_minor": 2
}
