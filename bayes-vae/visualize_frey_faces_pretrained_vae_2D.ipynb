{
 "cells": [
  {
   "cell_type": "code",
   "execution_count": 1,
   "metadata": {},
   "outputs": [],
   "source": [
    "%matplotlib inline\n",
    "import sys\n",
    "import matplotlib.pyplot as plt\n",
    "from tensorflow import keras\n",
    "import numpy as np"
   ]
  },
  {
   "cell_type": "code",
   "execution_count": 2,
   "metadata": {},
   "outputs": [
    {
     "name": "stdout",
     "output_type": "stream",
     "text": "WARNING:tensorflow:No training configuration found in save file: the model was *not* compiled. Compile it manually.\nWARNING:tensorflow:No training configuration found in save file: the model was *not* compiled. Compile it manually.\n"
    }
   ],
   "source": [
    "test_case_name='frey1'\n",
    "encoder = keras.models.load_model('%s_encoder_pretrained.h5' % test_case_name)\n",
    "decoder = keras.models.load_model('%s_decoder_pretrained.h5' % test_case_name)"
   ]
  },
  {
   "cell_type": "code",
   "execution_count": 3,
   "metadata": {},
   "outputs": [
    {
     "data": {
      "image/png": "[encoded data removed]",
      "image/svg+xml": "<?xml version=\"1.0\" encoding=\"utf-8\" standalone=\"no\"?>\n<!DOCTYPE svg PUBLIC \"-//W3C//DTD SVG 1.1//EN\"\n  \"http://www.w3.org/Graphics/SVG/1.1/DTD/svg11.dtd\">\n<!-- Created with matplotlib (https://matplotlib.org/) -->\n<svg height=\"123.12pt\" version=\"1.1\" viewBox=\"0 0 92.057143 123.12\" width=\"92.057143pt\" xmlns=\"http://www.w3.org/2000/svg\" xmlns:xlink=\"http://www.w3.org/1999/xlink\">\n <defs>\n  <style type=\"text/css\">\n*{stroke-linecap:butt;stroke-linejoin:round;}\n  </style>\n </defs>\n <g id=\"figure_1\">\n  <g id=\"patch_1\">\n   <path d=\"M 0 123.12 \nL 92.057143 123.12 \nL 92.057143 0 \nL 0 0 \nz\n\" style=\"fill:none;\"/>\n  </g>\n  <g id=\"axes_1\">\n   <g clip-path=\"url(#p72b7e52245)\">\n    <image height=\"109\" id=\"image824dc190b1\" transform=\"scale(1 -1)translate(0 -109)\" width=\"78\" x=\"7.2\" xlink:href=\"data:image/png;base64,\niVBORw0KGgoAAAANSUhEUgAAAE4AAABtCAYAAAAPkleFAAAABHNCSVQICAgIfAhkiAAACQNJREFUeJztXUlvHMcV7qV6enr2hZuoLdoo2YhgK5EtG4iRBDbggw82cs0/yDl/IocEPuYPBPDFxxwC+OAFgW+JbBo2nMiyR6JEUhySQ87ea27s/j5Co+CBx/ed+E1V11S/qf74XtWravvqn/6cWQV4Q7tIrbgGxZZF1Izz+jaVMVJDHzjU1oj4dPH1aQl52MAORM305O/MT6Es6GLjzSrywagC3Kabo64r/l+o4YRQwwlhvBFqWuZhBdYV1rHUL3yQUVsOVmZNygyWx2W83kmwfkLXJ3WsYMd4Pegx9S1Nkc9CvPHAD4G7jmrcmUANJ4QaTggTttG/8YZoyzTAcjskHQsKflyKOmCTRjFSD+tnDbzAq8+Bd+rkaw0D4NGgjF/gFfrO2pzgfd5cegbcoQtu1napXCGCGk4INZwQJqmghoFfZllWVmKNc5GDr7T4yxx0jSx3jr9bdkS8j07kcFYDnrSob6yZBdfMpvuII7yPMEHe9SfAr/isgQoR1HBCqOGEMKaJwhNPODglmj6fs8RlKBun4tzSPjZe38LGK9vox8UVbHC8hvHl4BbNJRaoU0YfMaP7GEboA763vAm84c6A64gTQg0nhFntHMMHSRuH+06vCzwt0b/8wpOdveCxTv3FnbFT/B2nHXx8Eh+/IELvxIqrFOMVntWEJMhv8qOH99Wlefxf+DtUXyGCGk4INZwQZhrhs++QTrEPkQXEi1UphHKI8zRTVKdwz8P6cY0ucNmfIRGdobsSbOV8egnbWmsNgYcpXvtwvgL8naAPXEecEGo4IdRwQphr7X344P7WeapB0+EeTeUUNDBNaG2RYMfIW9/h71bdpTQFCrkyl0KqKurzrIPt9e/kfWusol9WNhHwisHQ89G8A3ySoUbqiBNCDSeEGk4Is+SP4YM4RN04pWnOgrQvQ9PTDaxqR6hRI4O/W9hEX2qyhKlWDmlkRj/7/l3UoavX8/iyTVPhDqdtEffI6RymmgJxJlDDCaGGE8J82rsOH2QRxZs++S/O82NVN6C6Lq0H0oRd5GPeVrSE1e17qL+NAOfQPrjwFfAbPqYpPCuI7IRyzP51fMlahHOlI+AzWgfQESeEGk4INZwQZrpHvlIdYzj22xwXfbWskBLqeqhxJQ8dr4TWFDgNgeF83gL+9Ca2d7SGfb9R20Pu5Xxzvg5lnRL6dQchttV0sfwJOaU64oRQwwmhhhPCeC2a8yJfizWN/Ti7UG4MalxQQr1Mqe3xIaailh+hr9X5Dq+PA5zve3gbHb96B7//pzhfeO2FWLdCOWdjZ/Gi7zDFvuqIE0INJ4QaTghzyi8jHWLdWlTeolhyTNt8JjPUkda/UdNWv8T4sP8q+k6VHdTXbz5+Cfhffo9rpUVNXSlhWc1FbT92UMMmlOhSdlBvdcQJoYYTQg0nhHmRprmkgS7NzVcK2xNXKqgjOxlq1EG/Djw5j22xpu2/gbFp+TFqZutNnH/bPMR49O2V70/+vkrp9oMEY9PDGDljL8a+64gTQg0nhBpOCJPQ9sOyj/5KieNPD8uXgjwnYz1APyykfenbXhN41EENO34H48ffbWDK/Lu/Rf7Xp7/B9seokfeqD07+vmgw13knqQJnPy3MsO+jBPORdcQJoYYTwiRTHJKVNroUnoPuSMPHsKq4y25Oj+apFPg2plrtZ5hv//rlHvA/Ln8OnDdcP5ugi/D2uf8AHxQexzWX0rxsfDR/HTwE3qOp8lCXB88Gajgh1HBCGItOh/FdVBJO+Yxpie/xOF/CmyeocbwcWKK2TQn5Me3gqzioK09j1My7y4+A3x9cAL49y92fXu0plL1f/xr4JYMhV2Sh1v9j9DJwHXFCqOGEUMMJYeyYTrahaaZRiFPI8xh17GCQ+0op766mE7OqK5i2xegdtoF/Q989o6PGPtvCFLXBAYZR3xb680XnGpRt38Tw7w/dL4BzcsZHj38JXEecEGo4IdRwQphqD5/mg3Poz4yf0fTLNuqYWzgZp0qnOtBMjRU+pmmlVfTjljcwnrzh4eldH/Zfxb59i5rY2MHvd+d53+ZtvI+PozvADzaw/N0OTmFt/7AMXEecEGo4IdRwQpjWA9SZrQ1MBTAD1MDl+zjdHdZy2zf/9iWU2Xd/jt9mowbt3sP5tGwDqycZxqYfbd4FfvGftJQZ0rbN/+aprP23cOmwvI8+4qf72NfqW5giETzR+bgzgRpOCDWcEKb2AJf07Cn6WgkdcTG4jn5c7Ule7ryCaVdRDdO45m2MNflIob0BrkF8uP8r4KWfUJfCOmpgbQsdx+xwcPJ3sIfHYUxW8T7SFl67NcGtAkubqO064oRQwwmhhhPC2FNMO+Dt3ykdLZb46M9Elbz+6BquRXojOkl6TG2VF29JGsa4BjE/jzo020UNtSn91Fm5dfL30RX8rtFLeN/r5w6BH4Xoz1Z6mEKhI04INZwQajghjB0vPgK/RusE45DSUQuaN1lFHUkCWs+gE4SSCzjf9rOlgbUIrSWcrxvcRk2NH/BrmHKML+N91rt4X3e6T4B/8iMGzlfn2FcdcUKo4YRQwwlhrIjO3aH40VB+3Mo1PDattJFrR6eM27H7U5zHTyg4vdI4AP5mC3PULpdwq3jHQ13aXaP0/pdxvaRdynXptcaPUPYG5cPtJNjW37++DTzjo0EshQhqOCFMFmCYcuqlYIRWGf8tX67lj9udGqZdcSZ3QsdvXfTwsT9PmeER1V9p3AfOJ265lDq7bnIZ8kiDKg76RkmIaV0sWVZMO8UthQhqOCHUcEIYy1v8VkZO++LdhsXdhAn9DhUHl9g2PNzB13FRA8eU+urR8fzrBrcKNB2cVvJt5EkhLcy1HSqjF7nZOM3U6mJ4l5V5K4JCBDWcEGo4IcxoA5fB2H/h00pdCsGKKfbfT9agrO/hFFSXtgUl1pQ4vfyHtg29CNGp06Gf75Om5POV+RTWEU6dL/t6KuuZQA0nhBpOCBNW6UWJZEqbNC6iN22MojzWZZ/Pp6OifwhXgd/ycZtQy0E/rUp6OqQXhlgW+l48Csp23lff8qguvXybtlUmQ6w/x6xZHXFSqOGEUMMJ8T/A++Nc85ipZwAAAABJRU5ErkJggg==\" y=\"-6.92\"/>\n   </g>\n  </g>\n </g>\n <defs>\n  <clipPath id=\"p72b7e52245\">\n   <rect height=\"108.72\" width=\"77.657143\" x=\"7.2\" y=\"7.2\"/>\n  </clipPath>\n </defs>\n</svg>\n",
      "text/plain": "<Figure size 144x144 with 1 Axes>"
     },
     "metadata": {
      "needs_background": "light"
     },
     "output_type": "display_data"
    }
   ],
   "source": [
    "from ipywidgets import FloatSlider, interact\n",
    "humour = FloatSlider(min=-15, max=15, step=3, value=0)\n",
    "pose = FloatSlider(min=-15, max=15, step=3, value=0)\n",
    "@interact(pose=pose, humour=humour)\n",
    "def do_thumb(humour, pose):\n",
    "    z = np.array([[pose, humour]]) * 0.05\n",
    "    mu_x, log_sigma_x = decoder(z)\n",
    "    face = np.reshape(mu_x.numpy(), (28,20))\n",
    "    plt.figure(figsize=(2, 2))\n",
    "    ax = plt.subplot(111)\n",
    "    ax.imshow(face)\n",
    "    plt.axis(\"off\")"
   ]
  },
  {
   "cell_type": "code",
   "execution_count": null,
   "metadata": {},
   "outputs": [],
   "source": []
  }
 ],
 "metadata": {
  "kernelspec": {
   "display_name": "Python 3",
   "language": "python",
   "name": "python3"
  },
  "language_info": {
   "codemirror_mode": {
    "name": "ipython",
    "version": 3
   },
   "file_extension": ".py",
   "mimetype": "text/x-python",
   "name": "python",
   "nbconvert_exporter": "python",
   "pygments_lexer": "ipython3",
   "version": "3.7.3"
  }
 },
 "nbformat": 4,
 "nbformat_minor": 2
}